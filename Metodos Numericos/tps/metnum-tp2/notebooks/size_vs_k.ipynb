{
 "cells": [
  {
   "cell_type": "markdown",
   "metadata": {},
   "source": [
    "# Reconocimiento de dígitos con KNN\n",
    "\n"
   ]
  },
  {
   "cell_type": "markdown",
   "metadata": {},
   "source": [
    "Definir los path al ejecutable de python 3.6 y sus librerías,\n",
    "de acuerdo al virtual env que estén corriendo."
   ]
  },
  {
   "cell_type": "code",
   "execution_count": 1,
   "metadata": {},
   "outputs": [
    {
     "name": "stdout",
     "output_type": "stream",
     "text": [
      "mkdir: cannot create directory ‘build’: File exists\n",
      "-- The C compiler identification is GNU 9.3.0\n",
      "-- The CXX compiler identification is GNU 9.3.0\n",
      "-- Detecting C compiler ABI info\n",
      "-- Detecting C compiler ABI info - done\n",
      "-- Check for working C compiler: /usr/bin/cc - skipped\n",
      "-- Detecting C compile features\n",
      "-- Detecting C compile features - done\n",
      "-- Detecting CXX compiler ABI info\n",
      "-- Detecting CXX compiler ABI info - done\n",
      "-- Check for working CXX compiler: /usr/bin/c++ - skipped\n",
      "-- Detecting CXX compile features\n",
      "-- Detecting CXX compile features - done\n",
      "Release mode\n",
      "-- Found PythonInterp: /home/ryan/.virtualenvs/metnum-tp2/bin/python (found version \"3.8.5\") \n",
      "-- Found PythonLibs: /usr/lib/x86_64-linux-gnu/libpython3.8.so\n",
      "-- pybind11 v2.2.4\n",
      "-- Performing Test HAS_FLTO\n",
      "-- Performing Test HAS_FLTO - Success\n",
      "-- LTO enabled\n",
      "CMAKE_INSTALL_PREFIX=/home/ryan/UBA/METODOS/metnum-tp2\n",
      "-- Configuring done\n",
      "-- Generating done\n",
      "-- Build files have been written to: /home/ryan/UBA/METODOS/metnum-tp2/build\n",
      "\u001b[35m\u001b[1mScanning dependencies of target tp2\u001b[0m\n",
      "[  8%] \u001b[32mBuilding CXX object CMakeFiles/tp2.dir/src/main.cpp.o\u001b[0m\n",
      "[ 16%] \u001b[32mBuilding CXX object CMakeFiles/tp2.dir/src/knn.cpp.o\u001b[0m\n",
      "[ 25%] \u001b[32mBuilding CXX object CMakeFiles/tp2.dir/src/pca.cpp.o\u001b[0m\n",
      "[ 33%] \u001b[32mBuilding CXX object CMakeFiles/tp2.dir/src/eigen.cpp.o\u001b[0m\n",
      "[ 41%] \u001b[32mBuilding CXX object CMakeFiles/tp2.dir/src/Clases/Test.cpp.o\u001b[0m\n",
      "[ 50%] \u001b[32mBuilding CXX object CMakeFiles/tp2.dir/src/Clases/Training.cpp.o\u001b[0m\n",
      "[ 58%] \u001b[32m\u001b[1mLinking CXX executable tp2\u001b[0m\n",
      "[ 58%] Built target tp2\n",
      "\u001b[35m\u001b[1mScanning dependencies of target metnum\u001b[0m\n",
      "[ 66%] \u001b[32mBuilding CXX object CMakeFiles/metnum.dir/src/metnum.cpp.o\u001b[0m\n",
      "[ 75%] \u001b[32mBuilding CXX object CMakeFiles/metnum.dir/src/knn.cpp.o\u001b[0m\n",
      "[ 83%] \u001b[32mBuilding CXX object CMakeFiles/metnum.dir/src/pca.cpp.o\u001b[0m\n",
      "[ 91%] \u001b[32mBuilding CXX object CMakeFiles/metnum.dir/src/eigen.cpp.o\u001b[0m\n",
      "[100%] \u001b[32m\u001b[1mLinking CXX shared module metnum.cpython-38-x86_64-linux-gnu.so\u001b[0m\n",
      "[100%] Built target metnum\n",
      "\u001b[36mInstall the project...\u001b[0m\n",
      "-- Install configuration: \"Release\"\n",
      "-- Installing: /home/ryan/UBA/METODOS/metnum-tp2/notebooks/metnum.cpython-38-x86_64-linux-gnu.so\n"
     ]
    }
   ],
   "source": [
    "!cd .. && mkdir build\n",
    "!cd ../build/ && rm -rf *\n",
    "!cd ../build && cmake \\\n",
    "  -DPYTHON_EXECUTABLE=\"$(which python)\" \\\n",
    "  -DCMAKE_BUILD_TYPE=Release ..\n",
    "!cd ../build && make install"
   ]
  },
  {
   "cell_type": "code",
   "execution_count": 2,
   "metadata": {},
   "outputs": [],
   "source": [
    "import dill\n",
    "knn_df_file = open(\"data/knn_df\", \"rb\")\n",
    "try:\n",
    "    data = knn_df_file.read()\n",
    "    knn_df = dill.loads(data)\n",
    "finally:\n",
    "    knn_df_file.close()\n",
    "    \n",
    "pca_df_file = open(\"data/pca_df\", \"rb\")\n",
    "try:\n",
    "    data = pca_df_file.read()\n",
    "    pca_df = dill.loads(data)\n",
    "finally:\n",
    "    pca_df_file.close()"
   ]
  },
  {
   "cell_type": "code",
   "execution_count": 4,
   "metadata": {},
   "outputs": [
    {
     "name": "stdout",
     "output_type": "stream",
     "text": [
      "/home/ryan/UBA/METODOS/metnum-tp2/notebooks\n",
      "Python 3.8.5\n"
     ]
    }
   ],
   "source": [
    "# Verifico la correcta instalación. Si no falla el import está OK\n",
    "!pwd\n",
    "!python --version\n",
    "import metnum\n",
    "from commons import *\n"
   ]
  },
  {
   "cell_type": "markdown",
   "metadata": {},
   "source": [
    "## Explorando los datos"
   ]
  },
  {
   "cell_type": "code",
   "execution_count": 7,
   "metadata": {},
   "outputs": [],
   "source": [
    "%load_ext autoreload\n",
    "%autoreload 2\n",
    "import pandas as pd\n",
    "\n",
    "df_train = pd.read_csv(\"../data/train.csv\")"
   ]
  },
  {
   "cell_type": "markdown",
   "metadata": {},
   "source": [
    "Es un csv, con columnas por cada pixel"
   ]
  },
  {
   "cell_type": "code",
   "execution_count": 8,
   "metadata": {},
   "outputs": [
    {
     "data": {
      "text/plain": [
       "((42000, 784), (42000, 1))"
      ]
     },
     "execution_count": 8,
     "metadata": {},
     "output_type": "execute_result"
    }
   ],
   "source": [
    "# Uso values para mandar todo a arrays de numpy\n",
    "X = df_train[df_train.columns[1:]].values\n",
    "y = df_train[\"label\"].values.reshape(-1, 1)\n",
    "\n",
    "X.shape, y.shape"
   ]
  },
  {
   "cell_type": "markdown",
   "metadata": {},
   "source": [
    "### Conjunto de development"
   ]
  },
  {
   "cell_type": "code",
   "execution_count": 10,
   "metadata": {},
   "outputs": [
    {
     "name": "stdout",
     "output_type": "stream",
     "text": [
      "Ahora tengo 33600 instancias de entrenamiento y 8400 de validación\n"
     ]
    }
   ],
   "source": [
    "import random\n",
    "from functools import reduce\n",
    "\n",
    "limit = X.shape[0]\n",
    "order = list(range(0,limit))\n",
    "random.shuffle(order)\n",
    "\n",
    "X_shuffled, y_shuffled = [], [] \n",
    "\n",
    "for i in order:\n",
    "    X_shuffled += [X[i]]\n",
    "    y_shuffled += [y[i]]\n",
    "\n",
    "K_folds = 5\n",
    "folds_size = int(limit/K_folds)\n",
    "\n",
    "X_folds, y_folds = [], []\n",
    "\n",
    "for i in range(0,K_folds):\n",
    "    l, h = i * folds_size , (i+1) * folds_size\n",
    "    X_folds += [X_shuffled[l:h]]\n",
    "    y_folds += [y_shuffled[l:h]]\n",
    "    \n",
    "def getKFold(X_folds,y_folds, K):\n",
    "    X_train_folds = X_folds[0:K] + X_folds[K+1:len(X_folds)]\n",
    "    y_train_folds = y_folds[0:K] + y_folds[K+1:len(y_folds)]\n",
    "    train = (reduce(lambda a,b : a+b,X_train_folds), reduce(lambda a,b : a+b,y_train_folds))\n",
    "    val = (X_folds[K], y_folds[K])\n",
    "    return (train,val)\n",
    "\n",
    "test_train, test_val = getKFold(X_folds,y_folds,4)\n",
    "\n",
    "X_train, y_train = test_train\n",
    "X_val , y_val = test_val\n",
    "\n",
    "\n",
    "assert len(X_train) == len(y_train)\n",
    "assert len(X_val) == len(y_val)\n",
    "\n",
    "print(f\"Ahora tengo {len(X_train)} instancias de entrenamiento y {len(X_val)} de validación\")"
   ]
  },
  {
   "cell_type": "code",
   "execution_count": 11,
   "metadata": {},
   "outputs": [
    {
     "name": "stdout",
     "output_type": "stream",
     "text": [
      "[[0.85, 0.84, 0.86, 0.76, 0.73, 0.6, 0.09], [0.94, 0.915, 0.925, 0.87, 0.815, 0.75, 0.41], [0.932, 0.949, 0.954, 0.939, 0.931, 0.909, 0.808], [0.9495, 0.957, 0.956, 0.9515, 0.9405, 0.9285, 0.8675], [0.96825, 0.969, 0.9665, 0.958, 0.9545, 0.94425, 0.9005]]\n",
      "CPU times: user 1min 31s, sys: 296 ms, total: 1min 31s\n",
      "Wall time: 1min 31s\n"
     ]
    }
   ],
   "source": [
    "%%time\n",
    "from sklearn.metrics import accuracy_score\n",
    "\n",
    "preds = [[], [], [], [], []]\n",
    "k=0\n",
    "\n",
    "for l in [500,1000,5000,10000, 20000]:\n",
    "    test_l = int(l*0.2)\n",
    "\n",
    "    pca = metnum.PCA(28)\n",
    "    pca.fit(X_train[:l])\n",
    "\n",
    "    Y_train = pca.transform(X_train[:l])\n",
    "    Y_test = pca.transform(X_val[:test_l])\n",
    "\n",
    "    for i in [1, 5, 10, 30, 50, 100, 500]:\n",
    "        clf = metnum.KNNClassifier(i)\n",
    "        clf.fit(Y_train, y_train[:l])\n",
    "        y_pred = clf.predict(Y_test)\n",
    "\n",
    "        acc = accuracy_score(y_val[:test_l], y_pred)\n",
    "        preds[k].append(acc)\n",
    "        \n",
    "    k += 1\n",
    "    #print(f\"For training size {l} and test size {test_l}\")\n",
    "    #print(\"Accuracy: {}\".format(acc))\n",
    "    \n",
    "print(preds)"
   ]
  },
  {
   "cell_type": "code",
   "execution_count": 12,
   "metadata": {},
   "outputs": [
    {
     "data": {
      "image/png": "[encoded data removed]",
      "text/plain": [
       "<Figure size 432x288 with 1 Axes>"
      ]
     },
     "metadata": {
      "needs_background": "light"
     },
     "output_type": "display_data"
    }
   ],
   "source": [
    "# Plot PCA + KNN - Tamaños del conjunto de entrenamiento vs k\n",
    "size = [\"500\",\"1000\",\"5000\",\"10000\", \"20000\"]\n",
    "for i in range(0, 5):\n",
    "    plt.plot([1, 5, 10, 30, 50, 100, 500], preds[i], label=size[i])\n",
    "plt.title('PCA + KNN - Tamaños del conjunto de entrenamiento')\n",
    "plt.legend()\n",
    "plt.ylabel('Accuracy')\n",
    "plt.xlabel('k')\n",
    "plt.show()"
   ]
  }
 ],
 "metadata": {
  "kernelspec": {
   "display_name": "Python 3",
   "language": "python",
   "name": "python3"
  },
  "language_info": {
   "codemirror_mode": {
    "name": "ipython",
    "version": 3
   },
   "file_extension": ".py",
   "mimetype": "text/x-python",
   "name": "python",
   "nbconvert_exporter": "python",
   "pygments_lexer": "ipython3",
   "version": "3.8.5"
  }
 },
 "nbformat": 4,
 "nbformat_minor": 4
}
