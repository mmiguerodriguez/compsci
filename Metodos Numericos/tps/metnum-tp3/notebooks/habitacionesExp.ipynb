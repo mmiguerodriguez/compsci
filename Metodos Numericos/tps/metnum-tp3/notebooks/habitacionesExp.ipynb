{
 "cells": [
  {
   "cell_type": "code",
   "execution_count": 1,
   "metadata": {},
   "outputs": [
    {
     "name": "stdout",
     "output_type": "stream",
     "text": [
      "mkdir: cannot create directory ‘build’: File exists\n",
      "-- The C compiler identification is GNU 9.3.0\n",
      "-- The CXX compiler identification is GNU 9.3.0\n",
      "-- Check for working C compiler: /usr/bin/cc\n",
      "-- Check for working C compiler: /usr/bin/cc -- works\n",
      "-- Detecting C compiler ABI info\n",
      "-- Detecting C compiler ABI info - done\n",
      "-- Detecting C compile features\n",
      "-- Detecting C compile features - done\n",
      "-- Check for working CXX compiler: /usr/bin/c++\n",
      "-- Check for working CXX compiler: /usr/bin/c++ -- works\n",
      "-- Detecting CXX compiler ABI info\n",
      "-- Detecting CXX compiler ABI info - done\n",
      "-- Detecting CXX compile features\n",
      "-- Detecting CXX compile features - done\n",
      "Release mode\n",
      "-- Found PythonInterp: /home/roni/.virtualenvs/metnumtp3/bin/python (found version \"3.8.5\") \n",
      "-- Found PythonLibs: /usr/lib/x86_64-linux-gnu/libpython3.8.so\n",
      "-- pybind11 v2.2.4\n",
      "-- Performing Test HAS_FLTO\n",
      "-- Performing Test HAS_FLTO - Success\n",
      "-- LTO enabled\n",
      "CMAKE_INSTALL_PREFIX=/home/roni/Documents/metnum/metnum-tp3\n",
      "-- Configuring done\n",
      "-- Generating done\n",
      "-- Build files have been written to: /home/roni/Documents/metnum/metnum-tp3/build\n",
      "\u001b[35m\u001b[1mScanning dependencies of target metnum\u001b[0m\n",
      "[ 33%] \u001b[32mBuilding CXX object CMakeFiles/metnum.dir/src/metnum.cpp.o\u001b[0m\n",
      "[ 66%] \u001b[32mBuilding CXX object CMakeFiles/metnum.dir/src/linear_regression.cpp.o\u001b[0m\n",
      "[100%] \u001b[32m\u001b[1mLinking CXX shared module metnum.cpython-38-x86_64-linux-gnu.so\u001b[0m\n",
      "[100%] Built target metnum\n",
      "\u001b[36mInstall the project...\u001b[0m\n",
      "-- Install configuration: \"Release\"\n",
      "-- Installing: /home/roni/Documents/metnum/metnum-tp3/notebooks/metnum.cpython-38-x86_64-linux-gnu.so\n"
     ]
    }
   ],
   "source": [
    "!cd .. && mkdir build\n",
    "!cd ../build/ && rm -rf *\n",
    "!cd ../build && cmake \\\n",
    "  -DPYTHON_EXECUTABLE=\"$(which python)\" \\\n",
    "  -DCMAKE_BUILD_TYPE=Release ..\n",
    "!cd ../build && make install"
   ]
  },
  {
   "cell_type": "code",
   "execution_count": 2,
   "metadata": {},
   "outputs": [
    {
     "name": "stdout",
     "output_type": "stream",
     "text": [
      "/home/roni/Documents/metnum/metnum-tp3/notebooks\n",
      "Python 3.8.5\n"
     ]
    }
   ],
   "source": [
    "# Verifico la correcta instalación. Si no falla el import está OK\n",
    "!pwd\n",
    "!python --version\n",
    "from commons import linear_regression\n",
    "\n",
    "import numpy as np\n",
    "import pandas as pd\n",
    "import seaborn as sns\n",
    "import matplotlib.pyplot as plt"
   ]
  },
  {
   "cell_type": "code",
   "execution_count": 3,
   "metadata": {},
   "outputs": [],
   "source": [
    "df = pd.read_csv('../data/train.csv')"
   ]
  },
  {
   "cell_type": "code",
   "execution_count": 5,
   "metadata": {},
   "outputs": [
    {
     "name": "stdout",
     "output_type": "stream",
     "text": [
      "<class 'pandas.core.frame.DataFrame'>\n",
      "RangeIndex: 240000 entries, 0 to 239999\n",
      "Data columns (total 26 columns):\n",
      " #   Column                      Non-Null Count   Dtype  \n",
      "---  ------                      --------------   -----  \n",
      " 0   id                          240000 non-null  int64  \n",
      " 1   titulo                      234613 non-null  object \n",
      " 2   descripcion                 238381 non-null  object \n",
      " 3   tipodepropiedad             239954 non-null  object \n",
      " 4   direccion                   186928 non-null  object \n",
      " 5   ciudad                      239628 non-null  object \n",
      " 6   provincia                   239845 non-null  object \n",
      " 7   antiguedad                  196445 non-null  float64\n",
      " 8   habitaciones                217529 non-null  float64\n",
      " 9   garages                     202235 non-null  float64\n",
      " 10  banos                       213779 non-null  float64\n",
      " 11  metroscubiertos             222600 non-null  float64\n",
      " 12  metrostotales               188533 non-null  float64\n",
      " 13  idzona                      211379 non-null  float64\n",
      " 14  lat                         116512 non-null  float64\n",
      " 15  lng                         116512 non-null  float64\n",
      " 16  fecha                       240000 non-null  object \n",
      " 17  gimnasio                    240000 non-null  float64\n",
      " 18  usosmultiples               240000 non-null  float64\n",
      " 19  piscina                     240000 non-null  float64\n",
      " 20  escuelascercanas            240000 non-null  float64\n",
      " 21  centroscomercialescercanos  240000 non-null  float64\n",
      " 22  precio                      240000 non-null  float64\n",
      " 23  precioxmetro                188533 non-null  float64\n",
      " 24  itipodepropiedad            240000 non-null  int64  \n",
      " 25  amenities                   240000 non-null  int64  \n",
      "dtypes: float64(16), int64(3), object(7)\n",
      "memory usage: 47.6+ MB\n"
     ]
    }
   ],
   "source": [
    "df.info()"
   ]
  },
  {
   "cell_type": "markdown",
   "metadata": {},
   "source": [
    "### Prediccion de cantidad de habitaciones\n",
    "¿Se puede predecir la cantidad de habitaciones en base a la cantidad de metros cubiertos y el tipo de propiedad?\n",
    "\n",
    "- Dataset: Solo vamos a incluir aquellos datos que contengan metroscubiertos y habitaciones. \n",
    "- Input: `metroscubiertos`,`itipodepropiedad`\n",
    "- Output: `habitaciones`"
   ]
  },
  {
   "cell_type": "code",
   "execution_count": 50,
   "metadata": {},
   "outputs": [
    {
     "data": {
      "text/html": [
       "<div>\n",
       "<style scoped>\n",
       "    .dataframe tbody tr th:only-of-type {\n",
       "        vertical-align: middle;\n",
       "    }\n",
       "\n",
       "    .dataframe tbody tr th {\n",
       "        vertical-align: top;\n",
       "    }\n",
       "\n",
       "    .dataframe thead th {\n",
       "        text-align: right;\n",
       "    }\n",
       "</style>\n",
       "<table border=\"1\" class=\"dataframe\">\n",
       "  <thead>\n",
       "    <tr style=\"text-align: right;\">\n",
       "      <th></th>\n",
       "      <th>tipodepropiedad</th>\n",
       "      <th>RMSLE</th>\n",
       "      <th>R2_SCORE</th>\n",
       "      <th>RMSE</th>\n",
       "      <th>STD</th>\n",
       "      <th>RMSE/STD</th>\n",
       "    </tr>\n",
       "  </thead>\n",
       "  <tbody>\n",
       "    <tr>\n",
       "      <th>0</th>\n",
       "      <td>Apartamento</td>\n",
       "      <td>0.421901</td>\n",
       "      <td>-1.849817</td>\n",
       "      <td>1.356053</td>\n",
       "      <td>0.630951</td>\n",
       "      <td>2.149221</td>\n",
       "    </tr>\n",
       "    <tr>\n",
       "      <th>1</th>\n",
       "      <td>Casa en condominio</td>\n",
       "      <td>0.431704</td>\n",
       "      <td>-3.171141</td>\n",
       "      <td>1.457328</td>\n",
       "      <td>0.611669</td>\n",
       "      <td>2.382546</td>\n",
       "    </tr>\n",
       "    <tr>\n",
       "      <th>2</th>\n",
       "      <td>Casa</td>\n",
       "      <td>0.455439</td>\n",
       "      <td>-1.337390</td>\n",
       "      <td>1.635132</td>\n",
       "      <td>0.881185</td>\n",
       "      <td>1.855606</td>\n",
       "    </tr>\n",
       "    <tr>\n",
       "      <th>3</th>\n",
       "      <td>Terreno</td>\n",
       "      <td>0.591668</td>\n",
       "      <td>-0.140509</td>\n",
       "      <td>2.136676</td>\n",
       "      <td>1.563844</td>\n",
       "      <td>1.366298</td>\n",
       "    </tr>\n",
       "    <tr>\n",
       "      <th>4</th>\n",
       "      <td>Terreno comercial</td>\n",
       "      <td>0.556231</td>\n",
       "      <td>-0.307456</td>\n",
       "      <td>2.192588</td>\n",
       "      <td>1.598060</td>\n",
       "      <td>1.372031</td>\n",
       "    </tr>\n",
       "    <tr>\n",
       "      <th>5</th>\n",
       "      <td>Local Comercial</td>\n",
       "      <td>0.663543</td>\n",
       "      <td>0.246007</td>\n",
       "      <td>2.675050</td>\n",
       "      <td>2.274067</td>\n",
       "      <td>1.176329</td>\n",
       "    </tr>\n",
       "    <tr>\n",
       "      <th>6</th>\n",
       "      <td>Quinta Vacacional</td>\n",
       "      <td>0.454216</td>\n",
       "      <td>-0.081040</td>\n",
       "      <td>1.614350</td>\n",
       "      <td>1.184358</td>\n",
       "      <td>1.363059</td>\n",
       "    </tr>\n",
       "    <tr>\n",
       "      <th>7</th>\n",
       "      <td>Oficina comercial</td>\n",
       "      <td>0.701988</td>\n",
       "      <td>0.010737</td>\n",
       "      <td>2.994039</td>\n",
       "      <td>2.396718</td>\n",
       "      <td>1.249225</td>\n",
       "    </tr>\n",
       "    <tr>\n",
       "      <th>8</th>\n",
       "      <td>Edificio</td>\n",
       "      <td>0.620289</td>\n",
       "      <td>-0.117623</td>\n",
       "      <td>3.429628</td>\n",
       "      <td>2.973381</td>\n",
       "      <td>1.153444</td>\n",
       "    </tr>\n",
       "    <tr>\n",
       "      <th>9</th>\n",
       "      <td>Casa uso de suelo</td>\n",
       "      <td>0.469505</td>\n",
       "      <td>0.008587</td>\n",
       "      <td>2.403524</td>\n",
       "      <td>2.065912</td>\n",
       "      <td>1.163420</td>\n",
       "    </tr>\n",
       "    <tr>\n",
       "      <th>10</th>\n",
       "      <td>Local en centro comercial</td>\n",
       "      <td>0.595005</td>\n",
       "      <td>-19.520862</td>\n",
       "      <td>1.988464</td>\n",
       "      <td>1.162174</td>\n",
       "      <td>1.710986</td>\n",
       "    </tr>\n",
       "    <tr>\n",
       "      <th>11</th>\n",
       "      <td>Bodega comercial</td>\n",
       "      <td>0.488478</td>\n",
       "      <td>-0.326501</td>\n",
       "      <td>1.596411</td>\n",
       "      <td>1.676713</td>\n",
       "      <td>0.952107</td>\n",
       "    </tr>\n",
       "    <tr>\n",
       "      <th>12</th>\n",
       "      <td>Otros</td>\n",
       "      <td>0.433563</td>\n",
       "      <td>-2.545620</td>\n",
       "      <td>1.300531</td>\n",
       "      <td>0.692796</td>\n",
       "      <td>1.877221</td>\n",
       "    </tr>\n",
       "    <tr>\n",
       "      <th>13</th>\n",
       "      <td>Villa</td>\n",
       "      <td>0.429172</td>\n",
       "      <td>-0.934627</td>\n",
       "      <td>1.464897</td>\n",
       "      <td>1.060535</td>\n",
       "      <td>1.381281</td>\n",
       "    </tr>\n",
       "    <tr>\n",
       "      <th>14</th>\n",
       "      <td>Duplex</td>\n",
       "      <td>0.504197</td>\n",
       "      <td>-0.579809</td>\n",
       "      <td>1.920931</td>\n",
       "      <td>0.912747</td>\n",
       "      <td>2.104559</td>\n",
       "    </tr>\n",
       "    <tr>\n",
       "      <th>15</th>\n",
       "      <td>Inmuebles productivos urbanos</td>\n",
       "      <td>0.623870</td>\n",
       "      <td>0.184722</td>\n",
       "      <td>3.505234</td>\n",
       "      <td>3.101714</td>\n",
       "      <td>1.130096</td>\n",
       "    </tr>\n",
       "    <tr>\n",
       "      <th>16</th>\n",
       "      <td>Departamento Compartido</td>\n",
       "      <td>0.433006</td>\n",
       "      <td>-1.898478</td>\n",
       "      <td>1.429017</td>\n",
       "      <td>1.178607</td>\n",
       "      <td>1.212462</td>\n",
       "    </tr>\n",
       "    <tr>\n",
       "      <th>17</th>\n",
       "      <td>Rancho</td>\n",
       "      <td>0.484579</td>\n",
       "      <td>-0.392759</td>\n",
       "      <td>1.716809</td>\n",
       "      <td>1.364680</td>\n",
       "      <td>1.258030</td>\n",
       "    </tr>\n",
       "  </tbody>\n",
       "</table>\n",
       "</div>"
      ],
      "text/plain": [
       "                  tipodepropiedad     RMSLE   R2_SCORE      RMSE       STD  \\\n",
       "0                     Apartamento  0.421901  -1.849817  1.356053  0.630951   \n",
       "1              Casa en condominio  0.431704  -3.171141  1.457328  0.611669   \n",
       "2                            Casa  0.455439  -1.337390  1.635132  0.881185   \n",
       "3                         Terreno  0.591668  -0.140509  2.136676  1.563844   \n",
       "4               Terreno comercial  0.556231  -0.307456  2.192588  1.598060   \n",
       "5                 Local Comercial  0.663543   0.246007  2.675050  2.274067   \n",
       "6               Quinta Vacacional  0.454216  -0.081040  1.614350  1.184358   \n",
       "7               Oficina comercial  0.701988   0.010737  2.994039  2.396718   \n",
       "8                        Edificio  0.620289  -0.117623  3.429628  2.973381   \n",
       "9               Casa uso de suelo  0.469505   0.008587  2.403524  2.065912   \n",
       "10      Local en centro comercial  0.595005 -19.520862  1.988464  1.162174   \n",
       "11               Bodega comercial  0.488478  -0.326501  1.596411  1.676713   \n",
       "12                          Otros  0.433563  -2.545620  1.300531  0.692796   \n",
       "13                          Villa  0.429172  -0.934627  1.464897  1.060535   \n",
       "14                         Duplex  0.504197  -0.579809  1.920931  0.912747   \n",
       "15  Inmuebles productivos urbanos  0.623870   0.184722  3.505234  3.101714   \n",
       "16        Departamento Compartido  0.433006  -1.898478  1.429017  1.178607   \n",
       "17                         Rancho  0.484579  -0.392759  1.716809  1.364680   \n",
       "\n",
       "    RMSE/STD  \n",
       "0   2.149221  \n",
       "1   2.382546  \n",
       "2   1.855606  \n",
       "3   1.366298  \n",
       "4   1.372031  \n",
       "5   1.176329  \n",
       "6   1.363059  \n",
       "7   1.249225  \n",
       "8   1.153444  \n",
       "9   1.163420  \n",
       "10  1.710986  \n",
       "11  0.952107  \n",
       "12  1.877221  \n",
       "13  1.381281  \n",
       "14  2.104559  \n",
       "15  1.130096  \n",
       "16  1.212462  \n",
       "17  1.258030  "
      ]
     },
     "execution_count": 50,
     "metadata": {},
     "output_type": "execute_result"
    }
   ],
   "source": [
    "from sklearn.metrics import r2_score\n",
    "df_metricas_res_exp = pd.DataFrame(columns=[\"tipodepropiedad\",\"RMSLE\",\"R2_SCORE\",\"RMSE\",\"STD\"])\n",
    "for t in df.tipodepropiedad.unique():\n",
    "    df_propiedad = df[df[\"tipodepropiedad\"] == t]\n",
    "    if df_propiedad.shape[0] < 100:\n",
    "        continue\n",
    "    res_propiedad, rmse_propiedad, rmsle_propiedad = linear_regression(df_propiedad,[\"metroscubiertos\"], \"habitaciones\", n_splits=4, shuffle=True) \n",
    "    r2 = np.mean([r2_score(r[\"expect\"],r[\"pred\"]) for r in res_propiedad])\n",
    "    df_metricas_res_exp = df_metricas_res_exp.append({\"tipodepropiedad\":t,\"RMSLE\":rmsle_propiedad,\"R2_SCORE\":r2,\"RMSE\":rmse_propiedad,\"STD\":df_propiedad.habitaciones.std()}, ignore_index=True)\n",
    "df_metricas_res_exp[\"RMSE/STD\"] = df_metricas_res_exp[\"RMSE\"]/df_metricas_res_exp[\"STD\"]\n",
    "df_metricas_res_exp"
   ]
  },
  {
   "cell_type": "code",
   "execution_count": 51,
   "metadata": {},
   "outputs": [
    {
     "data": {
      "text/plain": [
       "RMSLE       0.519909\n",
       "R2_SCORE   -1.819643\n",
       "RMSE        2.045370\n",
       "STD         1.518339\n",
       "RMSE/STD    1.492107\n",
       "dtype: float64"
      ]
     },
     "execution_count": 51,
     "metadata": {},
     "output_type": "execute_result"
    }
   ],
   "source": [
    "df_metricas_res_exp.mean()"
   ]
  },
  {
   "cell_type": "code",
   "execution_count": 13,
   "metadata": {},
   "outputs": [
    {
     "data": {
      "text/plain": [
       "Querétaro              12646\n",
       "Benito Juárez          11014\n",
       "Zapopan                10360\n",
       "San Luis Potosí         7925\n",
       "Mérida                  7162\n",
       "Monterrey               6946\n",
       "Alvaro Obregón          6633\n",
       "Cuauhtémoc              6614\n",
       "Naucalpan de Juárez     6554\n",
       "Miguel Hidalgo          5795\n",
       "Name: ciudad, dtype: int64"
      ]
     },
     "execution_count": 13,
     "metadata": {},
     "output_type": "execute_result"
    }
   ],
   "source": [
    "df.ciudad.value_counts()[:10]"
   ]
  },
  {
   "cell_type": "code",
   "execution_count": 14,
   "metadata": {},
   "outputs": [
    {
     "data": {
      "image/png": "[encoded data removed]",
      "text/plain": [
       "<Figure size 1296x288 with 3 Axes>"
      ]
     },
     "metadata": {
      "needs_background": "light"
     },
     "output_type": "display_data"
    }
   ],
   "source": [
    "fig, (ax1,ax2,ax3) = plt.subplots(1,3, figsize=(18,4))\n",
    "df.metroscubiertos.hist(ax=ax1)\n",
    "ax1.set_title(\"Metros Cubiertos\", fontsize=16)\n",
    "df.habitaciones.hist(ax=ax2)\n",
    "ax2.set_title(\"Habitaciones\", fontsize=16)\n",
    "df.itipodepropiedad.hist(ax=ax3)\n",
    "ax3.set_title(\"Tipo De Propiedades\", fontsize=16)\n",
    "ax1.set_xlabel(\"metroscubiertos\")\n",
    "ax2.set_xlabel(\"habitaciones\")\n",
    "ax3.set_xlabel(\"itipodepropiedad\")\n",
    "plt.savefig(\"habitaciones/dataset_analisis\")\n",
    "plt.show()"
   ]
  },
  {
   "cell_type": "code",
   "execution_count": 15,
   "metadata": {},
   "outputs": [
    {
     "data": {
      "image/png": "[encoded data removed]",
      "text/plain": [
       "<Figure size 1296x288 with 3 Axes>"
      ]
     },
     "metadata": {
      "needs_background": "light"
     },
     "output_type": "display_data"
    }
   ],
   "source": [
    "fig, (ax1,ax2,ax3) = plt.subplots(1,3, figsize=(18,4))\n",
    "df[df[\"ciudad\"] == \"Benito Juárez\"].metroscubiertos.hist(ax=ax1)\n",
    "ax1.set_title(\"Metros Cubiertos\", fontsize=16)\n",
    "df[df[\"ciudad\"] == \"Benito Juárez\"].habitaciones.hist(ax=ax2)\n",
    "ax2.set_title(\"Habitaciones\", fontsize=16)\n",
    "df[df[\"ciudad\"] == \"Benito Juárez\"].itipodepropiedad.hist(ax=ax3)\n",
    "ax3.set_title(\"Tipo De Propiedades\", fontsize=16)\n",
    "ax1.set_xlabel(\"metroscubiertos\")\n",
    "ax2.set_xlabel(\"habitaciones\")\n",
    "ax3.set_xlabel(\"itipodepropiedad\")\n",
    "plt.savefig(\"habitaciones/benito_analisis\")\n",
    "plt.show()"
   ]
  },
  {
   "cell_type": "code",
   "execution_count": 16,
   "metadata": {},
   "outputs": [
    {
     "data": {
      "image/png": "[encoded data removed]",
      "text/plain": [
       "<Figure size 1296x288 with 3 Axes>"
      ]
     },
     "metadata": {
      "needs_background": "light"
     },
     "output_type": "display_data"
    }
   ],
   "source": [
    "fig, (ax1,ax2,ax3) = plt.subplots(1,3, figsize=(18,4))\n",
    "df[df[\"ciudad\"] == \"Mérida\"].metroscubiertos.hist(ax=ax1)\n",
    "ax1.set_title(\"Metros Cubiertos\", fontsize=16)\n",
    "df[df[\"ciudad\"] == \"Mérida\"].habitaciones.hist(ax=ax2)\n",
    "ax2.set_title(\"Habitaciones\", fontsize=16)\n",
    "df[df[\"ciudad\"] == \"Mérida\"].itipodepropiedad.hist(ax=ax3)\n",
    "ax3.set_title(\"Tipo De Propiedades\", fontsize=16)\n",
    "ax1.set_xlabel(\"metroscubiertos\")\n",
    "ax2.set_xlabel(\"habitaciones\")\n",
    "ax3.set_xlabel(\"itipodepropiedad\")\n",
    "plt.savefig(\"habitaciones/merida_analisis\")\n",
    "plt.show()"
   ]
  },
  {
   "cell_type": "code",
   "execution_count": 6,
   "metadata": {},
   "outputs": [],
   "source": [
    "df_exp1 = df[df[\"ciudad\"] == \"Benito Juárez\"]"
   ]
  },
  {
   "cell_type": "code",
   "execution_count": 11,
   "metadata": {},
   "outputs": [
    {
     "data": {
      "text/html": [
       "<div>\n",
       "<style scoped>\n",
       "    .dataframe tbody tr th:only-of-type {\n",
       "        vertical-align: middle;\n",
       "    }\n",
       "\n",
       "    .dataframe tbody tr th {\n",
       "        vertical-align: top;\n",
       "    }\n",
       "\n",
       "    .dataframe thead th {\n",
       "        text-align: right;\n",
       "    }\n",
       "</style>\n",
       "<table border=\"1\" class=\"dataframe\">\n",
       "  <thead>\n",
       "    <tr style=\"text-align: right;\">\n",
       "      <th></th>\n",
       "      <th>tipodepropiedad</th>\n",
       "      <th>RMSLE</th>\n",
       "      <th>R2_SCORE</th>\n",
       "      <th>RMSE</th>\n",
       "      <th>STD</th>\n",
       "      <th>RMSE/STD</th>\n",
       "    </tr>\n",
       "  </thead>\n",
       "  <tbody>\n",
       "    <tr>\n",
       "      <th>0</th>\n",
       "      <td>Apartamento</td>\n",
       "      <td>0.328189</td>\n",
       "      <td>-1.078706</td>\n",
       "      <td>1.117033</td>\n",
       "      <td>0.588276</td>\n",
       "      <td>1.898825</td>\n",
       "    </tr>\n",
       "    <tr>\n",
       "      <th>1</th>\n",
       "      <td>Casa</td>\n",
       "      <td>0.372681</td>\n",
       "      <td>-0.319060</td>\n",
       "      <td>1.594999</td>\n",
       "      <td>1.192107</td>\n",
       "      <td>1.337967</td>\n",
       "    </tr>\n",
       "    <tr>\n",
       "      <th>2</th>\n",
       "      <td>Casa en condominio</td>\n",
       "      <td>0.257998</td>\n",
       "      <td>-2.053600</td>\n",
       "      <td>0.959494</td>\n",
       "      <td>0.458049</td>\n",
       "      <td>2.094744</td>\n",
       "    </tr>\n",
       "    <tr>\n",
       "      <th>3</th>\n",
       "      <td>Terreno</td>\n",
       "      <td>0.387328</td>\n",
       "      <td>-2.531415</td>\n",
       "      <td>1.753980</td>\n",
       "      <td>1.218762</td>\n",
       "      <td>1.439149</td>\n",
       "    </tr>\n",
       "    <tr>\n",
       "      <th>4</th>\n",
       "      <td>Oficina comercial</td>\n",
       "      <td>0.686801</td>\n",
       "      <td>-0.330187</td>\n",
       "      <td>2.965635</td>\n",
       "      <td>2.348609</td>\n",
       "      <td>1.262720</td>\n",
       "    </tr>\n",
       "  </tbody>\n",
       "</table>\n",
       "</div>"
      ],
      "text/plain": [
       "      tipodepropiedad     RMSLE  R2_SCORE      RMSE       STD  RMSE/STD\n",
       "0         Apartamento  0.328189 -1.078706  1.117033  0.588276  1.898825\n",
       "1                Casa  0.372681 -0.319060  1.594999  1.192107  1.337967\n",
       "2  Casa en condominio  0.257998 -2.053600  0.959494  0.458049  2.094744\n",
       "3             Terreno  0.387328 -2.531415  1.753980  1.218762  1.439149\n",
       "4   Oficina comercial  0.686801 -0.330187  2.965635  2.348609  1.262720"
      ]
     },
     "execution_count": 11,
     "metadata": {},
     "output_type": "execute_result"
    }
   ],
   "source": [
    "from sklearn.metrics import r2_score\n",
    "df_metricas_res_exp1 = pd.DataFrame(columns=[\"tipodepropiedad\",\"RMSLE\",\"R2_SCORE\",\"RMSE\",\"STD\"])\n",
    "for t in df_exp1.tipodepropiedad.unique():\n",
    "    df_propiedad = df_exp1[df_exp1[\"tipodepropiedad\"] == t]\n",
    "    if df_propiedad.shape[0] < 100:\n",
    "        continue\n",
    "    res_propiedad, rmse_propiedad, rmsle_propiedad = linear_regression(df_propiedad,[\"metroscubiertos\"], \"habitaciones\", n_splits=4, shuffle=True) \n",
    "    r2 = np.mean([r2_score(r[\"expect\"],r[\"pred\"]) for r in res_propiedad])\n",
    "    df_metricas_res_exp1 = df_metricas_res_exp1.append({\"tipodepropiedad\":t,\"RMSLE\":rmsle_propiedad,\"R2_SCORE\":r2,\"RMSE\":rmse_propiedad,\"STD\":df_propiedad.habitaciones.std()}, ignore_index=True)\n",
    "df_metricas_res_exp1[\"RMSE/STD\"] = df_metricas_res_exp1[\"RMSE\"]/df_metricas_res_exp1[\"STD\"]\n",
    "df_metricas_res_exp1"
   ]
  },
  {
   "cell_type": "code",
   "execution_count": 12,
   "metadata": {},
   "outputs": [
    {
     "data": {
      "text/plain": [
       "RMSLE       0.406600\n",
       "R2_SCORE   -1.262594\n",
       "RMSE        1.678228\n",
       "STD         1.161161\n",
       "RMSE/STD    1.606681\n",
       "dtype: float64"
      ]
     },
     "execution_count": 12,
     "metadata": {},
     "output_type": "execute_result"
    }
   ],
   "source": [
    "df_metricas_res_exp1.mean()"
   ]
  },
  {
   "cell_type": "code",
   "execution_count": 17,
   "metadata": {},
   "outputs": [],
   "source": [
    "df_exp2 = df[df[\"ciudad\"] == \"Mérida\"]"
   ]
  },
  {
   "cell_type": "code",
   "execution_count": 24,
   "metadata": {},
   "outputs": [
    {
     "data": {
      "text/html": [
       "<div>\n",
       "<style scoped>\n",
       "    .dataframe tbody tr th:only-of-type {\n",
       "        vertical-align: middle;\n",
       "    }\n",
       "\n",
       "    .dataframe tbody tr th {\n",
       "        vertical-align: top;\n",
       "    }\n",
       "\n",
       "    .dataframe thead th {\n",
       "        text-align: right;\n",
       "    }\n",
       "</style>\n",
       "<table border=\"1\" class=\"dataframe\">\n",
       "  <thead>\n",
       "    <tr style=\"text-align: right;\">\n",
       "      <th></th>\n",
       "      <th>tipodepropiedad</th>\n",
       "      <th>RMSLE</th>\n",
       "      <th>R2_SCORE</th>\n",
       "      <th>RMSE</th>\n",
       "      <th>STD</th>\n",
       "      <th>RMSE/STD</th>\n",
       "    </tr>\n",
       "  </thead>\n",
       "  <tbody>\n",
       "    <tr>\n",
       "      <th>0</th>\n",
       "      <td>Casa</td>\n",
       "      <td>0.354403</td>\n",
       "      <td>-1.295619</td>\n",
       "      <td>1.277965</td>\n",
       "      <td>0.672757</td>\n",
       "      <td>1.899594</td>\n",
       "    </tr>\n",
       "    <tr>\n",
       "      <th>1</th>\n",
       "      <td>Terreno</td>\n",
       "      <td>0.369512</td>\n",
       "      <td>-1.272575</td>\n",
       "      <td>0.956462</td>\n",
       "      <td>0.726483</td>\n",
       "      <td>1.316565</td>\n",
       "    </tr>\n",
       "    <tr>\n",
       "      <th>2</th>\n",
       "      <td>Casa en condominio</td>\n",
       "      <td>0.274329</td>\n",
       "      <td>-2.084892</td>\n",
       "      <td>1.050570</td>\n",
       "      <td>0.550869</td>\n",
       "      <td>1.907112</td>\n",
       "    </tr>\n",
       "    <tr>\n",
       "      <th>3</th>\n",
       "      <td>Apartamento</td>\n",
       "      <td>0.363316</td>\n",
       "      <td>-0.148187</td>\n",
       "      <td>1.103973</td>\n",
       "      <td>0.702569</td>\n",
       "      <td>1.571338</td>\n",
       "    </tr>\n",
       "  </tbody>\n",
       "</table>\n",
       "</div>"
      ],
      "text/plain": [
       "      tipodepropiedad     RMSLE  R2_SCORE      RMSE       STD  RMSE/STD\n",
       "0                Casa  0.354403 -1.295619  1.277965  0.672757  1.899594\n",
       "1             Terreno  0.369512 -1.272575  0.956462  0.726483  1.316565\n",
       "2  Casa en condominio  0.274329 -2.084892  1.050570  0.550869  1.907112\n",
       "3         Apartamento  0.363316 -0.148187  1.103973  0.702569  1.571338"
      ]
     },
     "execution_count": 24,
     "metadata": {},
     "output_type": "execute_result"
    }
   ],
   "source": [
    "from sklearn.metrics import r2_score\n",
    "df_metricas_res_exp2 = pd.DataFrame(columns=[\"tipodepropiedad\",\"RMSLE\",\"R2_SCORE\",\"RMSE\",\"STD\"])\n",
    "for t in df_exp2.tipodepropiedad.unique():\n",
    "    df_propiedad = df_exp2[df_exp2[\"tipodepropiedad\"] == t]\n",
    "    if df_propiedad.shape[0] < 100:\n",
    "        continue\n",
    "    res_propiedad, rmse_propiedad, rmsle_propiedad = linear_regression(df_propiedad,[\"metroscubiertos\"], \"habitaciones\", n_splits=4, shuffle=True) \n",
    "    r2 = np.mean([r2_score(r[\"expect\"],r[\"pred\"]) for r in res_propiedad])\n",
    "    df_metricas_res_exp2 = df_metricas_res_exp2.append({\"tipodepropiedad\":t,\"RMSLE\":rmsle_propiedad,\"R2_SCORE\":r2,\"RMSE\":rmse_propiedad,\"STD\":df_propiedad.habitaciones.std()}, ignore_index=True)\n",
    "df_metricas_res_exp2[\"RMSE/STD\"] = df_metricas_res_exp2[\"RMSE\"]/df_metricas_res_exp2[\"STD\"]\n",
    "df_metricas_res_exp2"
   ]
  },
  {
   "cell_type": "code",
   "execution_count": 25,
   "metadata": {},
   "outputs": [
    {
     "data": {
      "text/plain": [
       "RMSLE       0.340390\n",
       "R2_SCORE   -1.200318\n",
       "RMSE        1.097243\n",
       "STD         0.663170\n",
       "RMSE/STD    1.673652\n",
       "dtype: float64"
      ]
     },
     "execution_count": 25,
     "metadata": {},
     "output_type": "execute_result"
    }
   ],
   "source": [
    "df_metricas_res_exp2.mean()"
   ]
  },
  {
   "cell_type": "markdown",
   "metadata": {},
   "source": [
    "### Metrics Comparison"
   ]
  },
  {
   "cell_type": "code",
   "execution_count": 46,
   "metadata": {},
   "outputs": [
    {
     "data": {
      "text/html": [
       "<div>\n",
       "<style scoped>\n",
       "    .dataframe tbody tr th:only-of-type {\n",
       "        vertical-align: middle;\n",
       "    }\n",
       "\n",
       "    .dataframe tbody tr th {\n",
       "        vertical-align: top;\n",
       "    }\n",
       "\n",
       "    .dataframe thead th {\n",
       "        text-align: right;\n",
       "    }\n",
       "</style>\n",
       "<table border=\"1\" class=\"dataframe\">\n",
       "  <thead>\n",
       "    <tr style=\"text-align: right;\">\n",
       "      <th></th>\n",
       "      <th>ciudad</th>\n",
       "      <th>tipodepropiedad</th>\n",
       "      <th>RMSLE</th>\n",
       "      <th>R2_SCORE</th>\n",
       "      <th>RMSE</th>\n",
       "      <th>STD</th>\n",
       "      <th>RMSE/STD</th>\n",
       "    </tr>\n",
       "  </thead>\n",
       "  <tbody>\n",
       "    <tr>\n",
       "      <th>0</th>\n",
       "      <td>Benito Juárez</td>\n",
       "      <td>Apartamento</td>\n",
       "      <td>0.328189</td>\n",
       "      <td>-1.078706</td>\n",
       "      <td>1.117033</td>\n",
       "      <td>0.588276</td>\n",
       "      <td>1.898825</td>\n",
       "    </tr>\n",
       "    <tr>\n",
       "      <th>1</th>\n",
       "      <td>Benito Juárez</td>\n",
       "      <td>Casa</td>\n",
       "      <td>0.372681</td>\n",
       "      <td>-0.319060</td>\n",
       "      <td>1.594999</td>\n",
       "      <td>1.192107</td>\n",
       "      <td>1.337967</td>\n",
       "    </tr>\n",
       "    <tr>\n",
       "      <th>2</th>\n",
       "      <td>Benito Juárez</td>\n",
       "      <td>Casa en condominio</td>\n",
       "      <td>0.257998</td>\n",
       "      <td>-2.053600</td>\n",
       "      <td>0.959494</td>\n",
       "      <td>0.458049</td>\n",
       "      <td>2.094744</td>\n",
       "    </tr>\n",
       "    <tr>\n",
       "      <th>3</th>\n",
       "      <td>La Magdalena Contreras</td>\n",
       "      <td>Casa en condominio</td>\n",
       "      <td>0.230507</td>\n",
       "      <td>-3.040699</td>\n",
       "      <td>0.888188</td>\n",
       "      <td>0.438332</td>\n",
       "      <td>2.026290</td>\n",
       "    </tr>\n",
       "    <tr>\n",
       "      <th>4</th>\n",
       "      <td>La Magdalena Contreras</td>\n",
       "      <td>Apartamento</td>\n",
       "      <td>0.410801</td>\n",
       "      <td>-1.786988</td>\n",
       "      <td>1.325464</td>\n",
       "      <td>0.630791</td>\n",
       "      <td>2.101273</td>\n",
       "    </tr>\n",
       "    <tr>\n",
       "      <th>...</th>\n",
       "      <td>...</td>\n",
       "      <td>...</td>\n",
       "      <td>...</td>\n",
       "      <td>...</td>\n",
       "      <td>...</td>\n",
       "      <td>...</td>\n",
       "      <td>...</td>\n",
       "    </tr>\n",
       "    <tr>\n",
       "      <th>216</th>\n",
       "      <td>El Salto</td>\n",
       "      <td>Casa</td>\n",
       "      <td>0.546026</td>\n",
       "      <td>-0.525086</td>\n",
       "      <td>2.010350</td>\n",
       "      <td>1.456022</td>\n",
       "      <td>1.380714</td>\n",
       "    </tr>\n",
       "    <tr>\n",
       "      <th>217</th>\n",
       "      <td>Medellín</td>\n",
       "      <td>Casa</td>\n",
       "      <td>0.431662</td>\n",
       "      <td>-2.424403</td>\n",
       "      <td>1.313706</td>\n",
       "      <td>0.613435</td>\n",
       "      <td>2.141556</td>\n",
       "    </tr>\n",
       "    <tr>\n",
       "      <th>218</th>\n",
       "      <td>Córdoba</td>\n",
       "      <td>Casa</td>\n",
       "      <td>0.424969</td>\n",
       "      <td>-0.890785</td>\n",
       "      <td>1.542902</td>\n",
       "      <td>0.767661</td>\n",
       "      <td>2.009876</td>\n",
       "    </tr>\n",
       "    <tr>\n",
       "      <th>219</th>\n",
       "      <td>Chicoloapan</td>\n",
       "      <td>Casa</td>\n",
       "      <td>0.509931</td>\n",
       "      <td>-0.582422</td>\n",
       "      <td>1.995181</td>\n",
       "      <td>1.054595</td>\n",
       "      <td>1.891892</td>\n",
       "    </tr>\n",
       "    <tr>\n",
       "      <th>220</th>\n",
       "      <td>Comalcalco</td>\n",
       "      <td>Casa</td>\n",
       "      <td>0.488759</td>\n",
       "      <td>-2.147067</td>\n",
       "      <td>1.741662</td>\n",
       "      <td>1.061490</td>\n",
       "      <td>1.640772</td>\n",
       "    </tr>\n",
       "  </tbody>\n",
       "</table>\n",
       "<p>221 rows × 7 columns</p>\n",
       "</div>"
      ],
      "text/plain": [
       "                     ciudad     tipodepropiedad     RMSLE  R2_SCORE      RMSE  \\\n",
       "0             Benito Juárez         Apartamento  0.328189 -1.078706  1.117033   \n",
       "1             Benito Juárez                Casa  0.372681 -0.319060  1.594999   \n",
       "2             Benito Juárez  Casa en condominio  0.257998 -2.053600  0.959494   \n",
       "3    La Magdalena Contreras  Casa en condominio  0.230507 -3.040699  0.888188   \n",
       "4    La Magdalena Contreras         Apartamento  0.410801 -1.786988  1.325464   \n",
       "..                      ...                 ...       ...       ...       ...   \n",
       "216                El Salto                Casa  0.546026 -0.525086  2.010350   \n",
       "217                Medellín                Casa  0.431662 -2.424403  1.313706   \n",
       "218                 Córdoba                Casa  0.424969 -0.890785  1.542902   \n",
       "219             Chicoloapan                Casa  0.509931 -0.582422  1.995181   \n",
       "220              Comalcalco                Casa  0.488759 -2.147067  1.741662   \n",
       "\n",
       "          STD  RMSE/STD  \n",
       "0    0.588276  1.898825  \n",
       "1    1.192107  1.337967  \n",
       "2    0.458049  2.094744  \n",
       "3    0.438332  2.026290  \n",
       "4    0.630791  2.101273  \n",
       "..        ...       ...  \n",
       "216  1.456022  1.380714  \n",
       "217  0.613435  2.141556  \n",
       "218  0.767661  2.009876  \n",
       "219  1.054595  1.891892  \n",
       "220  1.061490  1.640772  \n",
       "\n",
       "[221 rows x 7 columns]"
      ]
     },
     "execution_count": 46,
     "metadata": {},
     "output_type": "execute_result"
    }
   ],
   "source": [
    "from sklearn.metrics import r2_score\n",
    "df_metricas_ciudad = pd.DataFrame(columns=[\"ciudad\",\"tipodepropiedad\",\"RMSLE\",\"R2_SCORE\",\"RMSE\",\"STD\"])\n",
    "for c in df.ciudad.unique():\n",
    "    df_ciudad = df[df[\"ciudad\"] == c]\n",
    "    for t in df_ciudad.tipodepropiedad.unique():\n",
    "        df_propiedad = df_ciudad[df_ciudad[\"tipodepropiedad\"] == t]\n",
    "        if df_propiedad.dropna().shape[0] < 20:\n",
    "            continue\n",
    "        res_propiedad, rmse_propiedad, rmsle_propiedad = linear_regression(df_propiedad,[\"metroscubiertos\"], \"habitaciones\", n_splits=4, shuffle=True) \n",
    "        r2 = np.mean([r2_score(r[\"expect\"],r[\"pred\"]) for r in res_propiedad])\n",
    "        df_metricas_ciudad = df_metricas_ciudad.append({\"ciudad\":c,\"tipodepropiedad\":t,\"RMSLE\":rmsle_propiedad,\"R2_SCORE\":r2,\"RMSE\":rmse_propiedad,\"STD\":df_propiedad.habitaciones.std()}, ignore_index=True)\n",
    "\n",
    "df_metricas_ciudad[\"RMSE/STD\"] = df_metricas_ciudad[\"RMSE\"]/df_metricas_ciudad[\"STD\"]\n",
    "df_metricas_ciudad"
   ]
  },
  {
   "cell_type": "code",
   "execution_count": 52,
   "metadata": {},
   "outputs": [
    {
     "data": {
      "text/plain": [
       "RMSLE       0.370575\n",
       "R2_SCORE   -1.753257\n",
       "RMSE        1.335785\n",
       "STD         0.693984\n",
       "RMSE/STD    1.964306\n",
       "dtype: float64"
      ]
     },
     "execution_count": 52,
     "metadata": {},
     "output_type": "execute_result"
    }
   ],
   "source": [
    "df_metricas_ciudad.groupby([\"tipodepropiedad\"]).mean().mean()"
   ]
  }
 ],
 "metadata": {
  "kernelspec": {
   "display_name": "Python 3",
   "language": "python",
   "name": "python3"
  },
  "language_info": {
   "codemirror_mode": {
    "name": "ipython",
    "version": 3
   },
   "file_extension": ".py",
   "mimetype": "text/x-python",
   "name": "python",
   "nbconvert_exporter": "python",
   "pygments_lexer": "ipython3",
   "version": "3.8.5"
  }
 },
 "nbformat": 4,
 "nbformat_minor": 4
}
