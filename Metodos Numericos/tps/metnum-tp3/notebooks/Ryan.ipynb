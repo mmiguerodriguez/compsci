{
 "cells": [
  {
   "cell_type": "code",
   "execution_count": 2,
   "metadata": {},
   "outputs": [
    {
     "name": "stdout",
     "output_type": "stream",
     "text": [
      "mkdir: cannot create directory ‘build’: File exists\n",
      "/bin/bash: cmake: command not found\n",
      "make: *** No rule to make target 'install'.  Stop.\n"
     ]
    }
   ],
   "source": [
    "!cd .. && mkdir build\n",
    "!cd ../build/ && rm -rf *\n",
    "!cd ../build && cmake \\\n",
    "  -DPYTHON_EXECUTABLE=\"$(which python)\" \\\n",
    "  -DCMAKE_BUILD_TYPE=Release ..\n",
    "!cd ../build && make install"
   ]
  },
  {
   "cell_type": "code",
   "execution_count": 3,
   "metadata": {},
   "outputs": [],
   "source": [
    "import pandas as pd\n",
    "import numpy as np\n",
    "\n",
    "from commons import linear_regression\n",
    "\n",
    "import seaborn as sns\n",
    "import matplotlib.pyplot as plt"
   ]
  },
  {
   "cell_type": "code",
   "execution_count": 4,
   "metadata": {},
   "outputs": [
    {
     "name": "stdout",
     "output_type": "stream",
     "text": [
      "/home/ryan/UBA/Metodos/metnum-tp3/notebooks\n",
      "Python 3.8.5\n"
     ]
    }
   ],
   "source": [
    "# Verifico la correcta instalación. Si no falla el import está OK\n",
    "!pwd\n",
    "!python --version\n",
    "import metnum\n"
   ]
  },
  {
   "cell_type": "code",
   "execution_count": 5,
   "metadata": {},
   "outputs": [],
   "source": [
    "df = pd.read_csv('../data/train.csv')"
   ]
  },
  {
   "cell_type": "code",
   "execution_count": 6,
   "metadata": {},
   "outputs": [
    {
     "name": "stdout",
     "output_type": "stream",
     "text": [
      "2750\n",
      "3245\n"
     ]
    },
    {
     "data": {
      "image/png": "[encoded data removed]",
      "text/plain": [
       "<Figure size 432x288 with 1 Axes>"
      ]
     },
     "metadata": {
      "needs_background": "light"
     },
     "output_type": "display_data"
    },
    {
     "name": "stdout",
     "output_type": "stream",
     "text": [
      "rmse: 2008586.3159942995\n",
      "rmsle: 0.8844476095401805\n"
     ]
    },
    {
     "ename": "NameError",
     "evalue": "name 'r2_score' is not defined",
     "output_type": "error",
     "traceback": [
      "\u001b[0;31m-----------------------------------------------------\u001b[0m",
      "\u001b[0;31mNameError\u001b[0m           Traceback (most recent call last)",
      "\u001b[0;32m<ipython-input-6-8c43207d63dc>\u001b[0m in \u001b[0;36m<module>\u001b[0;34m\u001b[0m\n\u001b[1;32m     18\u001b[0m \u001b[0mexpec\u001b[0m \u001b[0;34m=\u001b[0m \u001b[0mres\u001b[0m\u001b[0;34m[\u001b[0m\u001b[0;36m0\u001b[0m\u001b[0;34m]\u001b[0m\u001b[0;34m[\u001b[0m\u001b[0;34m\"expect\"\u001b[0m\u001b[0;34m]\u001b[0m\u001b[0;34m\u001b[0m\u001b[0;34m\u001b[0m\u001b[0m\n\u001b[1;32m     19\u001b[0m \u001b[0mpred\u001b[0m \u001b[0;34m=\u001b[0m \u001b[0mres\u001b[0m\u001b[0;34m[\u001b[0m\u001b[0;36m0\u001b[0m\u001b[0;34m]\u001b[0m\u001b[0;34m[\u001b[0m\u001b[0;34m\"pred\"\u001b[0m\u001b[0;34m]\u001b[0m\u001b[0;34m\u001b[0m\u001b[0;34m\u001b[0m\u001b[0m\n\u001b[0;32m---> 20\u001b[0;31m \u001b[0mprint\u001b[0m\u001b[0;34m(\u001b[0m\u001b[0;34m'r2:'\u001b[0m\u001b[0;34m,\u001b[0m \u001b[0mr2_score\u001b[0m\u001b[0;34m(\u001b[0m\u001b[0mexpec\u001b[0m\u001b[0;34m,\u001b[0m\u001b[0mpred\u001b[0m\u001b[0;34m)\u001b[0m\u001b[0;34m)\u001b[0m\u001b[0;34m\u001b[0m\u001b[0;34m\u001b[0m\u001b[0m\n\u001b[0m\u001b[1;32m     21\u001b[0m \u001b[0;34m\u001b[0m\u001b[0m\n\u001b[1;32m     22\u001b[0m \u001b[0mres\u001b[0m\u001b[0;34m,\u001b[0m\u001b[0mrmse\u001b[0m\u001b[0;34m,\u001b[0m\u001b[0mrmsle\u001b[0m \u001b[0;34m=\u001b[0m \u001b[0mlinear_regression\u001b[0m\u001b[0;34m(\u001b[0m\u001b[0mdf\u001b[0m\u001b[0;34m[\u001b[0m\u001b[0mdf\u001b[0m\u001b[0;34m[\u001b[0m\u001b[0;34m'ciudad'\u001b[0m\u001b[0;34m]\u001b[0m\u001b[0;34m==\u001b[0m\u001b[0;34m'Toluca'\u001b[0m\u001b[0;34m]\u001b[0m\u001b[0;34m,\u001b[0m\u001b[0;34m[\u001b[0m\u001b[0;34m\"metrostotales\"\u001b[0m\u001b[0;34m]\u001b[0m\u001b[0;34m,\u001b[0m \u001b[0;34m\"precio\"\u001b[0m\u001b[0;34m)\u001b[0m\u001b[0;34m\u001b[0m\u001b[0;34m\u001b[0m\u001b[0m\n",
      "\u001b[0;31mNameError\u001b[0m: name 'r2_score' is not defined"
     ]
    }
   ],
   "source": [
    "# Ver como influyen los outliers analizando el RMSE, pero con RMSLE se obtienen resultados parecidos\n",
    "\n",
    "res,rmse,rmsle = linear_regression(df[df['ciudad']=='Cancún'],[\"metrostotales\"], \"precio\")\n",
    "\n",
    "print(df[df['ciudad']=='Cancún'][\"metrostotales\"].dropna().size)\n",
    "print(df[df['ciudad']=='Chihuahua'][\"metrostotales\"].dropna().size)\n",
    "\n",
    "plt.scatter(res[0][\"x\"][\"metrostotales\"],res[0][\"expect\"], label=\"Esperado\")\n",
    "plt.scatter(res[0][\"x\"][\"metrostotales\"],res[0][\"pred\"], label=\"Predecido\")\n",
    "plt.legend()\n",
    "plt.xlabel(\"Metros Totales\")\n",
    "plt.ylabel(\"Precio\")\n",
    "#plt.savefig('CancunMetrosTotalesVsPrecio.png')\n",
    "plt.show()\n",
    "\n",
    "print('rmse:', rmse)\n",
    "print('rmsle:', rmsle)\n",
    "expec = res[0][\"expect\"]\n",
    "pred = res[0][\"pred\"]\n",
    "print('r2:', r2_score(expec,pred))\n",
    "\n",
    "res,rmse,rmsle = linear_regression(df[df['ciudad']=='Toluca'],[\"metrostotales\"], \"precio\")\n",
    "\n",
    "plt.scatter(res[0][\"x\"][\"metrostotales\"],res[0][\"expect\"], label=\"Esperado\")\n",
    "plt.scatter(res[0][\"x\"][\"metrostotales\"],res[0][\"pred\"], label=\"Predecido\")\n",
    "plt.legend()\n",
    "plt.xlabel(\"Metros Totales\")\n",
    "plt.ylabel(\"Precio\")\n",
    "#plt.savefig('TolucaMetrosTotalesVsPrecio.png')\n",
    "plt.show()\n",
    "\n",
    "print('rmse:', rmse)\n",
    "print('rmsle:', rmsle)\n",
    "expec = res[0][\"expect\"]\n",
    "pred = res[0][\"pred\"]\n",
    "print('r2:', r2_score(expec,pred))"
   ]
  },
  {
   "cell_type": "code",
   "execution_count": null,
   "metadata": {},
   "outputs": [],
   "source": [
    "res,rmse,rmsle = linear_regression(df[df['ciudad']=='Chihuahua'],[\"metrostotales\"], \"precio\")\n",
    "\n",
    "plt.scatter(res[0][\"x\"][\"metrostotales\"],res[0][\"expect\"], label=\"Esperado\")\n",
    "plt.scatter(res[0][\"x\"][\"metrostotales\"],res[0][\"pred\"], label=\"Predecido\")\n",
    "plt.legend()\n",
    "plt.xlabel(\"Metros Totales\")\n",
    "plt.ylabel(\"Precio\")\n",
    "# plt.savefig('ChihuahuaMetrosTotalesVsPrecio.png')\n",
    "plt.show()\n",
    "\n",
    "print('rmse:', rmse)\n",
    "print('rmsle:', rmsle)\n",
    "\n",
    "from sklearn.metrics import r2_score\n",
    "expec = res[0][\"expect\"]\n",
    "pred = res[0][\"pred\"]\n",
    "print('r2:', r2_score(expec,pred))"
   ]
  },
  {
   "cell_type": "code",
   "execution_count": null,
   "metadata": {},
   "outputs": [],
   "source": [
    "dfSinOutliers = df[df['ciudad']=='Chihuahua']\n",
    "dfSinOutliers = dfSinOutliers[dfSinOutliers['precio']<4000000]\n",
    "\n",
    "res,rmse,rmsle = linear_regression(dfSinOutliers,[\"metrostotales\"], \"precio\")\n",
    "\n",
    "plt.scatter(res[0][\"x\"][\"metrostotales\"],res[0][\"expect\"], label=\"Esperado\")\n",
    "plt.scatter(res[0][\"x\"][\"metrostotales\"],res[0][\"pred\"], label=\"Predecido\")\n",
    "plt.legend()\n",
    "plt.xlabel(\"Metros Totales\")\n",
    "plt.ylabel(\"Precio\")\n",
    "# plt.savefig('ChihuahuaMetrosTotalesVsPrecioSinoutliers.png')\n",
    "plt.show()\n",
    "\n",
    "print('rmse:', rmse)\n",
    "print('rmsle:', rmsle)\n",
    "\n",
    "from sklearn.metrics import r2_score\n",
    "expec = res[0][\"expect\"]\n",
    "pred = res[0][\"pred\"]\n",
    "print('r2:', r2_score(expec,pred))"
   ]
  },
  {
   "cell_type": "code",
   "execution_count": null,
   "metadata": {},
   "outputs": [],
   "source": [
    "res,rmse,rmsle = linear_regression(df[df['ciudad']=='Chihuahua'],[\"metroscubiertos\"], \"banos\")\n",
    "\n",
    "plt.scatter(res[0][\"x\"][\"metroscubiertos\"],res[0][\"expect\"], label=\"Esperado\")\n",
    "plt.scatter(res[0][\"x\"][\"metroscubiertos\"],res[0][\"pred\"], label=\"Predecido\")\n",
    "plt.scatter(res[0][\"x\"][\"metroscubiertos\"],np.round(res[0][\"pred\"]), label=\"Redondeo\")\n",
    "plt.legend()\n",
    "plt.xlabel(\"Metros Totales\")\n",
    "plt.ylabel(\"Precio\")\n",
    "# plt.savefig('ChihuahuaMetrosCubiertosVsBaños.png')\n",
    "plt.show()\n",
    "\n",
    "print('rmse:', rmse)\n",
    "print('rmsle:', rmsle)\n",
    "\n",
    "from sklearn.metrics import r2_score\n",
    "expec = res[0][\"expect\"]\n",
    "pred = res[0][\"pred\"]\n",
    "print('r2:', r2_score(expec,pred))"
   ]
  },
  {
   "cell_type": "code",
   "execution_count": null,
   "metadata": {},
   "outputs": [],
   "source": [
    "df[df['ciudad']=='Chihuahua']['metrostotales'].hist()"
   ]
  },
  {
   "cell_type": "code",
   "execution_count": null,
   "metadata": {},
   "outputs": [],
   "source": [
    "df[df['ciudad']=='Chihuahua']['precio'].hist()"
   ]
  },
  {
   "cell_type": "code",
   "execution_count": 7,
   "metadata": {},
   "outputs": [
    {
     "data": {
      "text/plain": [
       "<matplotlib.axes._subplots.AxesSubplot at 0x7f7a6f46f730>"
      ]
     },
     "execution_count": 7,
     "metadata": {},
     "output_type": "execute_result"
    },
    {
     "data": {
      "image/png": "[encoded data removed]",
      "text/plain": [
       "<Figure size 432x288 with 1 Axes>"
      ]
     },
     "metadata": {
      "needs_background": "light"
     },
     "output_type": "display_data"
    }
   ],
   "source": [
    "df[df['ciudad']=='Chihuahua']['metrostotales'].hist()"
   ]
  },
  {
   "cell_type": "code",
   "execution_count": null,
   "metadata": {},
   "outputs": [],
   "source": []
  }
 ],
 "metadata": {
  "kernelspec": {
   "display_name": "Python 3",
   "language": "python",
   "name": "python3"
  },
  "language_info": {
   "codemirror_mode": {
    "name": "ipython",
    "version": 3
   },
   "file_extension": ".py",
   "mimetype": "text/x-python",
   "name": "python",
   "nbconvert_exporter": "python",
   "pygments_lexer": "ipython3",
   "version": "3.8.5"
  }
 },
 "nbformat": 4,
 "nbformat_minor": 4
}
