{
 "cells": [
  {
   "cell_type": "markdown",
   "metadata": {},
   "source": [
    "# Experimentando con Rankings Deportivos\n",
    "## Implementación en C++ 💪💪\n",
    "Let's get this show on the road\n"
   ]
  },
  {
   "cell_type": "markdown",
   "metadata": {},
   "source": [
    "Definir los path al ejecutable de python 3.6 y sus librerías,\n",
    "de acuerdo al virtual env que estén corriendo."
   ]
  },
  {
   "cell_type": "code",
   "execution_count": 1,
   "metadata": {},
   "outputs": [
    {
     "name": "stdout",
     "output_type": "stream",
     "text": [
      "-- The C compiler identification is GNU 9.3.0\n",
      "-- The CXX compiler identification is GNU 9.3.0\n",
      "-- Check for working C compiler: /usr/bin/cc\n",
      "-- Check for working C compiler: /usr/bin/cc -- works\n",
      "-- Detecting C compiler ABI info\n",
      "-- Detecting C compiler ABI info - done\n",
      "-- Detecting C compile features\n",
      "-- Detecting C compile features - done\n",
      "-- Check for working CXX compiler: /usr/bin/c++\n",
      "-- Check for working CXX compiler: /usr/bin/c++ -- works\n",
      "-- Detecting CXX compiler ABI info\n",
      "-- Detecting CXX compiler ABI info - done\n",
      "-- Detecting CXX compile features\n",
      "-- Detecting CXX compile features - done\n",
      "-- Configuring done\n",
      "-- Generating done\n",
      "-- Build files have been written to: /home/roni/Documents/metnum/metnum-tp1/entregable/notebooks/build/src\n",
      "\u001b[35m\u001b[1mScanning dependencies of target tp1\u001b[0m\n",
      "[ 16%] \u001b[32mBuilding CXX object CMakeFiles/tp1.dir/Clases/Equipo.cpp.o\u001b[0m\n",
      "[ 33%] \u001b[32m\u001b[1mLinking CXX executable tp1\u001b[0m\n",
      "[100%] Built target tp1\n"
     ]
    }
   ],
   "source": [
    "!rm -rf ./build\n",
    "!mkdir ./build\n",
    "!cd ./build && git submodule init\n",
    "!cd ./build && git submodule update\n",
    "!cp -r ../src ./build/src\n",
    "!rm -rf ./build/src/CMakeCache.txt\n",
    "!cd ./build/src/ && cmake \\\n",
    "  -DCMAKE_BUILD_TYPE=Release -DCMAKE_CXX_FLAGS=\"-Wno-sign-compare\" .\n",
    "!cd ./build/src && make\n",
    "!cp ./build/src/tp1 ./src"
   ]
  },
  {
   "cell_type": "code",
   "execution_count": 2,
   "metadata": {},
   "outputs": [],
   "source": [
    "from commons import *"
   ]
  },
  {
   "cell_type": "markdown",
   "metadata": {},
   "source": [
    "### NBA\n",
    "Vamos a realizar una prueba con el dataset de la nba para cada metodo y ver como las posiciones de cada equipo varia para cada metodo"
   ]
  },
  {
   "cell_type": "code",
   "execution_count": null,
   "metadata": {
    "scrolled": false
   },
   "outputs": [],
   "source": [
    "df_nba = calculateRatings(\"../data/nba_2016_scores.dat\",\"../data/nba_2016_teams.csv\")\n",
    "plotAllMethods(df_nba)"
   ]
  },
  {
   "cell_type": "markdown",
   "metadata": {},
   "source": [
    "### Liga los amigos\n",
    "Un grupo de 10 amigos se junta a jugar una liga de Winning Eleven 2006 todos los sabados. Cada jugador se enfrenta a otro, pero no siempre todos los jugadores pueden jugar asi que no todos juegan la misma cantidad de partidos. Por lo tanto, teniendo en cuenta de esta diferencia, los amigos quieren saber cual es la mejor forma de calcular un ranking para saber las posiciones en su liga. Ademas Jorge, uno de los amigos, dice que el es mejor que Juan porque juega contra amigos que jugan mejor, y quiere que esto quede reflejado en su tabla asi juan no sale primero por jugar siempre contra los peores."
   ]
  },
  {
   "cell_type": "code",
   "execution_count": null,
   "metadata": {
    "scrolled": false
   },
   "outputs": [],
   "source": [
    "df_amigos1 = calculateRatings(\"../data/liga_los_amigos_scores1.dat\",\"../data/liga_los_amigos_teams.csv\")\n",
    "plotAllMethods(df_amigos1)"
   ]
  },
  {
   "cell_type": "code",
   "execution_count": null,
   "metadata": {
    "scrolled": true
   },
   "outputs": [],
   "source": [
    "df_amigos1.loc[df_amigos1[\"Equipo\"].isin([\"Juan\",\"Jorge\"])].reset_index(drop=True)"
   ]
  },
  {
   "cell_type": "markdown",
   "metadata": {},
   "source": [
    "Luego de hacer los calculos para la primera fecha Juan, como Jorge habia adelantado, se enfrento contra los peores (jugadores que perdieron todos los partidos que jugaron) y les gano por goleada, a ver los resultados de los 3 rankings (CMM, WP y BP), CMM fue el unico que pudo cumplir las expectativas de Jorge, que le dio mas puntuacion ya que jugo contra jugadores que ganaron partidos. En WP salieron empadatados porque ambos ganaron todos sus partidos, y en BP Juan supero a Jorge ya que el goleo a sus contrincantes."
   ]
  },
  {
   "cell_type": "markdown",
   "metadata": {},
   "source": [
    "Al siguiente sabado se volvieron a juntar los amigos se volvieron a juntar, pero esta vez Jorge y Juan no pudieron estar presentes. Ambos con una gran ventaja sobre sus competidores piensan que sus posiciones no van a ser modificadas a menos que algun competidor los supere con amplias victorias. En la segunda fecha los competidores que habian perdido contra Juan, los peores, en su mayoria ganaron sus enfrentamientos. Entonces al ver la tabla de posiciones segun CMM Jorge ya no era el primero, ya que Juan lo supero; pero ninguno de los dos habia jugado. Esto paso debido a que los ratings de los jugadores que le gano Juan subieron y en CMM ganarle a jugadores con buen rating te da mas rating. "
   ]
  },
  {
   "cell_type": "code",
   "execution_count": null,
   "metadata": {
    "scrolled": false
   },
   "outputs": [],
   "source": [
    "df_amigos2 = calculateRatings(\"../data/liga_los_amigos_scores2.dat\",\"../data/liga_los_amigos_teams.csv\")\n",
    "plotAllMethods(df_amigos2)"
   ]
  },
  {
   "cell_type": "code",
   "execution_count": null,
   "metadata": {
    "scrolled": true
   },
   "outputs": [],
   "source": [
    "df_amigos2.loc[df_amigos2[\"Equipo\"].isin([\"Juan\",\"Jorge\"])].reset_index(drop=True)"
   ]
  },
  {
   "cell_type": "code",
   "execution_count": null,
   "metadata": {},
   "outputs": [],
   "source": [
    "df_amigos_diff = pd.DataFrame(df_amigos2[\"id\"]).copy()\n",
    "df_amigos_diff[\"Equipo\"] = df_amigos2[\"Equipo\"]\n",
    "df_amigos_diff[\"diff CMM\"] = df_amigos2[\"CMM\"].astype(float) - df_amigos1[\"CMM\"].astype(float)\n",
    "df_amigos_diff[\"diff WP\"] = df_amigos2[\"WP\"].astype(float) - df_amigos1[\"WP\"].astype(float)\n",
    "df_amigos_diff[\"diff BP\"] = df_amigos2[\"BP\"].astype(float) - df_amigos1[\"BP\"].astype(float)\n",
    "\n",
    "df_amigos_diff.loc[df_amigos_diff[\"Equipo\"].isin([\"Juan\",\"Jorge\"])].reset_index(drop=True)"
   ]
  },
  {
   "cell_type": "code",
   "execution_count": null,
   "metadata": {
    "scrolled": false
   },
   "outputs": [],
   "source": [
    "cmm_amigos1_rank = df_amigos1.sort_values('CMM',ascending=True)[\"id\"]\n",
    "cmm_amigos2_rank = df_amigos2.sort_values('CMM', ascending=True)[\"id\"]\n",
    "teams = df_amigos2[\"Equipo\"]\n",
    "\n",
    "positions = range(1,len(teams)+1)\n",
    "\n",
    "w=0.35\n",
    "cmm_amigos1_pos = [t - w/2 for t in cmm_amigos1_rank]\n",
    "cmm_amigos2_pos = [t + w/2 for t in cmm_amigos2_rank]\n",
    "\n",
    "fig, ax = plt.subplots()\n",
    "\n",
    "plt.bar(cmm_amigos1_pos,positions,label=\"Fecha 1\", width=w)\n",
    "plt.bar(cmm_amigos2_pos, positions, label=\"Fecha 2\", width=w)\n",
    "\n",
    "plt.ylabel(\"Posicion\", fontsize=18)\n",
    "plt.xlabel(\"Equipos\", fontsize=18)\n",
    "plt.xticks(range(1,len(teams)+1), teams, rotation=75, fontsize=12)\n",
    "plt.yticks(positions, range(len(positions),0,-1))\n",
    "fig.set_size_inches(20, 8)\n",
    "plt.legend(fontsize=14)\n",
    "plt.title(\"Evolución de posiciones en base al ranking CMM\", fontsize=22)\n",
    "ax.yaxis.grid(color='dimgrey')\n",
    "plt.show()"
   ]
  }
 ],
 "metadata": {
  "kernelspec": {
   "display_name": "Python 3",
   "language": "python",
   "name": "python3"
  },
  "language_info": {
   "codemirror_mode": {
    "name": "ipython",
    "version": 3
   },
   "file_extension": ".py",
   "mimetype": "text/x-python",
   "name": "python",
   "nbconvert_exporter": "python",
   "pygments_lexer": "ipython3",
   "version": "3.8.2"
  }
 },
 "nbformat": 4,
 "nbformat_minor": 2
}
