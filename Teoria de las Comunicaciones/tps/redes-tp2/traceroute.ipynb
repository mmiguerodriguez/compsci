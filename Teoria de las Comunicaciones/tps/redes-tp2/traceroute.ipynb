{
 "cells": [
  {
   "cell_type": "code",
   "execution_count": null,
   "id": "f868919b",
   "metadata": {},
   "outputs": [],
   "source": [
    "import sys\n",
    "from scapy.all import *\n",
    "from time import *\n",
    "\n",
    "import requests\n",
    "\n",
    "import pandas as pd\n",
    "import matplotlib.pyplot as plt"
   ]
  },
  {
   "cell_type": "code",
   "execution_count": null,
   "id": "08ea5792",
   "metadata": {},
   "outputs": [],
   "source": [
    "# Obtiene la IP con mas apariciones en una lista\n",
    "def ipMasComun(ips):\n",
    "    max = 0\n",
    "    _ip = 0\n",
    "    for k, v in ips.items():\n",
    "        if v > max:\n",
    "            max = v\n",
    "            _ip = k\n",
    "    return _ip"
   ]
  },
  {
   "cell_type": "code",
   "execution_count": null,
   "id": "ff1f4b4a",
   "metadata": {},
   "outputs": [],
   "source": [
    "# Obtiene el camino hacia una direccion IP\n",
    "# @params:\n",
    "#   max_saltos: Maximo de TTL que vamos a usar\n",
    "#   num_rafagas: Cantidad de paquetes ICMP que se enviaran por TTL\n",
    "#   max_time: Tiempo de espera para una respuesta\n",
    "\n",
    "def traceroute(ip_dst, max_saltos, num_rafagas, max_time):\n",
    "    responses = []\n",
    "    \n",
    "    for ttl in range (1, max_saltos):\n",
    "        # Armamos el paquete ICMP a enviar con la IP destino y el TimeToLive\n",
    "        echo_request = IP(dst=ip_dst, ttl=ttl) / ICMP()\n",
    "        \n",
    "        # ips: Diccionario de IPs que responden al TTL actual con su numero de respuestas\n",
    "        # rtts: Diccionario de RTTs para las IPs que responden al TTL actual\n",
    "        ips = {}\n",
    "        rtts = {}\n",
    "        for rafaga in range(num_rafagas):\n",
    "            # Obtenemos la latencia entre el envio del paquete y su respuesta\n",
    "            t_i = time()\n",
    "            ans = sr1(echo_request, verbose=False, timeout=max_time) # envio paquete echo request\n",
    "            t_f = time()\n",
    "            \n",
    "            if ans is not None: # Si obtenemos respuesta\n",
    "                if ans.src not in ips:\n",
    "                    # Si la IP es nueva se agrega\n",
    "                    ips[ans.src] = 0\n",
    "                    rtts[ans.src] = 0\n",
    "                    \n",
    "                # Agregamos respuestas para esta IP y sumamos a la latencia total\n",
    "                ips[ans.src] += 1\n",
    "                rtts[ans.src] += (t_f - t_i) * 1000 \n",
    "                \n",
    "                # Si se llega a destino termina la rafaga\n",
    "                if ans.type == 0:\n",
    "                    break\n",
    "            else:\n",
    "                # Si no se obtiene respuesta agregamos a (*) como la IP obtenida con numero de respuestas < 1\n",
    "                # en caso de que si cualquier IP responde ya lo supere\n",
    "                ips['*'] = 0.5\n",
    "                rtts['*'] = 0\n",
    "        \n",
    "        # Obtenemos la IP mas comun y agregamos a la lista de responses para el TTL actual\n",
    "        ip = ipMasComun(ips)\n",
    "        rttPromedio = rtts[ip]/ips[ip]\n",
    "        responses.append((ip, rttPromedio))\n",
    "\n",
    "        # Vamos printeando el recorrido\n",
    "        print(ttl, responses[ttl - 1])\n",
    "\n",
    "        # Si se llega a destino se termina\n",
    "        if ans is not None and ans.type == 0:\n",
    "            break\n",
    "\n",
    "    return responses"
   ]
  },
  {
   "cell_type": "code",
   "execution_count": null,
   "id": "5e424ef5",
   "metadata": {},
   "outputs": [],
   "source": [
    "# Calcula diferencia de tiempo entre saltos\n",
    "def RTTEntreSaltos(response):\n",
    "    rtts_dif = []\n",
    "    for i in range(0, len(response) - 1):\n",
    "        for j in range(i + 1, len(response)):\n",
    "            rtt = response[j][1] - response[i][1]\n",
    "            if rtt > 0:\n",
    "                rtts_dif.append((response[i][0], response[j][0], rtt))\n",
    "                break\n",
    "    return rtts_dif"
   ]
  },
  {
   "cell_type": "code",
   "execution_count": null,
   "id": "fa98e1ec",
   "metadata": {},
   "outputs": [],
   "source": [
    "# Pasa a un dataframe y guarda en archivo los datos y los rtts\n",
    "def saveResponsesInfo(responses, testName):\n",
    "    df = pd.DataFrame(responses, columns=['IPsrc', 'Latencia'])\n",
    "    df.to_csv(f'results/{testName}-icmp.csv')\n",
    "    \n",
    "    responses = list(filter(lambda x: x[1] > 0, responses)) #filter\n",
    "    rtts = RTTEntreSaltos(responses)\n",
    "    df = pd.DataFrame(rtts, columns=['IPsrc', 'IPdst', 'Latencia'])\n",
    "    df.to_csv(f'results/{testName}-rtts.csv')"
   ]
  },
  {
   "cell_type": "code",
   "execution_count": null,
   "id": "00a1d26c",
   "metadata": {},
   "outputs": [],
   "source": [
    "# Estudia una ruta y genera los archivos de resultados\n",
    "def study_route(route_name, ip_dst, max_saltos=30, num_rafagas=8, max_time=0.8):\n",
    "    route = traceroute(ip_dst, max_saltos, num_rafagas, max_time)\n",
    "    saveResponsesInfo(route, route_name)"
   ]
  },
  {
   "cell_type": "code",
   "execution_count": null,
   "id": "f7d7047c",
   "metadata": {},
   "outputs": [],
   "source": [
    "filename = 'india'\n",
    "website = 'www.iitd.ac.in'\n",
    "ttl = 30\n",
    "rafagas = 30\n",
    "timeout = 0.8"
   ]
  },
  {
   "cell_type": "code",
   "execution_count": null,
   "id": "595a4953",
   "metadata": {},
   "outputs": [],
   "source": [
    "study_route(filename, website, ttl, rafagas, timeout)"
   ]
  }
 ],
 "metadata": {
  "kernelspec": {
   "display_name": "Python 3 (ipykernel)",
   "language": "python",
   "name": "python3"
  },
  "language_info": {
   "codemirror_mode": {
    "name": "ipython",
    "version": 3
   },
   "file_extension": ".py",
   "mimetype": "text/x-python",
   "name": "python",
   "nbconvert_exporter": "python",
   "pygments_lexer": "ipython3",
   "version": "3.8.10"
  }
 },
 "nbformat": 4,
 "nbformat_minor": 5
}
