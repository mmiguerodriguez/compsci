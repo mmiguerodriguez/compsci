{
 "cells": [
  {
   "cell_type": "code",
   "execution_count": null,
   "id": "35c49b83",
   "metadata": {},
   "outputs": [],
   "source": [
    "import sys\n",
    "import copy\n",
    "\n",
    "import requests\n",
    "import descartes\n",
    "import geopandas as gpd\n",
    "from shapely.geometry import Point, Polygon\n",
    "\n",
    "from scipy import stats\n",
    "import numpy as np\n",
    "import pandas as pd\n",
    "import matplotlib.pyplot as plt\n",
    "\n",
    "%matplotlib inline "
   ]
  },
  {
   "cell_type": "code",
   "execution_count": null,
   "id": "c8db29c4",
   "metadata": {},
   "outputs": [],
   "source": [
    "# Nombre de archivo a utilizar\n",
    "filename = 'singapur'"
   ]
  },
  {
   "cell_type": "code",
   "execution_count": null,
   "id": "03a530ba",
   "metadata": {},
   "outputs": [],
   "source": [
    "# Calcula el valor de la Thompson Modificada para un tamaño n de entrada\n",
    "def thompson_tau(n):\n",
    "    alpha = 0.05\n",
    "    return (stats.t.ppf(1 - (alpha/2), n - 2) * (n - 1))/(np.sqrt(n) * np.sqrt(n - 2 + stats.t.ppf(1 - (alpha/2), n - 2) ** 2))"
   ]
  },
  {
   "cell_type": "code",
   "execution_count": null,
   "id": "8a5f8522",
   "metadata": {},
   "outputs": [],
   "source": [
    "# Plotea (xᵢ - x̄)/S para un archivo de RTTs\n",
    "def plotOutliers(result_file):\n",
    "    dataRTT = pd.read_csv(f'results/{result_file}-rtts.csv', index_col=0)\n",
    "\n",
    "    RTTDifference = dataRTT['Latencia'].tolist()\n",
    "    n = len(RTTDifference)\n",
    "    sd = np.std(RTTDifference)\n",
    "    mean = np.mean(RTTDifference)\n",
    "    points = []\n",
    "    \n",
    "    for elem in RTTDifference:\n",
    "        di = elem - mean\n",
    "        points.append(di/sd)\n",
    "\n",
    "    plt.hlines(0, xmin=0, xmax=n - 1, color='black', linestyle='--')\n",
    "    plt.xlabel('Numero de salto')\n",
    "    plt.ylabel('(xᵢ - x̄)/S')\n",
    "    plt.plot(range(n), points)"
   ]
  },
  {
   "cell_type": "code",
   "execution_count": null,
   "id": "8b759ae8",
   "metadata": {
    "tags": []
   },
   "outputs": [],
   "source": [
    "plotOutliers(filename)"
   ]
  },
  {
   "cell_type": "code",
   "execution_count": null,
   "id": "88eab54e",
   "metadata": {},
   "outputs": [],
   "source": [
    "# Plotea los RTTs entre saltos para un archivo de RTTs\n",
    "def plotRTTs(result_file):\n",
    "    data = pd.read_csv(f'results/{result_file}-rtts.csv', index_col=0)\n",
    "    strings = []\n",
    "    for i, s in data.iterrows():\n",
    "        strings.append(f'{s[0]} → {s[1]}')\n",
    "        \n",
    "    plt.barh(strings, data['Latencia'])\n",
    "    plt.title('RTT entre saltos')\n",
    "    plt.xlabel('Latencia (ms)')\n",
    "    plt.ylabel('Saltos IP')\n",
    "    plt.gca().invert_yaxis()"
   ]
  },
  {
   "cell_type": "code",
   "execution_count": null,
   "id": "6226045d",
   "metadata": {},
   "outputs": [],
   "source": [
    "plotRTTs(filename)"
   ]
  },
  {
   "cell_type": "code",
   "execution_count": null,
   "id": "54d5b4ef",
   "metadata": {},
   "outputs": [],
   "source": [
    "# Obtiene los outliers utilizando metodo Cimbala para un archivo de RTTs\n",
    "def findOutliers(result_file):\n",
    "    dataRTT = pd.read_csv(f'results/{result_file}-rtts.csv', index_col=0)\n",
    "\n",
    "    # Obtener Latencias (RTT entre saltos)\n",
    "    RTTDifference = dataRTT['Latencia'].tolist()\n",
    "    originalRTTDifference = copy.deepcopy(RTTDifference)\n",
    "    n = len(RTTDifference)\n",
    "\n",
    "    processing = True\n",
    "    thompson_tau_data = thompson_tau(n)\n",
    "    outliers = []\n",
    "\n",
    "    while processing:\n",
    "        # Recalcular media/desvio/longitud de RTTs al remover un outlier\n",
    "        sd = np.std(RTTDifference)\n",
    "        mean = np.mean(RTTDifference)\n",
    "        new_len = len(RTTDifference)\n",
    "        ts = thompson_tau(new_len)\n",
    "        \n",
    "        for i in range(new_len):\n",
    "            elem = RTTDifference[i]\n",
    "            di = abs(elem - mean)\n",
    "            \n",
    "            # Punto de corte\n",
    "            # Si detectamos un outlier, lo sacamos de la lista\n",
    "            # y terminamos el \"for\" para recalcular media/desvio/ttau/longitud\n",
    "            if di/sd > ts:\n",
    "                outliers.append(originalRTTDifference.index(elem))\n",
    "                del RTTDifference[i]\n",
    "                break\n",
    "                \n",
    "            # Dejamos de procesar al llegar al ultimo\n",
    "            if i == (new_len - 1): \n",
    "                processing = False\n",
    "            \n",
    "    print(f'Found {len(outliers)} outlier(s), in indices: {outliers}\\n')\n",
    "    return dataRTT.loc[outliers]"
   ]
  },
  {
   "cell_type": "code",
   "execution_count": null,
   "id": "98eba2a9",
   "metadata": {},
   "outputs": [],
   "source": [
    "findOutliers('singapur')"
   ]
  },
  {
   "cell_type": "code",
   "execution_count": null,
   "id": "09db8236",
   "metadata": {},
   "outputs": [],
   "source": [
    "# Buscar ubicacion geografica de una IP\n",
    "# NOTA: No encuentra info de IPs privadas\n",
    "def infoOfIp(ip):\n",
    "    response = requests.get('https://ipinfo.io/{}/json?token=72857c31c67a33'.format(ip)).json()\n",
    "    if 'loc' in response.keys():\n",
    "        coordenadas = response['loc'].split(\",\")\n",
    "        latitud = float(coordenadas[0])\n",
    "        longitud = float(coordenadas[1])\n",
    "        return [response['ip'], latitud, longitud]\n",
    "    else:\n",
    "        # Si no encontró la ubicación de la IP, devolvemos las coordenadas de Bs.As\n",
    "        return [0,-34.6033,-58.3817] \n",
    "\n",
    "# Retorna si existe una IP de ubicacion similar a la pedida en una lista de IPs\n",
    "# 0.2 grados de distancia ~ aprox: 20km\n",
    "def similarIP(ip, ipsList):\n",
    "    for e in ipsList:\n",
    "        if abs(e[1] - ip[1]) <= 0.2 and abs(e[2] - ip[2]) <= 0.2:\n",
    "            return True\n",
    "    \n",
    "    return False"
   ]
  },
  {
   "cell_type": "code",
   "execution_count": null,
   "id": "d1e1e81a",
   "metadata": {
    "tags": []
   },
   "outputs": [],
   "source": [
    "# Dibuja en el mapa las ubicaciones de las IPs a partir de un archivo de camino ICMP\n",
    "def plotMap(result_file, minx=None, maxx=None, miny=None, maxy=None):\n",
    "    data = pd.read_csv(f'results/{result_file}-icmp.csv', index_col=0)['IPsrc'].tolist()\n",
    "    \n",
    "    # Obtener coordenadas y sacar similares\n",
    "    ipsCoord = [infoOfIp(i) for i in data]\n",
    "    ipsCoord = [e for i,e in enumerate(ipsCoord) if not similarIP(e, ipsCoord[:i])]\n",
    "    \n",
    "    # Cargar mapa\n",
    "    earthMap = gpd.read_file('mapas/ne_110m_land/ne_110m_land.shp')\n",
    "    \n",
    "    ipsCoordModified = [e[1:] for e in ipsCoord] # Remover primer indice (no nos importa)\n",
    "    df = pd.DataFrame(data=ipsCoordModified,columns=['latitude','longitude'])\n",
    "    geometry = [Point(xy) for xy in zip(df['longitude'], df['latitude'])]\n",
    "\n",
    "    crs = 'epsg:4326'\n",
    "    geo_df = gpd.GeoDataFrame(df,crs =crs,geometry=geometry)\n",
    "    \n",
    "    fig,ax = plt.subplots(figsize = (15,15))\n",
    "    earthMap.plot(ax=ax, alpha = 0.4, color = 'grey')\n",
    "    geo_df.plot(ax=ax, markersize = 20, color = 'red', marker = 'o', label = 'ip') \n",
    "    \n",
    "    ax.set_xlim(minx, maxx)\n",
    "    ax.set_ylim(miny, maxy)\n",
    "    \n",
    "    # Numerar el camino\n",
    "    i = 0\n",
    "    for ipInfo in ipsCoord:\n",
    "        ax.annotate(text=i, xy=(ipInfo[2], ipInfo[1]), xytext=(ipInfo[2] + 1, ipInfo[1] + 1), color='red')\n",
    "        i = i + 1"
   ]
  },
  {
   "cell_type": "code",
   "execution_count": null,
   "id": "270cbd2d",
   "metadata": {
    "tags": []
   },
   "outputs": [],
   "source": [
    "plotMap(filename)"
   ]
  }
 ],
 "metadata": {
  "kernelspec": {
   "display_name": "Python 3 (ipykernel)",
   "language": "python",
   "name": "python3"
  },
  "language_info": {
   "codemirror_mode": {
    "name": "ipython",
    "version": 3
   },
   "file_extension": ".py",
   "mimetype": "text/x-python",
   "name": "python",
   "nbconvert_exporter": "python",
   "pygments_lexer": "ipython3",
   "version": "3.8.10"
  }
 },
 "nbformat": 4,
 "nbformat_minor": 5
}
