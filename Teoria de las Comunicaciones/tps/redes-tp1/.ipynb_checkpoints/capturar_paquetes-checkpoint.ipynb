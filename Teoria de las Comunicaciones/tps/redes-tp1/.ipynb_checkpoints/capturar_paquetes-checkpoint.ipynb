{
 "cells": [
  {
   "cell_type": "code",
   "execution_count": null,
   "id": "2b5b165f",
   "metadata": {},
   "outputs": [],
   "source": [
    "from scapy.all import *\n",
    "from math import log2, ceil\n",
    "import matplotlib.pyplot as plt\n",
    "import pandas as pd"
   ]
  },
  {
   "cell_type": "code",
   "execution_count": null,
   "id": "8a104cac",
   "metadata": {},
   "outputs": [],
   "source": [
    "# Ethertype to name dicc\n",
    "ethertypeDicc = {\n",
    "    '2048' : 'IPv4',\n",
    "    '2054' : 'ARP',\n",
    "    '34525': 'IPv6',\n",
    "    '35020': 'LLDP',\n",
    "    '35130': '1905.1IEEE'\n",
    "}"
   ]
  },
  {
   "cell_type": "code",
   "execution_count": null,
   "id": "29e03b90-7164-4be5-8631-9d69a63a1b25",
   "metadata": {
    "tags": []
   },
   "outputs": [],
   "source": [
    "# Capturar paquetes Ether de archivo\n",
    "S1 = {}\n",
    "num_pkts = 0\n",
    "\n",
    "for pkt in PcapReader('/home/migue/share/paquete_3.pcapng'):\n",
    "    try:\n",
    "        if pkt.haslayer(Ether):\n",
    "            num_pkts += 1\n",
    "            dire = \"BROADCAST\" if pkt[Ether].dst==\"ff:ff:ff:ff:ff:ff\" else \"UNICAST\"\n",
    "            proto = pkt[Ether].type # El campo type contiene el protocolo\n",
    "            proto_name = ethertypeDicc[str(proto)]\n",
    "            s_i = (dire, proto_name) # El simbolo de la fuente es el tipo de direccion y el protocolo\n",
    "            if s_i not in S1:\n",
    "                S1[s_i] = 0.0\n",
    "            S1[s_i] += 1.0\n",
    "    except:\n",
    "        pass"
   ]
  },
  {
   "cell_type": "code",
   "execution_count": null,
   "id": "1bb0ef71-5ff5-493a-954b-1a30ffa9e91c",
   "metadata": {},
   "outputs": [],
   "source": [
    "num_pkts = 0\n",
    "mostrar_fuente(S1)"
   ]
  },
  {
   "cell_type": "code",
   "execution_count": null,
   "id": "d8832097",
   "metadata": {
    "scrolled": true
   },
   "outputs": [],
   "source": [
    "S1 = {}\n",
    "num_pkts = 0\n",
    "\n",
    "def mostrar_fuente(S) :\n",
    "    print(\"Numero de tramas capturadas: %d\" % num_pkts)\n",
    "    N = sum(S.values()) # Numero total de simbolos de la fuente (contando apariciones de cada uno)\n",
    "    simbolos = sorted(S.items(), key=lambda x: -x[1])\n",
    "    # k/N : probabilidad del k-esimo símbolo\n",
    "    # log2(1/(k/N)) : información del k-esimo simbolo en bits (redondeado al entero mayor mas cercano)\n",
    "    print(\"\\n\".join([ \" %s : %.5f : %d\" % (d, k/N, math.ceil(math.log2(1/(k/N)))) for d,k in simbolos]))\n",
    "    # H = sum(k/N * log2(N/k)) para todo k en S es la entropía de la fuente\n",
    "    H = sum(k/N * math.ceil(math.log2(1/(k/N))) for d,k in simbolos)\n",
    "    print(\"Entropía de la fuente: %.5f\" % H)\n",
    "    print()\n",
    "    \n",
    "def callback(pkt) :\n",
    "    global num_pkts\n",
    "    if pkt.haslayer(Ether):\n",
    "        num_pkts += 1\n",
    "        dire = \"BROADCAST\" if pkt[Ether].dst==\"ff:ff:ff:ff:ff:ff\" else \"UNICAST\"\n",
    "        proto = pkt[Ether].type # El campo type contiene el protocolo\n",
    "        proto_name = ethertypeDicc[str(proto)]\n",
    "        s_i = (dire, proto_name) # El simbolo de la fuente es el tipo de direccion y el protocolo\n",
    "        if s_i not in S1:\n",
    "            S1[s_i] = 0.0\n",
    "            \n",
    "        S1[s_i] += 1.0"
   ]
  },
  {
   "cell_type": "code",
   "execution_count": null,
   "id": "f4ebec4e",
   "metadata": {
    "scrolled": true
   },
   "outputs": [],
   "source": [
    "# Capturar paquetes\n",
    "num_pkts = 0\n",
    "sniff(prn=callback, stop_filter = lambda x: num_pkts == 10000)\n",
    "mostrar_fuente(S1)"
   ]
  },
  {
   "cell_type": "code",
   "execution_count": null,
   "id": "4416f783",
   "metadata": {},
   "outputs": [],
   "source": [
    "def graficar_informacion(S) : \n",
    "    N = sum(S.values())\n",
    "    simbolos = sorted(S.items(), key=lambda x: -x[1])\n",
    "    \n",
    "    # Codigo para graficar probabilidades de cada simbolo\n",
    "    probabilidades = {} \n",
    "    for d, k in simbolos:\n",
    "        simbolo = d[0] + \"/\" + str(d[1])\n",
    "        probabilidades[simbolo] = k/N * 100\n",
    "    \n",
    "    df_probs = pd.DataFrame(probabilidades, index=[0])\n",
    "    df_probs.plot(kind='bar', xlabel='Simbolo', ylabel='Probabilidad', title='Probabilidad de cada símbolo')\n",
    "    \n",
    "    # Codigo para graficar informacion de cada simbolo\n",
    "    informacion = {}\n",
    "    for d, k in simbolos:\n",
    "        simbolo = d[0] + \"/\" + str(d[1])\n",
    "        informacion[simbolo] = math.ceil(math.log2(1/(k/N)))\n",
    "    \n",
    "    df_info = pd.DataFrame(informacion, index=[0])\n",
    "    ax = df_info.plot(kind='bar', xlabel='Simbolo', ylabel='Información (bits)', title='Información de cada símbolo')\n",
    "    \n",
    "    handles, labels = ax.get_legend_handles_labels()\n",
    "    \n",
    "    # agrega la entropia al grafico\n",
    "    entropia = sum(k/N * math.ceil(math.log2(1/(k/N))) for d,k in simbolos)\n",
    "    handleEntropia = plt.axhline(y=entropia, linewidth=1, color='black', label='Entropia',linestyle=\"dashed\")\n",
    "    \n",
    "    labels.append('Entropia')\n",
    "    handles.append(handleEntropia)\n",
    "    \n",
    "    plt.legend(handles, labels)\n",
    "    plt.show()"
   ]
  },
  {
   "cell_type": "code",
   "execution_count": null,
   "id": "b3d05c8d-3675-462f-acec-be37b0fbe483",
   "metadata": {},
   "outputs": [],
   "source": [
    "# Default sniff arp con prints\n",
    "def arp_display(pkt):    \n",
    "    if pkt[ARP].op == 1:  # who-has (request) | BROADCAST\n",
    "        return f\"Request: {pkt[ARP].psrc} is asking about {pkt[ARP].pdst}\"\n",
    "    if pkt[ARP].op == 2:  # is-at (response) | UNICAST\n",
    "        return f\"*Response: {pkt[ARP].hwsrc} has address {pkt[ARP].psrc} y le aviso a {pkt[ARP].hwdst}\"\n",
    "\n",
    "sniff(prn=arp_display, filter=\"arp\", store=0, count=10)"
   ]
  },
  {
   "cell_type": "code",
   "execution_count": null,
   "id": "3db9a806-8ddd-4ed9-9fb7-a3193f2a281e",
   "metadata": {},
   "outputs": [],
   "source": [
    "# Capturar paquetes ARP\n",
    "S2 = {}\n",
    "S3 = {}\n",
    "file_in_arp = '/home/migue/share/arp_only_2.pcapng'\n",
    "\n",
    "for pkt in PcapReader(file_in_arp):\n",
    "    try: \n",
    "        arp_op = 'who-has' if (pkt[ARP].op == 1) else 'is-at'\n",
    "        s2_i = (pkt[ARP].psrc, arp_op)\n",
    "        s3_i = (pkt[ARP].psrc, pkt[ARP].pdst, arp_op)\n",
    "        \n",
    "        if s2_i not in S2:\n",
    "            S2[s2_i] = 0.0\n",
    "        if s3_i not in S3:\n",
    "            S3[s3_i] = 0.0\n",
    "            \n",
    "        S2[s2_i] += 1.0\n",
    "        S3[s3_i] += 1.0\n",
    "    except:\n",
    "        pass"
   ]
  },
  {
   "cell_type": "code",
   "execution_count": null,
   "id": "580b42d5-12ff-4b87-869f-a16112476ba4",
   "metadata": {},
   "outputs": [],
   "source": [
    "mostrar_fuente(S2) \n",
    "mostrar_fuente(S3) "
   ]
  },
  {
   "cell_type": "code",
   "execution_count": null,
   "id": "34265248-6804-4520-b8f7-bd2750b3793c",
   "metadata": {},
   "outputs": [],
   "source": [
    "graficar_informacion(S3)"
   ]
  },
  {
   "cell_type": "code",
   "execution_count": null,
   "id": "6dc5a609-1fd6-451f-a8d8-2375ef3e9137",
   "metadata": {},
   "outputs": [],
   "source": []
  }
 ],
 "metadata": {
  "kernelspec": {
   "display_name": "Python 3 (ipykernel)",
   "language": "python",
   "name": "python3"
  },
  "language_info": {
   "codemirror_mode": {
    "name": "ipython",
    "version": 3
   },
   "file_extension": ".py",
   "mimetype": "text/x-python",
   "name": "python",
   "nbconvert_exporter": "python",
   "pygments_lexer": "ipython3",
   "version": "3.8.10"
  }
 },
 "nbformat": 4,
 "nbformat_minor": 5
}
