{
    "metadata": {
        "kernelspec": {
            "name": "SQL",
            "display_name": "SQL",
            "language": "sql"
        },
        "language_info": {
            "name": "sql",
            "version": ""
        }
    },
    "nbformat_minor": 2,
    "nbformat": 4,
    "cells": [
        {
            "cell_type": "code",
            "source": [
                "-- Ej 1\n",
                "SELECT g.name, count(*) as album_count \n",
                "FROM Track t \n",
                "    JOIN Album a ON t.album_id = a.album_id \n",
                "    JOIN Genre g ON t.genre_id = g.genre_id \n",
                "GROUP BY g.genre_id, g.name;\n",
                "\n",
                "-- OK, no hace falta el join con album, directamente contá los album_ids"
            ],
            "metadata": {
                "azdata_cell_guid": "45dc8df9-aa0d-46a7-aef1-f41473c2ed71"
            },
            "outputs": [
                {
                    "output_type": "display_data",
                    "data": {
                        "text/html": "(25 row(s) affected)"
                    },
                    "metadata": {}
                },
                {
                    "output_type": "display_data",
                    "data": {
                        "text/html": "Total execution time: 00:00:00.074"
                    },
                    "metadata": {}
                },
                {
                    "output_type": "execute_result",
                    "metadata": {},
                    "execution_count": 1,
                    "data": {
                        "application/vnd.dataresource+json": {
                            "schema": {
                                "fields": [
                                    {
                                        "name": "name"
                                    },
                                    {
                                        "name": "album_count"
                                    }
                                ]
                            },
                            "data": [
                                {
                                    "0": "Rock",
                                    "1": "1297"
                                },
                                {
                                    "0": "Jazz",
                                    "1": "130"
                                },
                                {
                                    "0": "Metal",
                                    "1": "374"
                                },
                                {
                                    "0": "Alternative & Punk",
                                    "1": "332"
                                },
                                {
                                    "0": "Rock And Roll",
                                    "1": "12"
                                },
                                {
                                    "0": "Blues",
                                    "1": "81"
                                },
                                {
                                    "0": "Latin",
                                    "1": "579"
                                },
                                {
                                    "0": "Reggae",
                                    "1": "58"
                                },
                                {
                                    "0": "Pop",
                                    "1": "48"
                                },
                                {
                                    "0": "Soundtrack",
                                    "1": "43"
                                },
                                {
                                    "0": "Bossa Nova",
                                    "1": "15"
                                },
                                {
                                    "0": "Easy Listening",
                                    "1": "24"
                                },
                                {
                                    "0": "Heavy Metal",
                                    "1": "28"
                                },
                                {
                                    "0": "R&B/Soul",
                                    "1": "61"
                                },
                                {
                                    "0": "Electronica/Dance",
                                    "1": "30"
                                },
                                {
                                    "0": "World",
                                    "1": "28"
                                },
                                {
                                    "0": "Hip Hop/Rap",
                                    "1": "35"
                                },
                                {
                                    "0": "Science Fiction",
                                    "1": "13"
                                },
                                {
                                    "0": "TV Shows",
                                    "1": "93"
                                },
                                {
                                    "0": "Sci Fi & Fantasy",
                                    "1": "26"
                                },
                                {
                                    "0": "Drama",
                                    "1": "64"
                                },
                                {
                                    "0": "Comedy",
                                    "1": "17"
                                },
                                {
                                    "0": "Alternative",
                                    "1": "40"
                                },
                                {
                                    "0": "Classical",
                                    "1": "74"
                                },
                                {
                                    "0": "Opera",
                                    "1": "1"
                                }
                            ]
                        },
                        "text/html": [
                            "<table>",
                            "<tr><th>name</th><th>album_count</th></tr>",
                            "<tr><td>Rock</td><td>1297</td></tr>",
                            "<tr><td>Jazz</td><td>130</td></tr>",
                            "<tr><td>Metal</td><td>374</td></tr>",
                            "<tr><td>Alternative &amp; Punk</td><td>332</td></tr>",
                            "<tr><td>Rock And Roll</td><td>12</td></tr>",
                            "<tr><td>Blues</td><td>81</td></tr>",
                            "<tr><td>Latin</td><td>579</td></tr>",
                            "<tr><td>Reggae</td><td>58</td></tr>",
                            "<tr><td>Pop</td><td>48</td></tr>",
                            "<tr><td>Soundtrack</td><td>43</td></tr>",
                            "<tr><td>Bossa Nova</td><td>15</td></tr>",
                            "<tr><td>Easy Listening</td><td>24</td></tr>",
                            "<tr><td>Heavy Metal</td><td>28</td></tr>",
                            "<tr><td>R&amp;B/Soul</td><td>61</td></tr>",
                            "<tr><td>Electronica/Dance</td><td>30</td></tr>",
                            "<tr><td>World</td><td>28</td></tr>",
                            "<tr><td>Hip Hop/Rap</td><td>35</td></tr>",
                            "<tr><td>Science Fiction</td><td>13</td></tr>",
                            "<tr><td>TV Shows</td><td>93</td></tr>",
                            "<tr><td>Sci Fi &amp; Fantasy</td><td>26</td></tr>",
                            "<tr><td>Drama</td><td>64</td></tr>",
                            "<tr><td>Comedy</td><td>17</td></tr>",
                            "<tr><td>Alternative</td><td>40</td></tr>",
                            "<tr><td>Classical</td><td>74</td></tr>",
                            "<tr><td>Opera</td><td>1</td></tr>",
                            "</table>"
                        ]
                    }
                }
            ],
            "execution_count": 1
        },
        {
            "cell_type": "code",
            "source": [
                "-- Ej 2\n",
                "SELECT * \n",
                "FROM invoice i \n",
                "WHERE i.total > (SELECT AVG(i2.total) FROM invoice i2);\n",
                "\n",
                "-- OK"
            ],
            "metadata": {
                "azdata_cell_guid": "f9dcc8e8-4652-4bde-bc21-07ed20394b87",
                "tags": []
            },
            "outputs": [
                {
                    "output_type": "display_data",
                    "data": {
                        "text/html": "(179 row(s) affected)"
                    },
                    "metadata": {}
                },
                {
                    "output_type": "display_data",
                    "data": {
                        "text/html": "Total execution time: 00:00:00.036"
                    },
                    "metadata": {}
                },
                {
                    "output_type": "execute_result",
                    "metadata": {},
                    "execution_count": 2,
                    "data": {
                        "application/vnd.dataresource+json": {
                            "schema": {
                                "fields": [
                                    {
                                        "name": "invoice_id"
                                    },
                                    {
                                        "name": "customer_id"
                                    },
                                    {
                                        "name": "invoice_date"
                                    },
                                    {
                                        "name": "billing_address"
                                    },
                                    {
                                        "name": "billing_city"
                                    },
                                    {
                                        "name": "billing_state"
                                    },
                                    {
                                        "name": "billing_country"
                                    },
                                    {
                                        "name": "billing_postal_code"
                                    },
                                    {
                                        "name": "total"
                                    }
                                ]
                            },
                            "data": [
                                {
                                    "0": "3",
                                    "1": "8",
                                    "2": "2009-01-03T00:00:00",
                                    "3": "Grétrystraat 63",
                                    "4": "Brussels",
                                    "5": "NULL",
                                    "6": "Belgium",
                                    "7": "1000",
                                    "8": "5.94"
                                },
                                {
                                    "0": "4",
                                    "1": "14",
                                    "2": "2009-01-06T00:00:00",
                                    "3": "8210 111 ST NW",
                                    "4": "Edmonton",
                                    "5": "AB",
                                    "6": "Canada",
                                    "7": "T6G 2C7",
                                    "8": "8.91"
                                },
                                {
                                    "0": "5",
                                    "1": "23",
                                    "2": "2009-01-11T00:00:00",
                                    "3": "69 Salem Street",
                                    "4": "Boston",
                                    "5": "MA",
                                    "6": "USA",
                                    "7": "2113",
                                    "8": "13.86"
                                },
                                {
                                    "0": "10",
                                    "1": "46",
                                    "2": "2009-02-03T00:00:00",
                                    "3": "3 Chatham Street",
                                    "4": "Dublin",
                                    "5": "Dublin",
                                    "6": "Ireland",
                                    "7": "NULL",
                                    "8": "5.94"
                                },
                                {
                                    "0": "11",
                                    "1": "52",
                                    "2": "2009-02-06T00:00:00",
                                    "3": "202 Hoxton Street",
                                    "4": "London",
                                    "5": "NULL",
                                    "6": "United Kingdom",
                                    "7": "N1 5LH",
                                    "8": "8.91"
                                },
                                {
                                    "0": "12",
                                    "1": "2",
                                    "2": "2009-02-11T00:00:00",
                                    "3": "Theodor-Heuss-Straße 34",
                                    "4": "Stuttgart",
                                    "5": "NULL",
                                    "6": "Germany",
                                    "7": "70174",
                                    "8": "13.86"
                                },
                                {
                                    "0": "17",
                                    "1": "25",
                                    "2": "2009-03-06T00:00:00",
                                    "3": "319 N. Frances Street",
                                    "4": "Madison",
                                    "5": "WI",
                                    "6": "USA",
                                    "7": "53703",
                                    "8": "5.94"
                                },
                                {
                                    "0": "18",
                                    "1": "31",
                                    "2": "2009-03-09T00:00:00",
                                    "3": "194A Chain Lake Drive",
                                    "4": "Halifax",
                                    "5": "NS",
                                    "6": "Canada",
                                    "7": "B3S 1C5",
                                    "8": "8.91"
                                },
                                {
                                    "0": "19",
                                    "1": "40",
                                    "2": "2009-03-14T00:00:00",
                                    "3": "8, Rue Hanovre",
                                    "4": "Paris",
                                    "5": "NULL",
                                    "6": "France",
                                    "7": "75002",
                                    "8": "13.86"
                                },
                                {
                                    "0": "24",
                                    "1": "4",
                                    "2": "2009-04-06T00:00:00",
                                    "3": "Ullevålsveien 14",
                                    "4": "Oslo",
                                    "5": "NULL",
                                    "6": "Norway",
                                    "7": "0171",
                                    "8": "5.94"
                                },
                                {
                                    "0": "25",
                                    "1": "10",
                                    "2": "2009-04-09T00:00:00",
                                    "3": "Rua Dr. Falcão Filho, 155",
                                    "4": "São Paulo",
                                    "5": "SP",
                                    "6": "Brazil",
                                    "7": "01007-010",
                                    "8": "8.91"
                                },
                                {
                                    "0": "26",
                                    "1": "19",
                                    "2": "2009-04-14T00:00:00",
                                    "3": "1 Infinite Loop",
                                    "4": "Cupertino",
                                    "5": "CA",
                                    "6": "USA",
                                    "7": "95014",
                                    "8": "13.86"
                                },
                                {
                                    "0": "31",
                                    "1": "42",
                                    "2": "2009-05-07T00:00:00",
                                    "3": "9, Place Louis Barthou",
                                    "4": "Bordeaux",
                                    "5": "NULL",
                                    "6": "France",
                                    "7": "33000",
                                    "8": "5.94"
                                },
                                {
                                    "0": "32",
                                    "1": "48",
                                    "2": "2009-05-10T00:00:00",
                                    "3": "Lijnbaansgracht 120bg",
                                    "4": "Amsterdam",
                                    "5": "VV",
                                    "6": "Netherlands",
                                    "7": "1016",
                                    "8": "8.91"
                                },
                                {
                                    "0": "33",
                                    "1": "57",
                                    "2": "2009-05-15T00:00:00",
                                    "3": "Calle Lira, 198",
                                    "4": "Santiago",
                                    "5": "NULL",
                                    "6": "Chile",
                                    "7": "NULL",
                                    "8": "13.86"
                                },
                                {
                                    "0": "38",
                                    "1": "21",
                                    "2": "2009-06-07T00:00:00",
                                    "3": "801 W 4th Street",
                                    "4": "Reno",
                                    "5": "NV",
                                    "6": "USA",
                                    "7": "89503",
                                    "8": "5.94"
                                },
                                {
                                    "0": "39",
                                    "1": "27",
                                    "2": "2009-06-10T00:00:00",
                                    "3": "1033 N Park Ave",
                                    "4": "Tucson",
                                    "5": "AZ",
                                    "6": "USA",
                                    "7": "85719",
                                    "8": "8.91"
                                },
                                {
                                    "0": "40",
                                    "1": "36",
                                    "2": "2009-06-15T00:00:00",
                                    "3": "Tauentzienstraße 8",
                                    "4": "Berlin",
                                    "5": "NULL",
                                    "6": "Germany",
                                    "7": "10789",
                                    "8": "13.86"
                                },
                                {
                                    "0": "45",
                                    "1": "59",
                                    "2": "2009-07-08T00:00:00",
                                    "3": "3,Raj Bhavan Road",
                                    "4": "Bangalore",
                                    "5": "NULL",
                                    "6": "India",
                                    "7": "560001",
                                    "8": "5.94"
                                },
                                {
                                    "0": "46",
                                    "1": "6",
                                    "2": "2009-07-11T00:00:00",
                                    "3": "Rilská 3174/6",
                                    "4": "Prague",
                                    "5": "NULL",
                                    "6": "Czech Republic",
                                    "7": "14300",
                                    "8": "8.91"
                                },
                                {
                                    "0": "47",
                                    "1": "15",
                                    "2": "2009-07-16T00:00:00",
                                    "3": "700 W Pender Street",
                                    "4": "Vancouver",
                                    "5": "BC",
                                    "6": "Canada",
                                    "7": "V6C 1G8",
                                    "8": "13.86"
                                },
                                {
                                    "0": "52",
                                    "1": "38",
                                    "2": "2009-08-08T00:00:00",
                                    "3": "Barbarossastraße 19",
                                    "4": "Berlin",
                                    "5": "NULL",
                                    "6": "Germany",
                                    "7": "10779",
                                    "8": "5.94"
                                },
                                {
                                    "0": "53",
                                    "1": "44",
                                    "2": "2009-08-11T00:00:00",
                                    "3": "Porthaninkatu 9",
                                    "4": "Helsinki",
                                    "5": "NULL",
                                    "6": "Finland",
                                    "7": "00530",
                                    "8": "8.91"
                                },
                                {
                                    "0": "54",
                                    "1": "53",
                                    "2": "2009-08-16T00:00:00",
                                    "3": "113 Lupus St",
                                    "4": "London",
                                    "5": "NULL",
                                    "6": "United Kingdom",
                                    "7": "SW1V 3EN",
                                    "8": "13.86"
                                },
                                {
                                    "0": "59",
                                    "1": "17",
                                    "2": "2009-09-08T00:00:00",
                                    "3": "1 Microsoft Way",
                                    "4": "Redmond",
                                    "5": "WA",
                                    "6": "USA",
                                    "7": "98052-8300",
                                    "8": "5.94"
                                },
                                {
                                    "0": "60",
                                    "1": "23",
                                    "2": "2009-09-11T00:00:00",
                                    "3": "69 Salem Street",
                                    "4": "Boston",
                                    "5": "MA",
                                    "6": "USA",
                                    "7": "2113",
                                    "8": "8.91"
                                },
                                {
                                    "0": "61",
                                    "1": "32",
                                    "2": "2009-09-16T00:00:00",
                                    "3": "696 Osborne Street",
                                    "4": "Winnipeg",
                                    "5": "MB",
                                    "6": "Canada",
                                    "7": "R3L 2B9",
                                    "8": "13.86"
                                },
                                {
                                    "0": "66",
                                    "1": "55",
                                    "2": "2009-10-09T00:00:00",
                                    "3": "421 Bourke Street",
                                    "4": "Sidney",
                                    "5": "NSW",
                                    "6": "Australia",
                                    "7": "2010",
                                    "8": "5.94"
                                },
                                {
                                    "0": "67",
                                    "1": "2",
                                    "2": "2009-10-12T00:00:00",
                                    "3": "Theodor-Heuss-Straße 34",
                                    "4": "Stuttgart",
                                    "5": "NULL",
                                    "6": "Germany",
                                    "7": "70174",
                                    "8": "8.91"
                                },
                                {
                                    "0": "68",
                                    "1": "11",
                                    "2": "2009-10-17T00:00:00",
                                    "3": "Av. Paulista, 2022",
                                    "4": "São Paulo",
                                    "5": "SP",
                                    "6": "Brazil",
                                    "7": "01310-200",
                                    "8": "13.86"
                                },
                                {
                                    "0": "73",
                                    "1": "34",
                                    "2": "2009-11-09T00:00:00",
                                    "3": "Rua da Assunção 53",
                                    "4": "Lisbon",
                                    "5": "NULL",
                                    "6": "Portugal",
                                    "7": "NULL",
                                    "8": "5.94"
                                },
                                {
                                    "0": "74",
                                    "1": "40",
                                    "2": "2009-11-12T00:00:00",
                                    "3": "8, Rue Hanovre",
                                    "4": "Paris",
                                    "5": "NULL",
                                    "6": "France",
                                    "7": "75002",
                                    "8": "8.91"
                                },
                                {
                                    "0": "75",
                                    "1": "49",
                                    "2": "2009-11-17T00:00:00",
                                    "3": "Ordynacka 10",
                                    "4": "Warsaw",
                                    "5": "NULL",
                                    "6": "Poland",
                                    "7": "00-358",
                                    "8": "13.86"
                                },
                                {
                                    "0": "80",
                                    "1": "13",
                                    "2": "2009-12-10T00:00:00",
                                    "3": "Qe 7 Bloco G",
                                    "4": "Brasília",
                                    "5": "DF",
                                    "6": "Brazil",
                                    "7": "71020-677",
                                    "8": "5.94"
                                },
                                {
                                    "0": "81",
                                    "1": "19",
                                    "2": "2009-12-13T00:00:00",
                                    "3": "1 Infinite Loop",
                                    "4": "Cupertino",
                                    "5": "CA",
                                    "6": "USA",
                                    "7": "95014",
                                    "8": "8.91"
                                },
                                {
                                    "0": "82",
                                    "1": "28",
                                    "2": "2009-12-18T00:00:00",
                                    "3": "302 S 700 E",
                                    "4": "Salt Lake City",
                                    "5": "UT",
                                    "6": "USA",
                                    "7": "84102",
                                    "8": "13.86"
                                },
                                {
                                    "0": "87",
                                    "1": "51",
                                    "2": "2010-01-10T00:00:00",
                                    "3": "Celsiusg. 9",
                                    "4": "Stockholm",
                                    "5": "NULL",
                                    "6": "Sweden",
                                    "7": "11230",
                                    "8": "6.94"
                                },
                                {
                                    "0": "88",
                                    "1": "57",
                                    "2": "2010-01-13T00:00:00",
                                    "3": "Calle Lira, 198",
                                    "4": "Santiago",
                                    "5": "NULL",
                                    "6": "Chile",
                                    "7": "NULL",
                                    "8": "17.91"
                                },
                                {
                                    "0": "89",
                                    "1": "7",
                                    "2": "2010-01-18T00:00:00",
                                    "3": "Rotenturmstraße 4, 1010 Innere Stadt",
                                    "4": "Vienne",
                                    "5": "NULL",
                                    "6": "Austria",
                                    "7": "1010",
                                    "8": "18.86"
                                },
                                {
                                    "0": "94",
                                    "1": "30",
                                    "2": "2010-02-10T00:00:00",
                                    "3": "230 Elgin Street",
                                    "4": "Ottawa",
                                    "5": "ON",
                                    "6": "Canada",
                                    "7": "K2P 1L7",
                                    "8": "5.94"
                                },
                                {
                                    "0": "95",
                                    "1": "36",
                                    "2": "2010-02-13T00:00:00",
                                    "3": "Tauentzienstraße 8",
                                    "4": "Berlin",
                                    "5": "NULL",
                                    "6": "Germany",
                                    "7": "10789",
                                    "8": "8.91"
                                },
                                {
                                    "0": "96",
                                    "1": "45",
                                    "2": "2010-02-18T00:00:00",
                                    "3": "Erzsébet krt. 58.",
                                    "4": "Budapest",
                                    "5": "NULL",
                                    "6": "Hungary",
                                    "7": "H-1073",
                                    "8": "21.86"
                                },
                                {
                                    "0": "101",
                                    "1": "9",
                                    "2": "2010-03-13T00:00:00",
                                    "3": "Sønder Boulevard 51",
                                    "4": "Copenhagen",
                                    "5": "NULL",
                                    "6": "Denmark",
                                    "7": "1720",
                                    "8": "5.94"
                                },
                                {
                                    "0": "102",
                                    "1": "15",
                                    "2": "2010-03-16T00:00:00",
                                    "3": "700 W Pender Street",
                                    "4": "Vancouver",
                                    "5": "BC",
                                    "6": "Canada",
                                    "7": "V6C 1G8",
                                    "8": "9.91"
                                },
                                {
                                    "0": "103",
                                    "1": "24",
                                    "2": "2010-03-21T00:00:00",
                                    "3": "162 E Superior Street",
                                    "4": "Chicago",
                                    "5": "IL",
                                    "6": "USA",
                                    "7": "60611",
                                    "8": "15.86"
                                },
                                {
                                    "0": "108",
                                    "1": "47",
                                    "2": "2010-04-13T00:00:00",
                                    "3": "Via Degli Scipioni, 43",
                                    "4": "Rome",
                                    "5": "RM",
                                    "6": "Italy",
                                    "7": "00192",
                                    "8": "5.94"
                                },
                                {
                                    "0": "109",
                                    "1": "53",
                                    "2": "2010-04-16T00:00:00",
                                    "3": "113 Lupus St",
                                    "4": "London",
                                    "5": "NULL",
                                    "6": "United Kingdom",
                                    "7": "SW1V 3EN",
                                    "8": "8.91"
                                },
                                {
                                    "0": "110",
                                    "1": "3",
                                    "2": "2010-04-21T00:00:00",
                                    "3": "1498 rue Bélanger",
                                    "4": "Montréal",
                                    "5": "QC",
                                    "6": "Canada",
                                    "7": "H2G 1A7",
                                    "8": "13.86"
                                },
                                {
                                    "0": "115",
                                    "1": "26",
                                    "2": "2010-05-14T00:00:00",
                                    "3": "2211 W Berry Street",
                                    "4": "Fort Worth",
                                    "5": "TX",
                                    "6": "USA",
                                    "7": "76110",
                                    "8": "5.94"
                                },
                                {
                                    "0": "116",
                                    "1": "32",
                                    "2": "2010-05-17T00:00:00",
                                    "3": "696 Osborne Street",
                                    "4": "Winnipeg",
                                    "5": "MB",
                                    "6": "Canada",
                                    "7": "R3L 2B9",
                                    "8": "8.91"
                                },
                                {
                                    "0": "117",
                                    "1": "41",
                                    "2": "2010-05-22T00:00:00",
                                    "3": "11, Place Bellecour",
                                    "4": "Lyon",
                                    "5": "NULL",
                                    "6": "France",
                                    "7": "69002",
                                    "8": "13.86"
                                },
                                {
                                    "0": "122",
                                    "1": "5",
                                    "2": "2010-06-14T00:00:00",
                                    "3": "Klanova 9/506",
                                    "4": "Prague",
                                    "5": "NULL",
                                    "6": "Czech Republic",
                                    "7": "14700",
                                    "8": "5.94"
                                },
                                {
                                    "0": "123",
                                    "1": "11",
                                    "2": "2010-06-17T00:00:00",
                                    "3": "Av. Paulista, 2022",
                                    "4": "São Paulo",
                                    "5": "SP",
                                    "6": "Brazil",
                                    "7": "01310-200",
                                    "8": "8.91"
                                },
                                {
                                    "0": "124",
                                    "1": "20",
                                    "2": "2010-06-22T00:00:00",
                                    "3": "541 Del Medio Avenue",
                                    "4": "Mountain View",
                                    "5": "CA",
                                    "6": "USA",
                                    "7": "94040-111",
                                    "8": "13.86"
                                },
                                {
                                    "0": "129",
                                    "1": "43",
                                    "2": "2010-07-15T00:00:00",
                                    "3": "68, Rue Jouvence",
                                    "4": "Dijon",
                                    "5": "NULL",
                                    "6": "France",
                                    "7": "21000",
                                    "8": "5.94"
                                },
                                {
                                    "0": "130",
                                    "1": "49",
                                    "2": "2010-07-18T00:00:00",
                                    "3": "Ordynacka 10",
                                    "4": "Warsaw",
                                    "5": "NULL",
                                    "6": "Poland",
                                    "7": "00-358",
                                    "8": "8.91"
                                },
                                {
                                    "0": "131",
                                    "1": "58",
                                    "2": "2010-07-23T00:00:00",
                                    "3": "12,Community Centre",
                                    "4": "Delhi",
                                    "5": "NULL",
                                    "6": "India",
                                    "7": "110017",
                                    "8": "13.86"
                                },
                                {
                                    "0": "136",
                                    "1": "22",
                                    "2": "2010-08-15T00:00:00",
                                    "3": "120 S Orange Ave",
                                    "4": "Orlando",
                                    "5": "FL",
                                    "6": "USA",
                                    "7": "32801",
                                    "8": "5.94"
                                },
                                {
                                    "0": "137",
                                    "1": "28",
                                    "2": "2010-08-18T00:00:00",
                                    "3": "302 S 700 E",
                                    "4": "Salt Lake City",
                                    "5": "UT",
                                    "6": "USA",
                                    "7": "84102",
                                    "8": "8.91"
                                },
                                {
                                    "0": "138",
                                    "1": "37",
                                    "2": "2010-08-23T00:00:00",
                                    "3": "Berger Straße 10",
                                    "4": "Frankfurt",
                                    "5": "NULL",
                                    "6": "Germany",
                                    "7": "60316",
                                    "8": "13.86"
                                },
                                {
                                    "0": "143",
                                    "1": "1",
                                    "2": "2010-09-15T00:00:00",
                                    "3": "Av. Brigadeiro Faria Lima, 2170",
                                    "4": "São José dos Campos",
                                    "5": "SP",
                                    "6": "Brazil",
                                    "7": "12227-000",
                                    "8": "5.94"
                                },
                                {
                                    "0": "144",
                                    "1": "7",
                                    "2": "2010-09-18T00:00:00",
                                    "3": "Rotenturmstraße 4, 1010 Innere Stadt",
                                    "4": "Vienne",
                                    "5": "NULL",
                                    "6": "Austria",
                                    "7": "1010",
                                    "8": "8.91"
                                },
                                {
                                    "0": "145",
                                    "1": "16",
                                    "2": "2010-09-23T00:00:00",
                                    "3": "1600 Amphitheatre Parkway",
                                    "4": "Mountain View",
                                    "5": "CA",
                                    "6": "USA",
                                    "7": "94043-1351",
                                    "8": "13.86"
                                },
                                {
                                    "0": "150",
                                    "1": "39",
                                    "2": "2010-10-16T00:00:00",
                                    "3": "4, Rue Milton",
                                    "4": "Paris",
                                    "5": "NULL",
                                    "6": "France",
                                    "7": "75009",
                                    "8": "5.94"
                                },
                                {
                                    "0": "151",
                                    "1": "45",
                                    "2": "2010-10-19T00:00:00",
                                    "3": "Erzsébet krt. 58.",
                                    "4": "Budapest",
                                    "5": "NULL",
                                    "6": "Hungary",
                                    "7": "H-1073",
                                    "8": "8.91"
                                },
                                {
                                    "0": "152",
                                    "1": "54",
                                    "2": "2010-10-24T00:00:00",
                                    "3": "110 Raeburn Pl",
                                    "4": "Edinburgh",
                                    "5": "NULL",
                                    "6": "United Kingdom",
                                    "7": "EH4 1HH",
                                    "8": "13.86"
                                },
                                {
                                    "0": "157",
                                    "1": "18",
                                    "2": "2010-11-16T00:00:00",
                                    "3": "627 Broadway",
                                    "4": "New York",
                                    "5": "NY",
                                    "6": "USA",
                                    "7": "10012-2612",
                                    "8": "5.94"
                                },
                                {
                                    "0": "158",
                                    "1": "24",
                                    "2": "2010-11-19T00:00:00",
                                    "3": "162 E Superior Street",
                                    "4": "Chicago",
                                    "5": "IL",
                                    "6": "USA",
                                    "7": "60611",
                                    "8": "8.91"
                                },
                                {
                                    "0": "159",
                                    "1": "33",
                                    "2": "2010-11-24T00:00:00",
                                    "3": "5112 48 Street",
                                    "4": "Yellowknife",
                                    "5": "NT",
                                    "6": "Canada",
                                    "7": "X1A 1N6",
                                    "8": "13.86"
                                },
                                {
                                    "0": "164",
                                    "1": "56",
                                    "2": "2010-12-17T00:00:00",
                                    "3": "307 Macacha Güemes",
                                    "4": "Buenos Aires",
                                    "5": "NULL",
                                    "6": "Argentina",
                                    "7": "1106",
                                    "8": "5.94"
                                },
                                {
                                    "0": "165",
                                    "1": "3",
                                    "2": "2010-12-20T00:00:00",
                                    "3": "1498 rue Bélanger",
                                    "4": "Montréal",
                                    "5": "QC",
                                    "6": "Canada",
                                    "7": "H2G 1A7",
                                    "8": "8.91"
                                },
                                {
                                    "0": "166",
                                    "1": "12",
                                    "2": "2010-12-25T00:00:00",
                                    "3": "Praça Pio X, 119",
                                    "4": "Rio de Janeiro",
                                    "5": "RJ",
                                    "6": "Brazil",
                                    "7": "20040-020",
                                    "8": "13.86"
                                },
                                {
                                    "0": "171",
                                    "1": "35",
                                    "2": "2011-01-17T00:00:00",
                                    "3": "Rua dos Campeões Europeus de Viena, 4350",
                                    "4": "Porto",
                                    "5": "NULL",
                                    "6": "Portugal",
                                    "7": "NULL",
                                    "8": "5.94"
                                },
                                {
                                    "0": "172",
                                    "1": "41",
                                    "2": "2011-01-20T00:00:00",
                                    "3": "11, Place Bellecour",
                                    "4": "Lyon",
                                    "5": "NULL",
                                    "6": "France",
                                    "7": "69002",
                                    "8": "8.91"
                                },
                                {
                                    "0": "173",
                                    "1": "50",
                                    "2": "2011-01-25T00:00:00",
                                    "3": "C/ San Bernardo 85",
                                    "4": "Madrid",
                                    "5": "NULL",
                                    "6": "Spain",
                                    "7": "28015",
                                    "8": "13.86"
                                },
                                {
                                    "0": "178",
                                    "1": "14",
                                    "2": "2011-02-17T00:00:00",
                                    "3": "8210 111 ST NW",
                                    "4": "Edmonton",
                                    "5": "AB",
                                    "6": "Canada",
                                    "7": "T6G 2C7",
                                    "8": "5.94"
                                },
                                {
                                    "0": "179",
                                    "1": "20",
                                    "2": "2011-02-20T00:00:00",
                                    "3": "541 Del Medio Avenue",
                                    "4": "Mountain View",
                                    "5": "CA",
                                    "6": "USA",
                                    "7": "94040-111",
                                    "8": "8.91"
                                },
                                {
                                    "0": "180",
                                    "1": "29",
                                    "2": "2011-02-25T00:00:00",
                                    "3": "796 Dundas Street West",
                                    "4": "Toronto",
                                    "5": "ON",
                                    "6": "Canada",
                                    "7": "M6J 1V1",
                                    "8": "13.86"
                                },
                                {
                                    "0": "185",
                                    "1": "52",
                                    "2": "2011-03-20T00:00:00",
                                    "3": "202 Hoxton Street",
                                    "4": "London",
                                    "5": "NULL",
                                    "6": "United Kingdom",
                                    "7": "N1 5LH",
                                    "8": "5.94"
                                },
                                {
                                    "0": "186",
                                    "1": "58",
                                    "2": "2011-03-23T00:00:00",
                                    "3": "12,Community Centre",
                                    "4": "Delhi",
                                    "5": "NULL",
                                    "6": "India",
                                    "7": "110017",
                                    "8": "8.91"
                                },
                                {
                                    "0": "187",
                                    "1": "8",
                                    "2": "2011-03-28T00:00:00",
                                    "3": "Grétrystraat 63",
                                    "4": "Brussels",
                                    "5": "NULL",
                                    "6": "Belgium",
                                    "7": "1000",
                                    "8": "13.86"
                                },
                                {
                                    "0": "192",
                                    "1": "31",
                                    "2": "2011-04-20T00:00:00",
                                    "3": "194A Chain Lake Drive",
                                    "4": "Halifax",
                                    "5": "NS",
                                    "6": "Canada",
                                    "7": "B3S 1C5",
                                    "8": "5.94"
                                },
                                {
                                    "0": "193",
                                    "1": "37",
                                    "2": "2011-04-23T00:00:00",
                                    "3": "Berger Straße 10",
                                    "4": "Frankfurt",
                                    "5": "NULL",
                                    "6": "Germany",
                                    "7": "60316",
                                    "8": "14.91"
                                },
                                {
                                    "0": "194",
                                    "1": "46",
                                    "2": "2011-04-28T00:00:00",
                                    "3": "3 Chatham Street",
                                    "4": "Dublin",
                                    "5": "Dublin",
                                    "6": "Ireland",
                                    "7": "NULL",
                                    "8": "21.86"
                                },
                                {
                                    "0": "199",
                                    "1": "10",
                                    "2": "2011-05-21T00:00:00",
                                    "3": "Rua Dr. Falcão Filho, 155",
                                    "4": "São Paulo",
                                    "5": "SP",
                                    "6": "Brazil",
                                    "7": "01007-010",
                                    "8": "5.94"
                                },
                                {
                                    "0": "200",
                                    "1": "16",
                                    "2": "2011-05-24T00:00:00",
                                    "3": "1600 Amphitheatre Parkway",
                                    "4": "Mountain View",
                                    "5": "CA",
                                    "6": "USA",
                                    "7": "94043-1351",
                                    "8": "8.91"
                                },
                                {
                                    "0": "201",
                                    "1": "25",
                                    "2": "2011-05-29T00:00:00",
                                    "3": "319 N. Frances Street",
                                    "4": "Madison",
                                    "5": "WI",
                                    "6": "USA",
                                    "7": "53703",
                                    "8": "18.86"
                                },
                                {
                                    "0": "205",
                                    "1": "44",
                                    "2": "2011-06-20T00:00:00",
                                    "3": "Porthaninkatu 9",
                                    "4": "Helsinki",
                                    "5": "NULL",
                                    "6": "Finland",
                                    "7": "00530",
                                    "8": "7.96"
                                },
                                {
                                    "0": "206",
                                    "1": "48",
                                    "2": "2011-06-21T00:00:00",
                                    "3": "Lijnbaansgracht 120bg",
                                    "4": "Amsterdam",
                                    "5": "VV",
                                    "6": "Netherlands",
                                    "7": "1016",
                                    "8": "8.94"
                                },
                                {
                                    "0": "207",
                                    "1": "54",
                                    "2": "2011-06-24T00:00:00",
                                    "3": "110 Raeburn Pl",
                                    "4": "Edinburgh",
                                    "5": "NULL",
                                    "6": "United Kingdom",
                                    "7": "EH4 1HH",
                                    "8": "8.91"
                                },
                                {
                                    "0": "208",
                                    "1": "4",
                                    "2": "2011-06-29T00:00:00",
                                    "3": "Ullevålsveien 14",
                                    "4": "Oslo",
                                    "5": "NULL",
                                    "6": "Norway",
                                    "7": "0171",
                                    "8": "15.86"
                                },
                                {
                                    "0": "213",
                                    "1": "27",
                                    "2": "2011-07-22T00:00:00",
                                    "3": "1033 N Park Ave",
                                    "4": "Tucson",
                                    "5": "AZ",
                                    "6": "USA",
                                    "7": "85719",
                                    "8": "5.94"
                                },
                                {
                                    "0": "214",
                                    "1": "33",
                                    "2": "2011-07-25T00:00:00",
                                    "3": "5112 48 Street",
                                    "4": "Yellowknife",
                                    "5": "NT",
                                    "6": "Canada",
                                    "7": "X1A 1N6",
                                    "8": "8.91"
                                },
                                {
                                    "0": "215",
                                    "1": "42",
                                    "2": "2011-07-30T00:00:00",
                                    "3": "9, Place Louis Barthou",
                                    "4": "Bordeaux",
                                    "5": "NULL",
                                    "6": "France",
                                    "7": "33000",
                                    "8": "13.86"
                                },
                                {
                                    "0": "220",
                                    "1": "6",
                                    "2": "2011-08-22T00:00:00",
                                    "3": "Rilská 3174/6",
                                    "4": "Prague",
                                    "5": "NULL",
                                    "6": "Czech Republic",
                                    "7": "14300",
                                    "8": "5.94"
                                },
                                {
                                    "0": "221",
                                    "1": "12",
                                    "2": "2011-08-25T00:00:00",
                                    "3": "Praça Pio X, 119",
                                    "4": "Rio de Janeiro",
                                    "5": "RJ",
                                    "6": "Brazil",
                                    "7": "20040-020",
                                    "8": "8.91"
                                },
                                {
                                    "0": "222",
                                    "1": "21",
                                    "2": "2011-08-30T00:00:00",
                                    "3": "801 W 4th Street",
                                    "4": "Reno",
                                    "5": "NV",
                                    "6": "USA",
                                    "7": "89503",
                                    "8": "13.86"
                                },
                                {
                                    "0": "227",
                                    "1": "44",
                                    "2": "2011-09-22T00:00:00",
                                    "3": "Porthaninkatu 9",
                                    "4": "Helsinki",
                                    "5": "NULL",
                                    "6": "Finland",
                                    "7": "00530",
                                    "8": "5.94"
                                },
                                {
                                    "0": "228",
                                    "1": "50",
                                    "2": "2011-09-25T00:00:00",
                                    "3": "C/ San Bernardo 85",
                                    "4": "Madrid",
                                    "5": "NULL",
                                    "6": "Spain",
                                    "7": "28015",
                                    "8": "8.91"
                                },
                                {
                                    "0": "229",
                                    "1": "59",
                                    "2": "2011-09-30T00:00:00",
                                    "3": "3,Raj Bhavan Road",
                                    "4": "Bangalore",
                                    "5": "NULL",
                                    "6": "India",
                                    "7": "560001",
                                    "8": "13.86"
                                },
                                {
                                    "0": "234",
                                    "1": "23",
                                    "2": "2011-10-23T00:00:00",
                                    "3": "69 Salem Street",
                                    "4": "Boston",
                                    "5": "MA",
                                    "6": "USA",
                                    "7": "2113",
                                    "8": "5.94"
                                },
                                {
                                    "0": "235",
                                    "1": "29",
                                    "2": "2011-10-26T00:00:00",
                                    "3": "796 Dundas Street West",
                                    "4": "Toronto",
                                    "5": "ON",
                                    "6": "Canada",
                                    "7": "M6J 1V1",
                                    "8": "8.91"
                                },
                                {
                                    "0": "236",
                                    "1": "38",
                                    "2": "2011-10-31T00:00:00",
                                    "3": "Barbarossastraße 19",
                                    "4": "Berlin",
                                    "5": "NULL",
                                    "6": "Germany",
                                    "7": "10779",
                                    "8": "13.86"
                                },
                                {
                                    "0": "241",
                                    "1": "2",
                                    "2": "2011-11-23T00:00:00",
                                    "3": "Theodor-Heuss-Straße 34",
                                    "4": "Stuttgart",
                                    "5": "NULL",
                                    "6": "Germany",
                                    "7": "70174",
                                    "8": "5.94"
                                },
                                {
                                    "0": "242",
                                    "1": "8",
                                    "2": "2011-11-26T00:00:00",
                                    "3": "Grétrystraat 63",
                                    "4": "Brussels",
                                    "5": "NULL",
                                    "6": "Belgium",
                                    "7": "1000",
                                    "8": "8.91"
                                },
                                {
                                    "0": "243",
                                    "1": "17",
                                    "2": "2011-12-01T00:00:00",
                                    "3": "1 Microsoft Way",
                                    "4": "Redmond",
                                    "5": "WA",
                                    "6": "USA",
                                    "7": "98052-8300",
                                    "8": "13.86"
                                },
                                {
                                    "0": "248",
                                    "1": "40",
                                    "2": "2011-12-24T00:00:00",
                                    "3": "8, Rue Hanovre",
                                    "4": "Paris",
                                    "5": "NULL",
                                    "6": "France",
                                    "7": "75002",
                                    "8": "5.94"
                                },
                                {
                                    "0": "249",
                                    "1": "46",
                                    "2": "2011-12-27T00:00:00",
                                    "3": "3 Chatham Street",
                                    "4": "Dublin",
                                    "5": "Dublin",
                                    "6": "Ireland",
                                    "7": "NULL",
                                    "8": "8.91"
                                },
                                {
                                    "0": "250",
                                    "1": "55",
                                    "2": "2012-01-01T00:00:00",
                                    "3": "421 Bourke Street",
                                    "4": "Sidney",
                                    "5": "NSW",
                                    "6": "Australia",
                                    "7": "2010",
                                    "8": "13.86"
                                },
                                {
                                    "0": "255",
                                    "1": "19",
                                    "2": "2012-01-24T00:00:00",
                                    "3": "1 Infinite Loop",
                                    "4": "Cupertino",
                                    "5": "CA",
                                    "6": "USA",
                                    "7": "95014",
                                    "8": "5.94"
                                },
                                {
                                    "0": "256",
                                    "1": "25",
                                    "2": "2012-01-27T00:00:00",
                                    "3": "319 N. Frances Street",
                                    "4": "Madison",
                                    "5": "WI",
                                    "6": "USA",
                                    "7": "53703",
                                    "8": "8.91"
                                },
                                {
                                    "0": "257",
                                    "1": "34",
                                    "2": "2012-02-01T00:00:00",
                                    "3": "Rua da Assunção 53",
                                    "4": "Lisbon",
                                    "5": "NULL",
                                    "6": "Portugal",
                                    "7": "NULL",
                                    "8": "13.86"
                                },
                                {
                                    "0": "262",
                                    "1": "57",
                                    "2": "2012-02-24T00:00:00",
                                    "3": "Calle Lira, 198",
                                    "4": "Santiago",
                                    "5": "NULL",
                                    "6": "Chile",
                                    "7": "NULL",
                                    "8": "5.94"
                                },
                                {
                                    "0": "263",
                                    "1": "4",
                                    "2": "2012-02-27T00:00:00",
                                    "3": "Ullevålsveien 14",
                                    "4": "Oslo",
                                    "5": "NULL",
                                    "6": "Norway",
                                    "7": "0171",
                                    "8": "8.91"
                                },
                                {
                                    "0": "264",
                                    "1": "13",
                                    "2": "2012-03-03T00:00:00",
                                    "3": "Qe 7 Bloco G",
                                    "4": "Brasília",
                                    "5": "DF",
                                    "6": "Brazil",
                                    "7": "71020-677",
                                    "8": "13.86"
                                },
                                {
                                    "0": "269",
                                    "1": "36",
                                    "2": "2012-03-26T00:00:00",
                                    "3": "Tauentzienstraße 8",
                                    "4": "Berlin",
                                    "5": "NULL",
                                    "6": "Germany",
                                    "7": "10789",
                                    "8": "5.94"
                                },
                                {
                                    "0": "270",
                                    "1": "42",
                                    "2": "2012-03-29T00:00:00",
                                    "3": "9, Place Louis Barthou",
                                    "4": "Bordeaux",
                                    "5": "NULL",
                                    "6": "France",
                                    "7": "33000",
                                    "8": "8.91"
                                },
                                {
                                    "0": "271",
                                    "1": "51",
                                    "2": "2012-04-03T00:00:00",
                                    "3": "Celsiusg. 9",
                                    "4": "Stockholm",
                                    "5": "NULL",
                                    "6": "Sweden",
                                    "7": "11230",
                                    "8": "13.86"
                                },
                                {
                                    "0": "276",
                                    "1": "15",
                                    "2": "2012-04-26T00:00:00",
                                    "3": "700 W Pender Street",
                                    "4": "Vancouver",
                                    "5": "BC",
                                    "6": "Canada",
                                    "7": "V6C 1G8",
                                    "8": "5.94"
                                },
                                {
                                    "0": "277",
                                    "1": "21",
                                    "2": "2012-04-29T00:00:00",
                                    "3": "801 W 4th Street",
                                    "4": "Reno",
                                    "5": "NV",
                                    "6": "USA",
                                    "7": "89503",
                                    "8": "8.91"
                                },
                                {
                                    "0": "278",
                                    "1": "30",
                                    "2": "2012-05-04T00:00:00",
                                    "3": "230 Elgin Street",
                                    "4": "Ottawa",
                                    "5": "ON",
                                    "6": "Canada",
                                    "7": "K2P 1L7",
                                    "8": "13.86"
                                },
                                {
                                    "0": "283",
                                    "1": "53",
                                    "2": "2012-05-27T00:00:00",
                                    "3": "113 Lupus St",
                                    "4": "London",
                                    "5": "NULL",
                                    "6": "United Kingdom",
                                    "7": "SW1V 3EN",
                                    "8": "5.94"
                                },
                                {
                                    "0": "284",
                                    "1": "59",
                                    "2": "2012-05-30T00:00:00",
                                    "3": "3,Raj Bhavan Road",
                                    "4": "Bangalore",
                                    "5": "NULL",
                                    "6": "India",
                                    "7": "560001",
                                    "8": "8.91"
                                },
                                {
                                    "0": "285",
                                    "1": "9",
                                    "2": "2012-06-04T00:00:00",
                                    "3": "Sønder Boulevard 51",
                                    "4": "Copenhagen",
                                    "5": "NULL",
                                    "6": "Denmark",
                                    "7": "1720",
                                    "8": "13.86"
                                },
                                {
                                    "0": "290",
                                    "1": "32",
                                    "2": "2012-06-27T00:00:00",
                                    "3": "696 Osborne Street",
                                    "4": "Winnipeg",
                                    "5": "MB",
                                    "6": "Canada",
                                    "7": "R3L 2B9",
                                    "8": "5.94"
                                },
                                {
                                    "0": "291",
                                    "1": "38",
                                    "2": "2012-06-30T00:00:00",
                                    "3": "Barbarossastraße 19",
                                    "4": "Berlin",
                                    "5": "NULL",
                                    "6": "Germany",
                                    "7": "10779",
                                    "8": "8.91"
                                },
                                {
                                    "0": "292",
                                    "1": "47",
                                    "2": "2012-07-05T00:00:00",
                                    "3": "Via Degli Scipioni, 43",
                                    "4": "Rome",
                                    "5": "RM",
                                    "6": "Italy",
                                    "7": "00192",
                                    "8": "13.86"
                                },
                                {
                                    "0": "297",
                                    "1": "11",
                                    "2": "2012-07-28T00:00:00",
                                    "3": "Av. Paulista, 2022",
                                    "4": "São Paulo",
                                    "5": "SP",
                                    "6": "Brazil",
                                    "7": "01310-200",
                                    "8": "5.94"
                                },
                                {
                                    "0": "298",
                                    "1": "17",
                                    "2": "2012-07-31T00:00:00",
                                    "3": "1 Microsoft Way",
                                    "4": "Redmond",
                                    "5": "WA",
                                    "6": "USA",
                                    "7": "98052-8300",
                                    "8": "10.91"
                                },
                                {
                                    "0": "299",
                                    "1": "26",
                                    "2": "2012-08-05T00:00:00",
                                    "3": "2211 W Berry Street",
                                    "4": "Fort Worth",
                                    "5": "TX",
                                    "6": "USA",
                                    "7": "76110",
                                    "8": "23.86"
                                },
                                {
                                    "0": "304",
                                    "1": "49",
                                    "2": "2012-08-28T00:00:00",
                                    "3": "Ordynacka 10",
                                    "4": "Warsaw",
                                    "5": "NULL",
                                    "6": "Poland",
                                    "7": "00-358",
                                    "8": "5.94"
                                },
                                {
                                    "0": "305",
                                    "1": "55",
                                    "2": "2012-08-31T00:00:00",
                                    "3": "421 Bourke Street",
                                    "4": "Sidney",
                                    "5": "NSW",
                                    "6": "Australia",
                                    "7": "2010",
                                    "8": "8.91"
                                },
                                {
                                    "0": "306",
                                    "1": "5",
                                    "2": "2012-09-05T00:00:00",
                                    "3": "Klanova 9/506",
                                    "4": "Prague",
                                    "5": "NULL",
                                    "6": "Czech Republic",
                                    "7": "14700",
                                    "8": "16.86"
                                },
                                {
                                    "0": "310",
                                    "1": "24",
                                    "2": "2012-09-27T00:00:00",
                                    "3": "162 E Superior Street",
                                    "4": "Chicago",
                                    "5": "IL",
                                    "6": "USA",
                                    "7": "60611",
                                    "8": "7.96"
                                },
                                {
                                    "0": "311",
                                    "1": "28",
                                    "2": "2012-09-28T00:00:00",
                                    "3": "302 S 700 E",
                                    "4": "Salt Lake City",
                                    "5": "UT",
                                    "6": "USA",
                                    "7": "84102",
                                    "8": "11.94"
                                },
                                {
                                    "0": "312",
                                    "1": "34",
                                    "2": "2012-10-01T00:00:00",
                                    "3": "Rua da Assunção 53",
                                    "4": "Lisbon",
                                    "5": "NULL",
                                    "6": "Portugal",
                                    "7": "NULL",
                                    "8": "10.91"
                                },
                                {
                                    "0": "313",
                                    "1": "43",
                                    "2": "2012-10-06T00:00:00",
                                    "3": "68, Rue Jouvence",
                                    "4": "Dijon",
                                    "5": "NULL",
                                    "6": "France",
                                    "7": "21000",
                                    "8": "16.86"
                                },
                                {
                                    "0": "318",
                                    "1": "7",
                                    "2": "2012-10-29T00:00:00",
                                    "3": "Rotenturmstraße 4, 1010 Innere Stadt",
                                    "4": "Vienne",
                                    "5": "NULL",
                                    "6": "Austria",
                                    "7": "1010",
                                    "8": "5.94"
                                },
                                {
                                    "0": "319",
                                    "1": "13",
                                    "2": "2012-11-01T00:00:00",
                                    "3": "Qe 7 Bloco G",
                                    "4": "Brasília",
                                    "5": "DF",
                                    "6": "Brazil",
                                    "7": "71020-677",
                                    "8": "8.91"
                                },
                                {
                                    "0": "320",
                                    "1": "22",
                                    "2": "2012-11-06T00:00:00",
                                    "3": "120 S Orange Ave",
                                    "4": "Orlando",
                                    "5": "FL",
                                    "6": "USA",
                                    "7": "32801",
                                    "8": "13.86"
                                },
                                {
                                    "0": "325",
                                    "1": "45",
                                    "2": "2012-11-29T00:00:00",
                                    "3": "Erzsébet krt. 58.",
                                    "4": "Budapest",
                                    "5": "NULL",
                                    "6": "Hungary",
                                    "7": "H-1073",
                                    "8": "5.94"
                                },
                                {
                                    "0": "326",
                                    "1": "51",
                                    "2": "2012-12-02T00:00:00",
                                    "3": "Celsiusg. 9",
                                    "4": "Stockholm",
                                    "5": "NULL",
                                    "6": "Sweden",
                                    "7": "11230",
                                    "8": "8.91"
                                },
                                {
                                    "0": "327",
                                    "1": "1",
                                    "2": "2012-12-07T00:00:00",
                                    "3": "Av. Brigadeiro Faria Lima, 2170",
                                    "4": "São José dos Campos",
                                    "5": "SP",
                                    "6": "Brazil",
                                    "7": "12227-000",
                                    "8": "13.86"
                                },
                                {
                                    "0": "332",
                                    "1": "24",
                                    "2": "2012-12-30T00:00:00",
                                    "3": "162 E Superior Street",
                                    "4": "Chicago",
                                    "5": "IL",
                                    "6": "USA",
                                    "7": "60611",
                                    "8": "5.94"
                                },
                                {
                                    "0": "333",
                                    "1": "30",
                                    "2": "2013-01-02T00:00:00",
                                    "3": "230 Elgin Street",
                                    "4": "Ottawa",
                                    "5": "ON",
                                    "6": "Canada",
                                    "7": "K2P 1L7",
                                    "8": "8.91"
                                },
                                {
                                    "0": "334",
                                    "1": "39",
                                    "2": "2013-01-07T00:00:00",
                                    "3": "4, Rue Milton",
                                    "4": "Paris",
                                    "5": "NULL",
                                    "6": "France",
                                    "7": "75009",
                                    "8": "13.86"
                                },
                                {
                                    "0": "339",
                                    "1": "3",
                                    "2": "2013-01-30T00:00:00",
                                    "3": "1498 rue Bélanger",
                                    "4": "Montréal",
                                    "5": "QC",
                                    "6": "Canada",
                                    "7": "H2G 1A7",
                                    "8": "5.94"
                                },
                                {
                                    "0": "340",
                                    "1": "9",
                                    "2": "2013-02-02T00:00:00",
                                    "3": "Sønder Boulevard 51",
                                    "4": "Copenhagen",
                                    "5": "NULL",
                                    "6": "Denmark",
                                    "7": "1720",
                                    "8": "8.91"
                                },
                                {
                                    "0": "341",
                                    "1": "18",
                                    "2": "2013-02-07T00:00:00",
                                    "3": "627 Broadway",
                                    "4": "New York",
                                    "5": "NY",
                                    "6": "USA",
                                    "7": "10012-2612",
                                    "8": "13.86"
                                },
                                {
                                    "0": "346",
                                    "1": "41",
                                    "2": "2013-03-02T00:00:00",
                                    "3": "11, Place Bellecour",
                                    "4": "Lyon",
                                    "5": "NULL",
                                    "6": "France",
                                    "7": "69002",
                                    "8": "5.94"
                                },
                                {
                                    "0": "347",
                                    "1": "47",
                                    "2": "2013-03-05T00:00:00",
                                    "3": "Via Degli Scipioni, 43",
                                    "4": "Rome",
                                    "5": "RM",
                                    "6": "Italy",
                                    "7": "00192",
                                    "8": "8.91"
                                },
                                {
                                    "0": "348",
                                    "1": "56",
                                    "2": "2013-03-10T00:00:00",
                                    "3": "307 Macacha Güemes",
                                    "4": "Buenos Aires",
                                    "5": "NULL",
                                    "6": "Argentina",
                                    "7": "1106",
                                    "8": "13.86"
                                },
                                {
                                    "0": "353",
                                    "1": "20",
                                    "2": "2013-04-02T00:00:00",
                                    "3": "541 Del Medio Avenue",
                                    "4": "Mountain View",
                                    "5": "CA",
                                    "6": "USA",
                                    "7": "94040-111",
                                    "8": "5.94"
                                },
                                {
                                    "0": "354",
                                    "1": "26",
                                    "2": "2013-04-05T00:00:00",
                                    "3": "2211 W Berry Street",
                                    "4": "Fort Worth",
                                    "5": "TX",
                                    "6": "USA",
                                    "7": "76110",
                                    "8": "8.91"
                                },
                                {
                                    "0": "355",
                                    "1": "35",
                                    "2": "2013-04-10T00:00:00",
                                    "3": "Rua dos Campeões Europeus de Viena, 4350",
                                    "4": "Porto",
                                    "5": "NULL",
                                    "6": "Portugal",
                                    "7": "NULL",
                                    "8": "13.86"
                                },
                                {
                                    "0": "360",
                                    "1": "58",
                                    "2": "2013-05-03T00:00:00",
                                    "3": "12,Community Centre",
                                    "4": "Delhi",
                                    "5": "NULL",
                                    "6": "India",
                                    "7": "110017",
                                    "8": "5.94"
                                },
                                {
                                    "0": "361",
                                    "1": "5",
                                    "2": "2013-05-06T00:00:00",
                                    "3": "Klanova 9/506",
                                    "4": "Prague",
                                    "5": "NULL",
                                    "6": "Czech Republic",
                                    "7": "14700",
                                    "8": "8.91"
                                },
                                {
                                    "0": "362",
                                    "1": "14",
                                    "2": "2013-05-11T00:00:00",
                                    "3": "8210 111 ST NW",
                                    "4": "Edmonton",
                                    "5": "AB",
                                    "6": "Canada",
                                    "7": "T6G 2C7",
                                    "8": "13.86"
                                },
                                {
                                    "0": "367",
                                    "1": "37",
                                    "2": "2013-06-03T00:00:00",
                                    "3": "Berger Straße 10",
                                    "4": "Frankfurt",
                                    "5": "NULL",
                                    "6": "Germany",
                                    "7": "60316",
                                    "8": "5.94"
                                },
                                {
                                    "0": "368",
                                    "1": "43",
                                    "2": "2013-06-06T00:00:00",
                                    "3": "68, Rue Jouvence",
                                    "4": "Dijon",
                                    "5": "NULL",
                                    "6": "France",
                                    "7": "21000",
                                    "8": "8.91"
                                },
                                {
                                    "0": "369",
                                    "1": "52",
                                    "2": "2013-06-11T00:00:00",
                                    "3": "202 Hoxton Street",
                                    "4": "London",
                                    "5": "NULL",
                                    "6": "United Kingdom",
                                    "7": "N1 5LH",
                                    "8": "13.86"
                                },
                                {
                                    "0": "374",
                                    "1": "16",
                                    "2": "2013-07-04T00:00:00",
                                    "3": "1600 Amphitheatre Parkway",
                                    "4": "Mountain View",
                                    "5": "CA",
                                    "6": "USA",
                                    "7": "94043-1351",
                                    "8": "5.94"
                                },
                                {
                                    "0": "375",
                                    "1": "22",
                                    "2": "2013-07-07T00:00:00",
                                    "3": "120 S Orange Ave",
                                    "4": "Orlando",
                                    "5": "FL",
                                    "6": "USA",
                                    "7": "32801",
                                    "8": "8.91"
                                },
                                {
                                    "0": "376",
                                    "1": "31",
                                    "2": "2013-07-12T00:00:00",
                                    "3": "194A Chain Lake Drive",
                                    "4": "Halifax",
                                    "5": "NS",
                                    "6": "Canada",
                                    "7": "B3S 1C5",
                                    "8": "13.86"
                                },
                                {
                                    "0": "381",
                                    "1": "54",
                                    "2": "2013-08-04T00:00:00",
                                    "3": "110 Raeburn Pl",
                                    "4": "Edinburgh",
                                    "5": "NULL",
                                    "6": "United Kingdom",
                                    "7": "EH4 1HH",
                                    "8": "5.94"
                                },
                                {
                                    "0": "382",
                                    "1": "1",
                                    "2": "2013-08-07T00:00:00",
                                    "3": "Av. Brigadeiro Faria Lima, 2170",
                                    "4": "São José dos Campos",
                                    "5": "SP",
                                    "6": "Brazil",
                                    "7": "12227-000",
                                    "8": "8.91"
                                },
                                {
                                    "0": "383",
                                    "1": "10",
                                    "2": "2013-08-12T00:00:00",
                                    "3": "Rua Dr. Falcão Filho, 155",
                                    "4": "São Paulo",
                                    "5": "SP",
                                    "6": "Brazil",
                                    "7": "01007-010",
                                    "8": "13.86"
                                },
                                {
                                    "0": "388",
                                    "1": "33",
                                    "2": "2013-09-04T00:00:00",
                                    "3": "5112 48 Street",
                                    "4": "Yellowknife",
                                    "5": "NT",
                                    "6": "Canada",
                                    "7": "X1A 1N6",
                                    "8": "5.94"
                                },
                                {
                                    "0": "389",
                                    "1": "39",
                                    "2": "2013-09-07T00:00:00",
                                    "3": "4, Rue Milton",
                                    "4": "Paris",
                                    "5": "NULL",
                                    "6": "France",
                                    "7": "75009",
                                    "8": "8.91"
                                },
                                {
                                    "0": "390",
                                    "1": "48",
                                    "2": "2013-09-12T00:00:00",
                                    "3": "Lijnbaansgracht 120bg",
                                    "4": "Amsterdam",
                                    "5": "VV",
                                    "6": "Netherlands",
                                    "7": "1016",
                                    "8": "13.86"
                                },
                                {
                                    "0": "395",
                                    "1": "12",
                                    "2": "2013-10-05T00:00:00",
                                    "3": "Praça Pio X, 119",
                                    "4": "Rio de Janeiro",
                                    "5": "RJ",
                                    "6": "Brazil",
                                    "7": "20040-020",
                                    "8": "5.94"
                                },
                                {
                                    "0": "396",
                                    "1": "18",
                                    "2": "2013-10-08T00:00:00",
                                    "3": "627 Broadway",
                                    "4": "New York",
                                    "5": "NY",
                                    "6": "USA",
                                    "7": "10012-2612",
                                    "8": "8.91"
                                },
                                {
                                    "0": "397",
                                    "1": "27",
                                    "2": "2013-10-13T00:00:00",
                                    "3": "1033 N Park Ave",
                                    "4": "Tucson",
                                    "5": "AZ",
                                    "6": "USA",
                                    "7": "85719",
                                    "8": "13.86"
                                },
                                {
                                    "0": "402",
                                    "1": "50",
                                    "2": "2013-11-05T00:00:00",
                                    "3": "C/ San Bernardo 85",
                                    "4": "Madrid",
                                    "5": "NULL",
                                    "6": "Spain",
                                    "7": "28015",
                                    "8": "5.94"
                                },
                                {
                                    "0": "403",
                                    "1": "56",
                                    "2": "2013-11-08T00:00:00",
                                    "3": "307 Macacha Güemes",
                                    "4": "Buenos Aires",
                                    "5": "NULL",
                                    "6": "Argentina",
                                    "7": "1106",
                                    "8": "8.91"
                                },
                                {
                                    "0": "404",
                                    "1": "6",
                                    "2": "2013-11-13T00:00:00",
                                    "3": "Rilská 3174/6",
                                    "4": "Prague",
                                    "5": "NULL",
                                    "6": "Czech Republic",
                                    "7": "14300",
                                    "8": "25.86"
                                },
                                {
                                    "0": "409",
                                    "1": "29",
                                    "2": "2013-12-06T00:00:00",
                                    "3": "796 Dundas Street West",
                                    "4": "Toronto",
                                    "5": "ON",
                                    "6": "Canada",
                                    "7": "M6J 1V1",
                                    "8": "5.94"
                                },
                                {
                                    "0": "410",
                                    "1": "35",
                                    "2": "2013-12-09T00:00:00",
                                    "3": "Rua dos Campeões Europeus de Viena, 4350",
                                    "4": "Porto",
                                    "5": "NULL",
                                    "6": "Portugal",
                                    "7": "NULL",
                                    "8": "8.91"
                                },
                                {
                                    "0": "411",
                                    "1": "44",
                                    "2": "2013-12-14T00:00:00",
                                    "3": "Porthaninkatu 9",
                                    "4": "Helsinki",
                                    "5": "NULL",
                                    "6": "Finland",
                                    "7": "00530",
                                    "8": "13.86"
                                }
                            ]
                        },
                        "text/html": [
                            "<table>",
                            "<tr><th>invoice_id</th><th>customer_id</th><th>invoice_date</th><th>billing_address</th><th>billing_city</th><th>billing_state</th><th>billing_country</th><th>billing_postal_code</th><th>total</th></tr>",
                            "<tr><td>3</td><td>8</td><td>2009-01-03T00:00:00</td><td>Grétrystraat 63</td><td>Brussels</td><td>NULL</td><td>Belgium</td><td>1000</td><td>5.94</td></tr>",
                            "<tr><td>4</td><td>14</td><td>2009-01-06T00:00:00</td><td>8210 111 ST NW</td><td>Edmonton</td><td>AB</td><td>Canada</td><td>T6G 2C7</td><td>8.91</td></tr>",
                            "<tr><td>5</td><td>23</td><td>2009-01-11T00:00:00</td><td>69 Salem Street</td><td>Boston</td><td>MA</td><td>USA</td><td>2113</td><td>13.86</td></tr>",
                            "<tr><td>10</td><td>46</td><td>2009-02-03T00:00:00</td><td>3 Chatham Street</td><td>Dublin</td><td>Dublin</td><td>Ireland</td><td>NULL</td><td>5.94</td></tr>",
                            "<tr><td>11</td><td>52</td><td>2009-02-06T00:00:00</td><td>202 Hoxton Street</td><td>London</td><td>NULL</td><td>United Kingdom</td><td>N1 5LH</td><td>8.91</td></tr>",
                            "<tr><td>12</td><td>2</td><td>2009-02-11T00:00:00</td><td>Theodor-Heuss-Straße 34</td><td>Stuttgart</td><td>NULL</td><td>Germany</td><td>70174</td><td>13.86</td></tr>",
                            "<tr><td>17</td><td>25</td><td>2009-03-06T00:00:00</td><td>319 N. Frances Street</td><td>Madison</td><td>WI</td><td>USA</td><td>53703</td><td>5.94</td></tr>",
                            "<tr><td>18</td><td>31</td><td>2009-03-09T00:00:00</td><td>194A Chain Lake Drive</td><td>Halifax</td><td>NS</td><td>Canada</td><td>B3S 1C5</td><td>8.91</td></tr>",
                            "<tr><td>19</td><td>40</td><td>2009-03-14T00:00:00</td><td>8, Rue Hanovre</td><td>Paris</td><td>NULL</td><td>France</td><td>75002</td><td>13.86</td></tr>",
                            "<tr><td>24</td><td>4</td><td>2009-04-06T00:00:00</td><td>Ullevålsveien 14</td><td>Oslo</td><td>NULL</td><td>Norway</td><td>0171</td><td>5.94</td></tr>",
                            "<tr><td>25</td><td>10</td><td>2009-04-09T00:00:00</td><td>Rua Dr. Falcão Filho, 155</td><td>São Paulo</td><td>SP</td><td>Brazil</td><td>01007-010</td><td>8.91</td></tr>",
                            "<tr><td>26</td><td>19</td><td>2009-04-14T00:00:00</td><td>1 Infinite Loop</td><td>Cupertino</td><td>CA</td><td>USA</td><td>95014</td><td>13.86</td></tr>",
                            "<tr><td>31</td><td>42</td><td>2009-05-07T00:00:00</td><td>9, Place Louis Barthou</td><td>Bordeaux</td><td>NULL</td><td>France</td><td>33000</td><td>5.94</td></tr>",
                            "<tr><td>32</td><td>48</td><td>2009-05-10T00:00:00</td><td>Lijnbaansgracht 120bg</td><td>Amsterdam</td><td>VV</td><td>Netherlands</td><td>1016</td><td>8.91</td></tr>",
                            "<tr><td>33</td><td>57</td><td>2009-05-15T00:00:00</td><td>Calle Lira, 198</td><td>Santiago</td><td>NULL</td><td>Chile</td><td>NULL</td><td>13.86</td></tr>",
                            "<tr><td>38</td><td>21</td><td>2009-06-07T00:00:00</td><td>801 W 4th Street</td><td>Reno</td><td>NV</td><td>USA</td><td>89503</td><td>5.94</td></tr>",
                            "<tr><td>39</td><td>27</td><td>2009-06-10T00:00:00</td><td>1033 N Park Ave</td><td>Tucson</td><td>AZ</td><td>USA</td><td>85719</td><td>8.91</td></tr>",
                            "<tr><td>40</td><td>36</td><td>2009-06-15T00:00:00</td><td>Tauentzienstraße 8</td><td>Berlin</td><td>NULL</td><td>Germany</td><td>10789</td><td>13.86</td></tr>",
                            "<tr><td>45</td><td>59</td><td>2009-07-08T00:00:00</td><td>3,Raj Bhavan Road</td><td>Bangalore</td><td>NULL</td><td>India</td><td>560001</td><td>5.94</td></tr>",
                            "<tr><td>46</td><td>6</td><td>2009-07-11T00:00:00</td><td>Rilská 3174/6</td><td>Prague</td><td>NULL</td><td>Czech Republic</td><td>14300</td><td>8.91</td></tr>",
                            "<tr><td>47</td><td>15</td><td>2009-07-16T00:00:00</td><td>700 W Pender Street</td><td>Vancouver</td><td>BC</td><td>Canada</td><td>V6C 1G8</td><td>13.86</td></tr>",
                            "<tr><td>52</td><td>38</td><td>2009-08-08T00:00:00</td><td>Barbarossastraße 19</td><td>Berlin</td><td>NULL</td><td>Germany</td><td>10779</td><td>5.94</td></tr>",
                            "<tr><td>53</td><td>44</td><td>2009-08-11T00:00:00</td><td>Porthaninkatu 9</td><td>Helsinki</td><td>NULL</td><td>Finland</td><td>00530</td><td>8.91</td></tr>",
                            "<tr><td>54</td><td>53</td><td>2009-08-16T00:00:00</td><td>113 Lupus St</td><td>London</td><td>NULL</td><td>United Kingdom</td><td>SW1V 3EN</td><td>13.86</td></tr>",
                            "<tr><td>59</td><td>17</td><td>2009-09-08T00:00:00</td><td>1 Microsoft Way</td><td>Redmond</td><td>WA</td><td>USA</td><td>98052-8300</td><td>5.94</td></tr>",
                            "<tr><td>60</td><td>23</td><td>2009-09-11T00:00:00</td><td>69 Salem Street</td><td>Boston</td><td>MA</td><td>USA</td><td>2113</td><td>8.91</td></tr>",
                            "<tr><td>61</td><td>32</td><td>2009-09-16T00:00:00</td><td>696 Osborne Street</td><td>Winnipeg</td><td>MB</td><td>Canada</td><td>R3L 2B9</td><td>13.86</td></tr>",
                            "<tr><td>66</td><td>55</td><td>2009-10-09T00:00:00</td><td>421 Bourke Street</td><td>Sidney</td><td>NSW</td><td>Australia</td><td>2010</td><td>5.94</td></tr>",
                            "<tr><td>67</td><td>2</td><td>2009-10-12T00:00:00</td><td>Theodor-Heuss-Straße 34</td><td>Stuttgart</td><td>NULL</td><td>Germany</td><td>70174</td><td>8.91</td></tr>",
                            "<tr><td>68</td><td>11</td><td>2009-10-17T00:00:00</td><td>Av. Paulista, 2022</td><td>São Paulo</td><td>SP</td><td>Brazil</td><td>01310-200</td><td>13.86</td></tr>",
                            "<tr><td>73</td><td>34</td><td>2009-11-09T00:00:00</td><td>Rua da Assunção 53</td><td>Lisbon</td><td>NULL</td><td>Portugal</td><td>NULL</td><td>5.94</td></tr>",
                            "<tr><td>74</td><td>40</td><td>2009-11-12T00:00:00</td><td>8, Rue Hanovre</td><td>Paris</td><td>NULL</td><td>France</td><td>75002</td><td>8.91</td></tr>",
                            "<tr><td>75</td><td>49</td><td>2009-11-17T00:00:00</td><td>Ordynacka 10</td><td>Warsaw</td><td>NULL</td><td>Poland</td><td>00-358</td><td>13.86</td></tr>",
                            "<tr><td>80</td><td>13</td><td>2009-12-10T00:00:00</td><td>Qe 7 Bloco G</td><td>Brasília</td><td>DF</td><td>Brazil</td><td>71020-677</td><td>5.94</td></tr>",
                            "<tr><td>81</td><td>19</td><td>2009-12-13T00:00:00</td><td>1 Infinite Loop</td><td>Cupertino</td><td>CA</td><td>USA</td><td>95014</td><td>8.91</td></tr>",
                            "<tr><td>82</td><td>28</td><td>2009-12-18T00:00:00</td><td>302 S 700 E</td><td>Salt Lake City</td><td>UT</td><td>USA</td><td>84102</td><td>13.86</td></tr>",
                            "<tr><td>87</td><td>51</td><td>2010-01-10T00:00:00</td><td>Celsiusg. 9</td><td>Stockholm</td><td>NULL</td><td>Sweden</td><td>11230</td><td>6.94</td></tr>",
                            "<tr><td>88</td><td>57</td><td>2010-01-13T00:00:00</td><td>Calle Lira, 198</td><td>Santiago</td><td>NULL</td><td>Chile</td><td>NULL</td><td>17.91</td></tr>",
                            "<tr><td>89</td><td>7</td><td>2010-01-18T00:00:00</td><td>Rotenturmstraße 4, 1010 Innere Stadt</td><td>Vienne</td><td>NULL</td><td>Austria</td><td>1010</td><td>18.86</td></tr>",
                            "<tr><td>94</td><td>30</td><td>2010-02-10T00:00:00</td><td>230 Elgin Street</td><td>Ottawa</td><td>ON</td><td>Canada</td><td>K2P 1L7</td><td>5.94</td></tr>",
                            "<tr><td>95</td><td>36</td><td>2010-02-13T00:00:00</td><td>Tauentzienstraße 8</td><td>Berlin</td><td>NULL</td><td>Germany</td><td>10789</td><td>8.91</td></tr>",
                            "<tr><td>96</td><td>45</td><td>2010-02-18T00:00:00</td><td>Erzsébet krt. 58.</td><td>Budapest</td><td>NULL</td><td>Hungary</td><td>H-1073</td><td>21.86</td></tr>",
                            "<tr><td>101</td><td>9</td><td>2010-03-13T00:00:00</td><td>Sønder Boulevard 51</td><td>Copenhagen</td><td>NULL</td><td>Denmark</td><td>1720</td><td>5.94</td></tr>",
                            "<tr><td>102</td><td>15</td><td>2010-03-16T00:00:00</td><td>700 W Pender Street</td><td>Vancouver</td><td>BC</td><td>Canada</td><td>V6C 1G8</td><td>9.91</td></tr>",
                            "<tr><td>103</td><td>24</td><td>2010-03-21T00:00:00</td><td>162 E Superior Street</td><td>Chicago</td><td>IL</td><td>USA</td><td>60611</td><td>15.86</td></tr>",
                            "<tr><td>108</td><td>47</td><td>2010-04-13T00:00:00</td><td>Via Degli Scipioni, 43</td><td>Rome</td><td>RM</td><td>Italy</td><td>00192</td><td>5.94</td></tr>",
                            "<tr><td>109</td><td>53</td><td>2010-04-16T00:00:00</td><td>113 Lupus St</td><td>London</td><td>NULL</td><td>United Kingdom</td><td>SW1V 3EN</td><td>8.91</td></tr>",
                            "<tr><td>110</td><td>3</td><td>2010-04-21T00:00:00</td><td>1498 rue Bélanger</td><td>Montréal</td><td>QC</td><td>Canada</td><td>H2G 1A7</td><td>13.86</td></tr>",
                            "<tr><td>115</td><td>26</td><td>2010-05-14T00:00:00</td><td>2211 W Berry Street</td><td>Fort Worth</td><td>TX</td><td>USA</td><td>76110</td><td>5.94</td></tr>",
                            "<tr><td>116</td><td>32</td><td>2010-05-17T00:00:00</td><td>696 Osborne Street</td><td>Winnipeg</td><td>MB</td><td>Canada</td><td>R3L 2B9</td><td>8.91</td></tr>",
                            "<tr><td>117</td><td>41</td><td>2010-05-22T00:00:00</td><td>11, Place Bellecour</td><td>Lyon</td><td>NULL</td><td>France</td><td>69002</td><td>13.86</td></tr>",
                            "<tr><td>122</td><td>5</td><td>2010-06-14T00:00:00</td><td>Klanova 9/506</td><td>Prague</td><td>NULL</td><td>Czech Republic</td><td>14700</td><td>5.94</td></tr>",
                            "<tr><td>123</td><td>11</td><td>2010-06-17T00:00:00</td><td>Av. Paulista, 2022</td><td>São Paulo</td><td>SP</td><td>Brazil</td><td>01310-200</td><td>8.91</td></tr>",
                            "<tr><td>124</td><td>20</td><td>2010-06-22T00:00:00</td><td>541 Del Medio Avenue</td><td>Mountain View</td><td>CA</td><td>USA</td><td>94040-111</td><td>13.86</td></tr>",
                            "<tr><td>129</td><td>43</td><td>2010-07-15T00:00:00</td><td>68, Rue Jouvence</td><td>Dijon</td><td>NULL</td><td>France</td><td>21000</td><td>5.94</td></tr>",
                            "<tr><td>130</td><td>49</td><td>2010-07-18T00:00:00</td><td>Ordynacka 10</td><td>Warsaw</td><td>NULL</td><td>Poland</td><td>00-358</td><td>8.91</td></tr>",
                            "<tr><td>131</td><td>58</td><td>2010-07-23T00:00:00</td><td>12,Community Centre</td><td>Delhi</td><td>NULL</td><td>India</td><td>110017</td><td>13.86</td></tr>",
                            "<tr><td>136</td><td>22</td><td>2010-08-15T00:00:00</td><td>120 S Orange Ave</td><td>Orlando</td><td>FL</td><td>USA</td><td>32801</td><td>5.94</td></tr>",
                            "<tr><td>137</td><td>28</td><td>2010-08-18T00:00:00</td><td>302 S 700 E</td><td>Salt Lake City</td><td>UT</td><td>USA</td><td>84102</td><td>8.91</td></tr>",
                            "<tr><td>138</td><td>37</td><td>2010-08-23T00:00:00</td><td>Berger Straße 10</td><td>Frankfurt</td><td>NULL</td><td>Germany</td><td>60316</td><td>13.86</td></tr>",
                            "<tr><td>143</td><td>1</td><td>2010-09-15T00:00:00</td><td>Av. Brigadeiro Faria Lima, 2170</td><td>São José dos Campos</td><td>SP</td><td>Brazil</td><td>12227-000</td><td>5.94</td></tr>",
                            "<tr><td>144</td><td>7</td><td>2010-09-18T00:00:00</td><td>Rotenturmstraße 4, 1010 Innere Stadt</td><td>Vienne</td><td>NULL</td><td>Austria</td><td>1010</td><td>8.91</td></tr>",
                            "<tr><td>145</td><td>16</td><td>2010-09-23T00:00:00</td><td>1600 Amphitheatre Parkway</td><td>Mountain View</td><td>CA</td><td>USA</td><td>94043-1351</td><td>13.86</td></tr>",
                            "<tr><td>150</td><td>39</td><td>2010-10-16T00:00:00</td><td>4, Rue Milton</td><td>Paris</td><td>NULL</td><td>France</td><td>75009</td><td>5.94</td></tr>",
                            "<tr><td>151</td><td>45</td><td>2010-10-19T00:00:00</td><td>Erzsébet krt. 58.</td><td>Budapest</td><td>NULL</td><td>Hungary</td><td>H-1073</td><td>8.91</td></tr>",
                            "<tr><td>152</td><td>54</td><td>2010-10-24T00:00:00</td><td>110 Raeburn Pl</td><td>Edinburgh</td><td>NULL</td><td>United Kingdom</td><td>EH4 1HH</td><td>13.86</td></tr>",
                            "<tr><td>157</td><td>18</td><td>2010-11-16T00:00:00</td><td>627 Broadway</td><td>New York</td><td>NY</td><td>USA</td><td>10012-2612</td><td>5.94</td></tr>",
                            "<tr><td>158</td><td>24</td><td>2010-11-19T00:00:00</td><td>162 E Superior Street</td><td>Chicago</td><td>IL</td><td>USA</td><td>60611</td><td>8.91</td></tr>",
                            "<tr><td>159</td><td>33</td><td>2010-11-24T00:00:00</td><td>5112 48 Street</td><td>Yellowknife</td><td>NT</td><td>Canada</td><td>X1A 1N6</td><td>13.86</td></tr>",
                            "<tr><td>164</td><td>56</td><td>2010-12-17T00:00:00</td><td>307 Macacha Güemes</td><td>Buenos Aires</td><td>NULL</td><td>Argentina</td><td>1106</td><td>5.94</td></tr>",
                            "<tr><td>165</td><td>3</td><td>2010-12-20T00:00:00</td><td>1498 rue Bélanger</td><td>Montréal</td><td>QC</td><td>Canada</td><td>H2G 1A7</td><td>8.91</td></tr>",
                            "<tr><td>166</td><td>12</td><td>2010-12-25T00:00:00</td><td>Praça Pio X, 119</td><td>Rio de Janeiro</td><td>RJ</td><td>Brazil</td><td>20040-020</td><td>13.86</td></tr>",
                            "<tr><td>171</td><td>35</td><td>2011-01-17T00:00:00</td><td>Rua dos Campeões Europeus de Viena, 4350</td><td>Porto</td><td>NULL</td><td>Portugal</td><td>NULL</td><td>5.94</td></tr>",
                            "<tr><td>172</td><td>41</td><td>2011-01-20T00:00:00</td><td>11, Place Bellecour</td><td>Lyon</td><td>NULL</td><td>France</td><td>69002</td><td>8.91</td></tr>",
                            "<tr><td>173</td><td>50</td><td>2011-01-25T00:00:00</td><td>C/ San Bernardo 85</td><td>Madrid</td><td>NULL</td><td>Spain</td><td>28015</td><td>13.86</td></tr>",
                            "<tr><td>178</td><td>14</td><td>2011-02-17T00:00:00</td><td>8210 111 ST NW</td><td>Edmonton</td><td>AB</td><td>Canada</td><td>T6G 2C7</td><td>5.94</td></tr>",
                            "<tr><td>179</td><td>20</td><td>2011-02-20T00:00:00</td><td>541 Del Medio Avenue</td><td>Mountain View</td><td>CA</td><td>USA</td><td>94040-111</td><td>8.91</td></tr>",
                            "<tr><td>180</td><td>29</td><td>2011-02-25T00:00:00</td><td>796 Dundas Street West</td><td>Toronto</td><td>ON</td><td>Canada</td><td>M6J 1V1</td><td>13.86</td></tr>",
                            "<tr><td>185</td><td>52</td><td>2011-03-20T00:00:00</td><td>202 Hoxton Street</td><td>London</td><td>NULL</td><td>United Kingdom</td><td>N1 5LH</td><td>5.94</td></tr>",
                            "<tr><td>186</td><td>58</td><td>2011-03-23T00:00:00</td><td>12,Community Centre</td><td>Delhi</td><td>NULL</td><td>India</td><td>110017</td><td>8.91</td></tr>",
                            "<tr><td>187</td><td>8</td><td>2011-03-28T00:00:00</td><td>Grétrystraat 63</td><td>Brussels</td><td>NULL</td><td>Belgium</td><td>1000</td><td>13.86</td></tr>",
                            "<tr><td>192</td><td>31</td><td>2011-04-20T00:00:00</td><td>194A Chain Lake Drive</td><td>Halifax</td><td>NS</td><td>Canada</td><td>B3S 1C5</td><td>5.94</td></tr>",
                            "<tr><td>193</td><td>37</td><td>2011-04-23T00:00:00</td><td>Berger Straße 10</td><td>Frankfurt</td><td>NULL</td><td>Germany</td><td>60316</td><td>14.91</td></tr>",
                            "<tr><td>194</td><td>46</td><td>2011-04-28T00:00:00</td><td>3 Chatham Street</td><td>Dublin</td><td>Dublin</td><td>Ireland</td><td>NULL</td><td>21.86</td></tr>",
                            "<tr><td>199</td><td>10</td><td>2011-05-21T00:00:00</td><td>Rua Dr. Falcão Filho, 155</td><td>São Paulo</td><td>SP</td><td>Brazil</td><td>01007-010</td><td>5.94</td></tr>",
                            "<tr><td>200</td><td>16</td><td>2011-05-24T00:00:00</td><td>1600 Amphitheatre Parkway</td><td>Mountain View</td><td>CA</td><td>USA</td><td>94043-1351</td><td>8.91</td></tr>",
                            "<tr><td>201</td><td>25</td><td>2011-05-29T00:00:00</td><td>319 N. Frances Street</td><td>Madison</td><td>WI</td><td>USA</td><td>53703</td><td>18.86</td></tr>",
                            "<tr><td>205</td><td>44</td><td>2011-06-20T00:00:00</td><td>Porthaninkatu 9</td><td>Helsinki</td><td>NULL</td><td>Finland</td><td>00530</td><td>7.96</td></tr>",
                            "<tr><td>206</td><td>48</td><td>2011-06-21T00:00:00</td><td>Lijnbaansgracht 120bg</td><td>Amsterdam</td><td>VV</td><td>Netherlands</td><td>1016</td><td>8.94</td></tr>",
                            "<tr><td>207</td><td>54</td><td>2011-06-24T00:00:00</td><td>110 Raeburn Pl</td><td>Edinburgh</td><td>NULL</td><td>United Kingdom</td><td>EH4 1HH</td><td>8.91</td></tr>",
                            "<tr><td>208</td><td>4</td><td>2011-06-29T00:00:00</td><td>Ullevålsveien 14</td><td>Oslo</td><td>NULL</td><td>Norway</td><td>0171</td><td>15.86</td></tr>",
                            "<tr><td>213</td><td>27</td><td>2011-07-22T00:00:00</td><td>1033 N Park Ave</td><td>Tucson</td><td>AZ</td><td>USA</td><td>85719</td><td>5.94</td></tr>",
                            "<tr><td>214</td><td>33</td><td>2011-07-25T00:00:00</td><td>5112 48 Street</td><td>Yellowknife</td><td>NT</td><td>Canada</td><td>X1A 1N6</td><td>8.91</td></tr>",
                            "<tr><td>215</td><td>42</td><td>2011-07-30T00:00:00</td><td>9, Place Louis Barthou</td><td>Bordeaux</td><td>NULL</td><td>France</td><td>33000</td><td>13.86</td></tr>",
                            "<tr><td>220</td><td>6</td><td>2011-08-22T00:00:00</td><td>Rilská 3174/6</td><td>Prague</td><td>NULL</td><td>Czech Republic</td><td>14300</td><td>5.94</td></tr>",
                            "<tr><td>221</td><td>12</td><td>2011-08-25T00:00:00</td><td>Praça Pio X, 119</td><td>Rio de Janeiro</td><td>RJ</td><td>Brazil</td><td>20040-020</td><td>8.91</td></tr>",
                            "<tr><td>222</td><td>21</td><td>2011-08-30T00:00:00</td><td>801 W 4th Street</td><td>Reno</td><td>NV</td><td>USA</td><td>89503</td><td>13.86</td></tr>",
                            "<tr><td>227</td><td>44</td><td>2011-09-22T00:00:00</td><td>Porthaninkatu 9</td><td>Helsinki</td><td>NULL</td><td>Finland</td><td>00530</td><td>5.94</td></tr>",
                            "<tr><td>228</td><td>50</td><td>2011-09-25T00:00:00</td><td>C/ San Bernardo 85</td><td>Madrid</td><td>NULL</td><td>Spain</td><td>28015</td><td>8.91</td></tr>",
                            "<tr><td>229</td><td>59</td><td>2011-09-30T00:00:00</td><td>3,Raj Bhavan Road</td><td>Bangalore</td><td>NULL</td><td>India</td><td>560001</td><td>13.86</td></tr>",
                            "<tr><td>234</td><td>23</td><td>2011-10-23T00:00:00</td><td>69 Salem Street</td><td>Boston</td><td>MA</td><td>USA</td><td>2113</td><td>5.94</td></tr>",
                            "<tr><td>235</td><td>29</td><td>2011-10-26T00:00:00</td><td>796 Dundas Street West</td><td>Toronto</td><td>ON</td><td>Canada</td><td>M6J 1V1</td><td>8.91</td></tr>",
                            "<tr><td>236</td><td>38</td><td>2011-10-31T00:00:00</td><td>Barbarossastraße 19</td><td>Berlin</td><td>NULL</td><td>Germany</td><td>10779</td><td>13.86</td></tr>",
                            "<tr><td>241</td><td>2</td><td>2011-11-23T00:00:00</td><td>Theodor-Heuss-Straße 34</td><td>Stuttgart</td><td>NULL</td><td>Germany</td><td>70174</td><td>5.94</td></tr>",
                            "<tr><td>242</td><td>8</td><td>2011-11-26T00:00:00</td><td>Grétrystraat 63</td><td>Brussels</td><td>NULL</td><td>Belgium</td><td>1000</td><td>8.91</td></tr>",
                            "<tr><td>243</td><td>17</td><td>2011-12-01T00:00:00</td><td>1 Microsoft Way</td><td>Redmond</td><td>WA</td><td>USA</td><td>98052-8300</td><td>13.86</td></tr>",
                            "<tr><td>248</td><td>40</td><td>2011-12-24T00:00:00</td><td>8, Rue Hanovre</td><td>Paris</td><td>NULL</td><td>France</td><td>75002</td><td>5.94</td></tr>",
                            "<tr><td>249</td><td>46</td><td>2011-12-27T00:00:00</td><td>3 Chatham Street</td><td>Dublin</td><td>Dublin</td><td>Ireland</td><td>NULL</td><td>8.91</td></tr>",
                            "<tr><td>250</td><td>55</td><td>2012-01-01T00:00:00</td><td>421 Bourke Street</td><td>Sidney</td><td>NSW</td><td>Australia</td><td>2010</td><td>13.86</td></tr>",
                            "<tr><td>255</td><td>19</td><td>2012-01-24T00:00:00</td><td>1 Infinite Loop</td><td>Cupertino</td><td>CA</td><td>USA</td><td>95014</td><td>5.94</td></tr>",
                            "<tr><td>256</td><td>25</td><td>2012-01-27T00:00:00</td><td>319 N. Frances Street</td><td>Madison</td><td>WI</td><td>USA</td><td>53703</td><td>8.91</td></tr>",
                            "<tr><td>257</td><td>34</td><td>2012-02-01T00:00:00</td><td>Rua da Assunção 53</td><td>Lisbon</td><td>NULL</td><td>Portugal</td><td>NULL</td><td>13.86</td></tr>",
                            "<tr><td>262</td><td>57</td><td>2012-02-24T00:00:00</td><td>Calle Lira, 198</td><td>Santiago</td><td>NULL</td><td>Chile</td><td>NULL</td><td>5.94</td></tr>",
                            "<tr><td>263</td><td>4</td><td>2012-02-27T00:00:00</td><td>Ullevålsveien 14</td><td>Oslo</td><td>NULL</td><td>Norway</td><td>0171</td><td>8.91</td></tr>",
                            "<tr><td>264</td><td>13</td><td>2012-03-03T00:00:00</td><td>Qe 7 Bloco G</td><td>Brasília</td><td>DF</td><td>Brazil</td><td>71020-677</td><td>13.86</td></tr>",
                            "<tr><td>269</td><td>36</td><td>2012-03-26T00:00:00</td><td>Tauentzienstraße 8</td><td>Berlin</td><td>NULL</td><td>Germany</td><td>10789</td><td>5.94</td></tr>",
                            "<tr><td>270</td><td>42</td><td>2012-03-29T00:00:00</td><td>9, Place Louis Barthou</td><td>Bordeaux</td><td>NULL</td><td>France</td><td>33000</td><td>8.91</td></tr>",
                            "<tr><td>271</td><td>51</td><td>2012-04-03T00:00:00</td><td>Celsiusg. 9</td><td>Stockholm</td><td>NULL</td><td>Sweden</td><td>11230</td><td>13.86</td></tr>",
                            "<tr><td>276</td><td>15</td><td>2012-04-26T00:00:00</td><td>700 W Pender Street</td><td>Vancouver</td><td>BC</td><td>Canada</td><td>V6C 1G8</td><td>5.94</td></tr>",
                            "<tr><td>277</td><td>21</td><td>2012-04-29T00:00:00</td><td>801 W 4th Street</td><td>Reno</td><td>NV</td><td>USA</td><td>89503</td><td>8.91</td></tr>",
                            "<tr><td>278</td><td>30</td><td>2012-05-04T00:00:00</td><td>230 Elgin Street</td><td>Ottawa</td><td>ON</td><td>Canada</td><td>K2P 1L7</td><td>13.86</td></tr>",
                            "<tr><td>283</td><td>53</td><td>2012-05-27T00:00:00</td><td>113 Lupus St</td><td>London</td><td>NULL</td><td>United Kingdom</td><td>SW1V 3EN</td><td>5.94</td></tr>",
                            "<tr><td>284</td><td>59</td><td>2012-05-30T00:00:00</td><td>3,Raj Bhavan Road</td><td>Bangalore</td><td>NULL</td><td>India</td><td>560001</td><td>8.91</td></tr>",
                            "<tr><td>285</td><td>9</td><td>2012-06-04T00:00:00</td><td>Sønder Boulevard 51</td><td>Copenhagen</td><td>NULL</td><td>Denmark</td><td>1720</td><td>13.86</td></tr>",
                            "<tr><td>290</td><td>32</td><td>2012-06-27T00:00:00</td><td>696 Osborne Street</td><td>Winnipeg</td><td>MB</td><td>Canada</td><td>R3L 2B9</td><td>5.94</td></tr>",
                            "<tr><td>291</td><td>38</td><td>2012-06-30T00:00:00</td><td>Barbarossastraße 19</td><td>Berlin</td><td>NULL</td><td>Germany</td><td>10779</td><td>8.91</td></tr>",
                            "<tr><td>292</td><td>47</td><td>2012-07-05T00:00:00</td><td>Via Degli Scipioni, 43</td><td>Rome</td><td>RM</td><td>Italy</td><td>00192</td><td>13.86</td></tr>",
                            "<tr><td>297</td><td>11</td><td>2012-07-28T00:00:00</td><td>Av. Paulista, 2022</td><td>São Paulo</td><td>SP</td><td>Brazil</td><td>01310-200</td><td>5.94</td></tr>",
                            "<tr><td>298</td><td>17</td><td>2012-07-31T00:00:00</td><td>1 Microsoft Way</td><td>Redmond</td><td>WA</td><td>USA</td><td>98052-8300</td><td>10.91</td></tr>",
                            "<tr><td>299</td><td>26</td><td>2012-08-05T00:00:00</td><td>2211 W Berry Street</td><td>Fort Worth</td><td>TX</td><td>USA</td><td>76110</td><td>23.86</td></tr>",
                            "<tr><td>304</td><td>49</td><td>2012-08-28T00:00:00</td><td>Ordynacka 10</td><td>Warsaw</td><td>NULL</td><td>Poland</td><td>00-358</td><td>5.94</td></tr>",
                            "<tr><td>305</td><td>55</td><td>2012-08-31T00:00:00</td><td>421 Bourke Street</td><td>Sidney</td><td>NSW</td><td>Australia</td><td>2010</td><td>8.91</td></tr>",
                            "<tr><td>306</td><td>5</td><td>2012-09-05T00:00:00</td><td>Klanova 9/506</td><td>Prague</td><td>NULL</td><td>Czech Republic</td><td>14700</td><td>16.86</td></tr>",
                            "<tr><td>310</td><td>24</td><td>2012-09-27T00:00:00</td><td>162 E Superior Street</td><td>Chicago</td><td>IL</td><td>USA</td><td>60611</td><td>7.96</td></tr>",
                            "<tr><td>311</td><td>28</td><td>2012-09-28T00:00:00</td><td>302 S 700 E</td><td>Salt Lake City</td><td>UT</td><td>USA</td><td>84102</td><td>11.94</td></tr>",
                            "<tr><td>312</td><td>34</td><td>2012-10-01T00:00:00</td><td>Rua da Assunção 53</td><td>Lisbon</td><td>NULL</td><td>Portugal</td><td>NULL</td><td>10.91</td></tr>",
                            "<tr><td>313</td><td>43</td><td>2012-10-06T00:00:00</td><td>68, Rue Jouvence</td><td>Dijon</td><td>NULL</td><td>France</td><td>21000</td><td>16.86</td></tr>",
                            "<tr><td>318</td><td>7</td><td>2012-10-29T00:00:00</td><td>Rotenturmstraße 4, 1010 Innere Stadt</td><td>Vienne</td><td>NULL</td><td>Austria</td><td>1010</td><td>5.94</td></tr>",
                            "<tr><td>319</td><td>13</td><td>2012-11-01T00:00:00</td><td>Qe 7 Bloco G</td><td>Brasília</td><td>DF</td><td>Brazil</td><td>71020-677</td><td>8.91</td></tr>",
                            "<tr><td>320</td><td>22</td><td>2012-11-06T00:00:00</td><td>120 S Orange Ave</td><td>Orlando</td><td>FL</td><td>USA</td><td>32801</td><td>13.86</td></tr>",
                            "<tr><td>325</td><td>45</td><td>2012-11-29T00:00:00</td><td>Erzsébet krt. 58.</td><td>Budapest</td><td>NULL</td><td>Hungary</td><td>H-1073</td><td>5.94</td></tr>",
                            "<tr><td>326</td><td>51</td><td>2012-12-02T00:00:00</td><td>Celsiusg. 9</td><td>Stockholm</td><td>NULL</td><td>Sweden</td><td>11230</td><td>8.91</td></tr>",
                            "<tr><td>327</td><td>1</td><td>2012-12-07T00:00:00</td><td>Av. Brigadeiro Faria Lima, 2170</td><td>São José dos Campos</td><td>SP</td><td>Brazil</td><td>12227-000</td><td>13.86</td></tr>",
                            "<tr><td>332</td><td>24</td><td>2012-12-30T00:00:00</td><td>162 E Superior Street</td><td>Chicago</td><td>IL</td><td>USA</td><td>60611</td><td>5.94</td></tr>",
                            "<tr><td>333</td><td>30</td><td>2013-01-02T00:00:00</td><td>230 Elgin Street</td><td>Ottawa</td><td>ON</td><td>Canada</td><td>K2P 1L7</td><td>8.91</td></tr>",
                            "<tr><td>334</td><td>39</td><td>2013-01-07T00:00:00</td><td>4, Rue Milton</td><td>Paris</td><td>NULL</td><td>France</td><td>75009</td><td>13.86</td></tr>",
                            "<tr><td>339</td><td>3</td><td>2013-01-30T00:00:00</td><td>1498 rue Bélanger</td><td>Montréal</td><td>QC</td><td>Canada</td><td>H2G 1A7</td><td>5.94</td></tr>",
                            "<tr><td>340</td><td>9</td><td>2013-02-02T00:00:00</td><td>Sønder Boulevard 51</td><td>Copenhagen</td><td>NULL</td><td>Denmark</td><td>1720</td><td>8.91</td></tr>",
                            "<tr><td>341</td><td>18</td><td>2013-02-07T00:00:00</td><td>627 Broadway</td><td>New York</td><td>NY</td><td>USA</td><td>10012-2612</td><td>13.86</td></tr>",
                            "<tr><td>346</td><td>41</td><td>2013-03-02T00:00:00</td><td>11, Place Bellecour</td><td>Lyon</td><td>NULL</td><td>France</td><td>69002</td><td>5.94</td></tr>",
                            "<tr><td>347</td><td>47</td><td>2013-03-05T00:00:00</td><td>Via Degli Scipioni, 43</td><td>Rome</td><td>RM</td><td>Italy</td><td>00192</td><td>8.91</td></tr>",
                            "<tr><td>348</td><td>56</td><td>2013-03-10T00:00:00</td><td>307 Macacha Güemes</td><td>Buenos Aires</td><td>NULL</td><td>Argentina</td><td>1106</td><td>13.86</td></tr>",
                            "<tr><td>353</td><td>20</td><td>2013-04-02T00:00:00</td><td>541 Del Medio Avenue</td><td>Mountain View</td><td>CA</td><td>USA</td><td>94040-111</td><td>5.94</td></tr>",
                            "<tr><td>354</td><td>26</td><td>2013-04-05T00:00:00</td><td>2211 W Berry Street</td><td>Fort Worth</td><td>TX</td><td>USA</td><td>76110</td><td>8.91</td></tr>",
                            "<tr><td>355</td><td>35</td><td>2013-04-10T00:00:00</td><td>Rua dos Campeões Europeus de Viena, 4350</td><td>Porto</td><td>NULL</td><td>Portugal</td><td>NULL</td><td>13.86</td></tr>",
                            "<tr><td>360</td><td>58</td><td>2013-05-03T00:00:00</td><td>12,Community Centre</td><td>Delhi</td><td>NULL</td><td>India</td><td>110017</td><td>5.94</td></tr>",
                            "<tr><td>361</td><td>5</td><td>2013-05-06T00:00:00</td><td>Klanova 9/506</td><td>Prague</td><td>NULL</td><td>Czech Republic</td><td>14700</td><td>8.91</td></tr>",
                            "<tr><td>362</td><td>14</td><td>2013-05-11T00:00:00</td><td>8210 111 ST NW</td><td>Edmonton</td><td>AB</td><td>Canada</td><td>T6G 2C7</td><td>13.86</td></tr>",
                            "<tr><td>367</td><td>37</td><td>2013-06-03T00:00:00</td><td>Berger Straße 10</td><td>Frankfurt</td><td>NULL</td><td>Germany</td><td>60316</td><td>5.94</td></tr>",
                            "<tr><td>368</td><td>43</td><td>2013-06-06T00:00:00</td><td>68, Rue Jouvence</td><td>Dijon</td><td>NULL</td><td>France</td><td>21000</td><td>8.91</td></tr>",
                            "<tr><td>369</td><td>52</td><td>2013-06-11T00:00:00</td><td>202 Hoxton Street</td><td>London</td><td>NULL</td><td>United Kingdom</td><td>N1 5LH</td><td>13.86</td></tr>",
                            "<tr><td>374</td><td>16</td><td>2013-07-04T00:00:00</td><td>1600 Amphitheatre Parkway</td><td>Mountain View</td><td>CA</td><td>USA</td><td>94043-1351</td><td>5.94</td></tr>",
                            "<tr><td>375</td><td>22</td><td>2013-07-07T00:00:00</td><td>120 S Orange Ave</td><td>Orlando</td><td>FL</td><td>USA</td><td>32801</td><td>8.91</td></tr>",
                            "<tr><td>376</td><td>31</td><td>2013-07-12T00:00:00</td><td>194A Chain Lake Drive</td><td>Halifax</td><td>NS</td><td>Canada</td><td>B3S 1C5</td><td>13.86</td></tr>",
                            "<tr><td>381</td><td>54</td><td>2013-08-04T00:00:00</td><td>110 Raeburn Pl</td><td>Edinburgh</td><td>NULL</td><td>United Kingdom</td><td>EH4 1HH</td><td>5.94</td></tr>",
                            "<tr><td>382</td><td>1</td><td>2013-08-07T00:00:00</td><td>Av. Brigadeiro Faria Lima, 2170</td><td>São José dos Campos</td><td>SP</td><td>Brazil</td><td>12227-000</td><td>8.91</td></tr>",
                            "<tr><td>383</td><td>10</td><td>2013-08-12T00:00:00</td><td>Rua Dr. Falcão Filho, 155</td><td>São Paulo</td><td>SP</td><td>Brazil</td><td>01007-010</td><td>13.86</td></tr>",
                            "<tr><td>388</td><td>33</td><td>2013-09-04T00:00:00</td><td>5112 48 Street</td><td>Yellowknife</td><td>NT</td><td>Canada</td><td>X1A 1N6</td><td>5.94</td></tr>",
                            "<tr><td>389</td><td>39</td><td>2013-09-07T00:00:00</td><td>4, Rue Milton</td><td>Paris</td><td>NULL</td><td>France</td><td>75009</td><td>8.91</td></tr>",
                            "<tr><td>390</td><td>48</td><td>2013-09-12T00:00:00</td><td>Lijnbaansgracht 120bg</td><td>Amsterdam</td><td>VV</td><td>Netherlands</td><td>1016</td><td>13.86</td></tr>",
                            "<tr><td>395</td><td>12</td><td>2013-10-05T00:00:00</td><td>Praça Pio X, 119</td><td>Rio de Janeiro</td><td>RJ</td><td>Brazil</td><td>20040-020</td><td>5.94</td></tr>",
                            "<tr><td>396</td><td>18</td><td>2013-10-08T00:00:00</td><td>627 Broadway</td><td>New York</td><td>NY</td><td>USA</td><td>10012-2612</td><td>8.91</td></tr>",
                            "<tr><td>397</td><td>27</td><td>2013-10-13T00:00:00</td><td>1033 N Park Ave</td><td>Tucson</td><td>AZ</td><td>USA</td><td>85719</td><td>13.86</td></tr>",
                            "<tr><td>402</td><td>50</td><td>2013-11-05T00:00:00</td><td>C/ San Bernardo 85</td><td>Madrid</td><td>NULL</td><td>Spain</td><td>28015</td><td>5.94</td></tr>",
                            "<tr><td>403</td><td>56</td><td>2013-11-08T00:00:00</td><td>307 Macacha Güemes</td><td>Buenos Aires</td><td>NULL</td><td>Argentina</td><td>1106</td><td>8.91</td></tr>",
                            "<tr><td>404</td><td>6</td><td>2013-11-13T00:00:00</td><td>Rilská 3174/6</td><td>Prague</td><td>NULL</td><td>Czech Republic</td><td>14300</td><td>25.86</td></tr>",
                            "<tr><td>409</td><td>29</td><td>2013-12-06T00:00:00</td><td>796 Dundas Street West</td><td>Toronto</td><td>ON</td><td>Canada</td><td>M6J 1V1</td><td>5.94</td></tr>",
                            "<tr><td>410</td><td>35</td><td>2013-12-09T00:00:00</td><td>Rua dos Campeões Europeus de Viena, 4350</td><td>Porto</td><td>NULL</td><td>Portugal</td><td>NULL</td><td>8.91</td></tr>",
                            "<tr><td>411</td><td>44</td><td>2013-12-14T00:00:00</td><td>Porthaninkatu 9</td><td>Helsinki</td><td>NULL</td><td>Finland</td><td>00530</td><td>13.86</td></tr>",
                            "</table>"
                        ]
                    }
                }
            ],
            "execution_count": 2
        },
        {
            "cell_type": "code",
            "source": [
                "-- Ej 3\n",
                "WITH PL_COUNT AS (\n",
                "    SELECT t.track_id, t.name, t.genre_id, count(*) AS pl_count\n",
                "    FROM track t \n",
                "        JOIN playlist_track pt on t.track_id = pt.track_id \n",
                "        JOIN playlist pl ON pl.playlist_id = pt.playlist_id\n",
                "    GROUP BY t.track_id, t.name, t.genre_id)\n",
                "\n",
                "SELECT plc.track_id, plc.name AS track_name, g.name AS genre_name, plc.pl_count \n",
                "FROM PL_COUNT plc \n",
                "    JOIN genre g on g.genre_id = plc.genre_id \n",
                "WHERE plc.pl_count = (SELECT MAX(pl_count) FROM PL_COUNT);\n",
                "\n",
                "\n",
                "-- OK, pedía sólo los géneros igual"
            ],
            "metadata": {
                "azdata_cell_guid": "7e3e9db2-13a7-490e-b36b-55be5f4aa109"
            },
            "outputs": [
                {
                    "output_type": "display_data",
                    "data": {
                        "text/html": "(41 row(s) affected)"
                    },
                    "metadata": {}
                },
                {
                    "output_type": "display_data",
                    "data": {
                        "text/html": "Total execution time: 00:00:00.009"
                    },
                    "metadata": {}
                },
                {
                    "output_type": "execute_result",
                    "execution_count": 77,
                    "data": {
                        "application/vnd.dataresource+json": {
                            "schema": {
                                "fields": [
                                    {
                                        "name": "track_id"
                                    },
                                    {
                                        "name": "track_name"
                                    },
                                    {
                                        "name": "genre_name"
                                    },
                                    {
                                        "name": "pl_count"
                                    }
                                ]
                            },
                            "data": [
                                {
                                    "0": "3442",
                                    "1": "Wellington's Victory or the Battle Symphony, Op.91: 2. Symphony of Triumph",
                                    "2": "Classical",
                                    "3": "5"
                                },
                                {
                                    "0": "3499",
                                    "1": "Pini Di Roma (Pinien Von Rom) \\ I Pini Della Via Appia",
                                    "2": "Classical",
                                    "3": "5"
                                },
                                {
                                    "0": "3409",
                                    "1": "Suite for Solo Cello No. 1 in G Major, BWV 1007: I. Prélude",
                                    "2": "Classical",
                                    "3": "5"
                                },
                                {
                                    "0": "3426",
                                    "1": "Carmina Burana: O Fortuna",
                                    "2": "Classical",
                                    "3": "5"
                                },
                                {
                                    "0": "3490",
                                    "1": "Partita in E Major, BWV 1006A: I. Prelude",
                                    "2": "Classical",
                                    "3": "5"
                                },
                                {
                                    "0": "3481",
                                    "1": "A Midsummer Night's Dream, Op.61 Incidental Music: No.7 Notturno",
                                    "2": "Classical",
                                    "3": "5"
                                },
                                {
                                    "0": "3444",
                                    "1": "Romeo et Juliette: No. 11 - Danse des Chevaliers",
                                    "2": "Classical",
                                    "3": "5"
                                },
                                {
                                    "0": "3411",
                                    "1": "Solomon HWV 67: The Arrival of the Queen of Sheba",
                                    "2": "Classical",
                                    "3": "5"
                                },
                                {
                                    "0": "3454",
                                    "1": "Symphony No. 41 in C Major, K. 551, \"Jupiter\": IV. Molto allegro",
                                    "2": "Classical",
                                    "3": "5"
                                },
                                {
                                    "0": "3451",
                                    "1": "Die Zauberflöte, K.620: \"Der Hölle Rache Kocht in Meinem Herze\"",
                                    "2": "Opera",
                                    "3": "5"
                                },
                                {
                                    "0": "3430",
                                    "1": "Toccata and Fugue in D Minor, BWV 565: I. Toccata",
                                    "2": "Classical",
                                    "3": "5"
                                },
                                {
                                    "0": "3404",
                                    "1": "Miserere mei, Deus",
                                    "2": "Classical",
                                    "3": "5"
                                },
                                {
                                    "0": "3434",
                                    "1": "Concerto for Piano No. 2 in F Minor, Op. 21: II. Larghetto",
                                    "2": "Classical",
                                    "3": "5"
                                },
                                {
                                    "0": "3445",
                                    "1": "On the Beautiful Blue Danube",
                                    "2": "Classical",
                                    "3": "5"
                                },
                                {
                                    "0": "3435",
                                    "1": "Cavalleria Rusticana \\ Act \\ Intermezzo Sinfonico",
                                    "2": "Classical",
                                    "3": "5"
                                },
                                {
                                    "0": "3498",
                                    "1": "Concerto for Violin, Strings and Continuo in G Major, Op. 3, No. 9: I. Allegro",
                                    "2": "Classical",
                                    "3": "5"
                                },
                                {
                                    "0": "3421",
                                    "1": "Nimrod (Adagio) from Variations On an Original Theme, Op. 36 \"Enigma\"",
                                    "2": "Classical",
                                    "3": "5"
                                },
                                {
                                    "0": "3448",
                                    "1": "Lamentations of Jeremiah, First Set \\ Incipit Lamentatio",
                                    "2": "Classical",
                                    "3": "5"
                                },
                                {
                                    "0": "3439",
                                    "1": "Das Lied Von Der Erde, Von Der Jugend",
                                    "2": "Classical",
                                    "3": "5"
                                },
                                {
                                    "0": "3423",
                                    "1": "Jupiter, the Bringer of Jollity",
                                    "2": "Classical",
                                    "3": "5"
                                },
                                {
                                    "0": "3408",
                                    "1": "Aria Mit 30 Veränderungen, BWV 988 \"Goldberg Variations\": Aria",
                                    "2": "Classical",
                                    "3": "5"
                                },
                                {
                                    "0": "3432",
                                    "1": "Scheherazade, Op. 35: I. The Sea and Sindbad's Ship",
                                    "2": "Classical",
                                    "3": "5"
                                },
                                {
                                    "0": "3417",
                                    "1": "Nabucco: Chorus, \"Va, Pensiero, Sull'ali Dorate\"",
                                    "2": "Classical",
                                    "3": "5"
                                },
                                {
                                    "0": "3403",
                                    "1": "Intoitus: Adorate Deum",
                                    "2": "Classical",
                                    "3": "5"
                                },
                                {
                                    "0": "3449",
                                    "1": "Music for the Royal Fireworks, HWV351 (1749): La Réjouissance",
                                    "2": "Classical",
                                    "3": "5"
                                },
                                {
                                    "0": "3437",
                                    "1": "Piano Sonata No. 14 in C Sharp Minor, Op. 27, No. 2, \"Moonlight\": I. Adagio sostenuto",
                                    "2": "Classical",
                                    "3": "5"
                                },
                                {
                                    "0": "3446",
                                    "1": "Symphonie Fantastique, Op. 14: V. Songe d'une nuit du sabbat",
                                    "2": "Classical",
                                    "3": "5"
                                },
                                {
                                    "0": "3424",
                                    "1": "Turandot, Act III, Nessun dorma!",
                                    "2": "Classical",
                                    "3": "5"
                                },
                                {
                                    "0": "3416",
                                    "1": "Ave Maria",
                                    "2": "Classical",
                                    "3": "5"
                                },
                                {
                                    "0": "3436",
                                    "1": "Karelia Suite, Op.11: 2. Ballade (Tempo Di Menuetto)",
                                    "2": "Classical",
                                    "3": "5"
                                },
                                {
                                    "0": "3410",
                                    "1": "The Messiah: Behold, I Tell You a Mystery... The Trumpet Shall Sound",
                                    "2": "Classical",
                                    "3": "5"
                                },
                                {
                                    "0": "3482",
                                    "1": "Suite No. 3 in D, BWV 1068: III. Gavotte I & II",
                                    "2": "Classical",
                                    "3": "5"
                                },
                                {
                                    "0": "3493",
                                    "1": "Metopes, Op. 29: Calypso",
                                    "2": "Classical",
                                    "3": "5"
                                },
                                {
                                    "0": "3438",
                                    "1": "Fantasia On Greensleeves",
                                    "2": "Classical",
                                    "3": "5"
                                },
                                {
                                    "0": "3503",
                                    "1": "Koyaanisqatsi",
                                    "2": "Soundtrack",
                                    "3": "5"
                                },
                                {
                                    "0": "3415",
                                    "1": "Symphony No.5 in C Minor: I. Allegro con brio",
                                    "2": "Classical",
                                    "3": "5"
                                },
                                {
                                    "0": "3492",
                                    "1": "Sing Joyfully",
                                    "2": "Classical",
                                    "3": "5"
                                },
                                {
                                    "0": "3447",
                                    "1": "Carmen: Overture",
                                    "2": "Classical",
                                    "3": "5"
                                },
                                {
                                    "0": "3418",
                                    "1": "Die Walküre: The Ride of the Valkyries",
                                    "2": "Classical",
                                    "3": "5"
                                },
                                {
                                    "0": "3485",
                                    "1": "Symphony No. 3 Op. 36 for Orchestra and Soprano \"Symfonia Piesni Zalosnych\" \\ Lento E Largo - Tranquillissimo",
                                    "2": "Classical",
                                    "3": "5"
                                },
                                {
                                    "0": "3489",
                                    "1": "Symphony No. 2: III. Allegro vivace",
                                    "2": "Classical",
                                    "3": "5"
                                }
                            ]
                        },
                        "text/html": "<table><tr><th>track_id</th><th>track_name</th><th>genre_name</th><th>pl_count</th></tr><tr><td>3442</td><td>Wellington's Victory or the Battle Symphony, Op.91: 2. Symphony of Triumph</td><td>Classical</td><td>5</td></tr><tr><td>3499</td><td>Pini Di Roma (Pinien Von Rom) \\ I Pini Della Via Appia</td><td>Classical</td><td>5</td></tr><tr><td>3409</td><td>Suite for Solo Cello No. 1 in G Major, BWV 1007: I. Prélude</td><td>Classical</td><td>5</td></tr><tr><td>3426</td><td>Carmina Burana: O Fortuna</td><td>Classical</td><td>5</td></tr><tr><td>3490</td><td>Partita in E Major, BWV 1006A: I. Prelude</td><td>Classical</td><td>5</td></tr><tr><td>3481</td><td>A Midsummer Night's Dream, Op.61 Incidental Music: No.7 Notturno</td><td>Classical</td><td>5</td></tr><tr><td>3444</td><td>Romeo et Juliette: No. 11 - Danse des Chevaliers</td><td>Classical</td><td>5</td></tr><tr><td>3411</td><td>Solomon HWV 67: The Arrival of the Queen of Sheba</td><td>Classical</td><td>5</td></tr><tr><td>3454</td><td>Symphony No. 41 in C Major, K. 551, &quot;Jupiter&quot;: IV. Molto allegro</td><td>Classical</td><td>5</td></tr><tr><td>3451</td><td>Die Zauberflöte, K.620: &quot;Der Hölle Rache Kocht in Meinem Herze&quot;</td><td>Opera</td><td>5</td></tr><tr><td>3430</td><td>Toccata and Fugue in D Minor, BWV 565: I. Toccata</td><td>Classical</td><td>5</td></tr><tr><td>3404</td><td>Miserere mei, Deus</td><td>Classical</td><td>5</td></tr><tr><td>3434</td><td>Concerto for Piano No. 2 in F Minor, Op. 21: II. Larghetto</td><td>Classical</td><td>5</td></tr><tr><td>3445</td><td>On the Beautiful Blue Danube</td><td>Classical</td><td>5</td></tr><tr><td>3435</td><td>Cavalleria Rusticana \\ Act \\ Intermezzo Sinfonico</td><td>Classical</td><td>5</td></tr><tr><td>3498</td><td>Concerto for Violin, Strings and Continuo in G Major, Op. 3, No. 9: I. Allegro</td><td>Classical</td><td>5</td></tr><tr><td>3421</td><td>Nimrod (Adagio) from Variations On an Original Theme, Op. 36 &quot;Enigma&quot;</td><td>Classical</td><td>5</td></tr><tr><td>3448</td><td>Lamentations of Jeremiah, First Set \\ Incipit Lamentatio</td><td>Classical</td><td>5</td></tr><tr><td>3439</td><td>Das Lied Von Der Erde, Von Der Jugend</td><td>Classical</td><td>5</td></tr><tr><td>3423</td><td>Jupiter, the Bringer of Jollity</td><td>Classical</td><td>5</td></tr><tr><td>3408</td><td>Aria Mit 30 Veränderungen, BWV 988 &quot;Goldberg Variations&quot;: Aria</td><td>Classical</td><td>5</td></tr><tr><td>3432</td><td>Scheherazade, Op. 35: I. The Sea and Sindbad's Ship</td><td>Classical</td><td>5</td></tr><tr><td>3417</td><td>Nabucco: Chorus, &quot;Va, Pensiero, Sull'ali Dorate&quot;</td><td>Classical</td><td>5</td></tr><tr><td>3403</td><td>Intoitus: Adorate Deum</td><td>Classical</td><td>5</td></tr><tr><td>3449</td><td>Music for the Royal Fireworks, HWV351 (1749): La Réjouissance</td><td>Classical</td><td>5</td></tr><tr><td>3437</td><td>Piano Sonata No. 14 in C Sharp Minor, Op. 27, No. 2, &quot;Moonlight&quot;: I. Adagio sostenuto</td><td>Classical</td><td>5</td></tr><tr><td>3446</td><td>Symphonie Fantastique, Op. 14: V. Songe d'une nuit du sabbat</td><td>Classical</td><td>5</td></tr><tr><td>3424</td><td>Turandot, Act III, Nessun dorma!</td><td>Classical</td><td>5</td></tr><tr><td>3416</td><td>Ave Maria</td><td>Classical</td><td>5</td></tr><tr><td>3436</td><td>Karelia Suite, Op.11: 2. Ballade (Tempo Di Menuetto)</td><td>Classical</td><td>5</td></tr><tr><td>3410</td><td>The Messiah: Behold, I Tell You a Mystery... The Trumpet Shall Sound</td><td>Classical</td><td>5</td></tr><tr><td>3482</td><td>Suite No. 3 in D, BWV 1068: III. Gavotte I &amp; II</td><td>Classical</td><td>5</td></tr><tr><td>3493</td><td>Metopes, Op. 29: Calypso</td><td>Classical</td><td>5</td></tr><tr><td>3438</td><td>Fantasia On Greensleeves</td><td>Classical</td><td>5</td></tr><tr><td>3503</td><td>Koyaanisqatsi</td><td>Soundtrack</td><td>5</td></tr><tr><td>3415</td><td>Symphony No.5 in C Minor: I. Allegro con brio</td><td>Classical</td><td>5</td></tr><tr><td>3492</td><td>Sing Joyfully</td><td>Classical</td><td>5</td></tr><tr><td>3447</td><td>Carmen: Overture</td><td>Classical</td><td>5</td></tr><tr><td>3418</td><td>Die Walküre: The Ride of the Valkyries</td><td>Classical</td><td>5</td></tr><tr><td>3485</td><td>Symphony No. 3 Op. 36 for Orchestra and Soprano &quot;Symfonia Piesni Zalosnych&quot; \\ Lento E Largo - Tranquillissimo</td><td>Classical</td><td>5</td></tr><tr><td>3489</td><td>Symphony No. 2: III. Allegro vivace</td><td>Classical</td><td>5</td></tr></table>"
                    },
                    "metadata": {}
                }
            ],
            "execution_count": 77
        },
        {
            "cell_type": "code",
            "source": [
                "-- Ej 4\n",
                "with SALES AS (\n",
                "    SELECT g.genre_id, count(*) \n",
                "    FROM track t \n",
                "        JOIN invoice_line il ON il.track_id = t.track_id \n",
                "        join genre g on t.genre_id = g.genre_id \n",
                "    GROUP BY g.genre_id)\n",
                "select g.name from sales s join genre g on s.genre_id = g.genre_id where s.count > 2;\n",
                "\n",
                "-- ok"
            ],
            "metadata": {
                "azdata_cell_guid": "d244f5f1-86ca-4a39-9c5b-dbd51b6271dd"
            },
            "outputs": [
                {
                    "output_type": "display_data",
                    "data": {
                        "text/html": "(24 row(s) affected)"
                    },
                    "metadata": {}
                },
                {
                    "output_type": "display_data",
                    "data": {
                        "text/html": "Total execution time: 00:00:00.007"
                    },
                    "metadata": {}
                },
                {
                    "output_type": "execute_result",
                    "metadata": {},
                    "execution_count": 6,
                    "data": {
                        "application/vnd.dataresource+json": {
                            "schema": {
                                "fields": [
                                    {
                                        "name": "name"
                                    }
                                ]
                            },
                            "data": [
                                {
                                    "0": "Comedy"
                                },
                                {
                                    "0": "Electronica/Dance"
                                },
                                {
                                    "0": "TV Shows"
                                },
                                {
                                    "0": "Rock And Roll"
                                },
                                {
                                    "0": "Alternative & Punk"
                                },
                                {
                                    "0": "Soundtrack"
                                },
                                {
                                    "0": "Blues"
                                },
                                {
                                    "0": "R&B/Soul"
                                },
                                {
                                    "0": "Heavy Metal"
                                },
                                {
                                    "0": "Jazz"
                                },
                                {
                                    "0": "Latin"
                                },
                                {
                                    "0": "Sci Fi & Fantasy"
                                },
                                {
                                    "0": "Rock"
                                },
                                {
                                    "0": "Science Fiction"
                                },
                                {
                                    "0": "Reggae"
                                },
                                {
                                    "0": "Bossa Nova"
                                },
                                {
                                    "0": "Pop"
                                },
                                {
                                    "0": "Drama"
                                },
                                {
                                    "0": "Metal"
                                },
                                {
                                    "0": "Hip Hop/Rap"
                                },
                                {
                                    "0": "World"
                                },
                                {
                                    "0": "Easy Listening"
                                },
                                {
                                    "0": "Classical"
                                },
                                {
                                    "0": "Alternative"
                                }
                            ]
                        },
                        "text/html": [
                            "<table>",
                            "<tr><th>name</th></tr>",
                            "<tr><td>Comedy</td></tr>",
                            "<tr><td>Electronica/Dance</td></tr>",
                            "<tr><td>TV Shows</td></tr>",
                            "<tr><td>Rock And Roll</td></tr>",
                            "<tr><td>Alternative &amp; Punk</td></tr>",
                            "<tr><td>Soundtrack</td></tr>",
                            "<tr><td>Blues</td></tr>",
                            "<tr><td>R&amp;B/Soul</td></tr>",
                            "<tr><td>Heavy Metal</td></tr>",
                            "<tr><td>Jazz</td></tr>",
                            "<tr><td>Latin</td></tr>",
                            "<tr><td>Sci Fi &amp; Fantasy</td></tr>",
                            "<tr><td>Rock</td></tr>",
                            "<tr><td>Science Fiction</td></tr>",
                            "<tr><td>Reggae</td></tr>",
                            "<tr><td>Bossa Nova</td></tr>",
                            "<tr><td>Pop</td></tr>",
                            "<tr><td>Drama</td></tr>",
                            "<tr><td>Metal</td></tr>",
                            "<tr><td>Hip Hop/Rap</td></tr>",
                            "<tr><td>World</td></tr>",
                            "<tr><td>Easy Listening</td></tr>",
                            "<tr><td>Classical</td></tr>",
                            "<tr><td>Alternative</td></tr>",
                            "</table>"
                        ]
                    }
                }
            ],
            "execution_count": 6
        },
        {
            "cell_type": "code",
            "source": [
                "-- Ej 5\n",
                "select t.track_id, t.name from track t join  (select a.album_id, a.title from album a where a.title like 'afrociberdelia') afro on t.album_id = afro.album_id;\n",
                "\n",
                "-- Mal, el enunciado pide playlists"
            ],
            "metadata": {
                "azdata_cell_guid": "3187b455-fa71-4e17-8f10-ed057498f8e3",
                "tags": []
            },
            "outputs": [
                {
                    "output_type": "display_data",
                    "data": {
                        "text/html": "(0 row(s) affected)"
                    },
                    "metadata": {}
                },
                {
                    "output_type": "display_data",
                    "data": {
                        "text/html": "Total execution time: 00:00:00.001"
                    },
                    "metadata": {}
                },
                {
                    "output_type": "execute_result",
                    "execution_count": 79,
                    "data": {
                        "application/vnd.dataresource+json": {
                            "schema": {
                                "fields": [
                                    {
                                        "name": "track_id"
                                    },
                                    {
                                        "name": "name"
                                    }
                                ]
                            },
                            "data": []
                        },
                        "text/html": "<table><tr><th>track_id</th><th>name</th></tr></table>"
                    },
                    "metadata": {}
                }
            ],
            "execution_count": 79
        },
        {
            "cell_type": "code",
            "source": [
                "-- Ej 6\n",
                "\n",
                "select p.playlist_id, p.name from playlist p\n",
                "    join playlist_track pt on p.playlist_id = pt.playlist_id \n",
                "    join track t on t.track_id = pt.track_id \n",
                "    join album a on a.album_id = t.album_id \n",
                "GROUP BY p.playlist_id, p.name, a.album_id\n",
                "having count(a.album_id) <= 2;\n",
                "\n",
                "-- Mal. al agrupar por a.album_id estás alterando el resultado del Count, se tiene que agrupar sólo por playlist id, y quizás name"
            ],
            "metadata": {
                "azdata_cell_guid": "205dc10b-7d99-42f0-98ce-6ced10dece7e",
                "tags": []
            },
            "outputs": [
                {
                    "output_type": "display_data",
                    "data": {
                        "text/html": "(401 row(s) affected)"
                    },
                    "metadata": {}
                },
                {
                    "output_type": "display_data",
                    "data": {
                        "text/html": "Total execution time: 00:00:00.024"
                    },
                    "metadata": {}
                },
                {
                    "output_type": "execute_result",
                    "metadata": {},
                    "execution_count": 14,
                    "data": {
                        "application/vnd.dataresource+json": {
                            "schema": {
                                "fields": [
                                    {
                                        "name": "playlist_id"
                                    },
                                    {
                                        "name": "name"
                                    }
                                ]
                            },
                            "data": [
                                {
                                    "0": "15",
                                    "1": "Classical 101 - The Basics"
                                },
                                {
                                    "0": "13",
                                    "1": "Classical 101 - Deep Cuts"
                                },
                                {
                                    "0": "1",
                                    "1": "Music"
                                },
                                {
                                    "0": "12",
                                    "1": "Classical"
                                },
                                {
                                    "0": "8",
                                    "1": "Music"
                                },
                                {
                                    "0": "14",
                                    "1": "Classical 101 - Next Steps"
                                },
                                {
                                    "0": "1",
                                    "1": "Music"
                                },
                                {
                                    "0": "14",
                                    "1": "Classical 101 - Next Steps"
                                },
                                {
                                    "0": "1",
                                    "1": "Music"
                                },
                                {
                                    "0": "1",
                                    "1": "Music"
                                },
                                {
                                    "0": "17",
                                    "1": "Heavy Metal Classic"
                                },
                                {
                                    "0": "12",
                                    "1": "Classical"
                                },
                                {
                                    "0": "12",
                                    "1": "Classical"
                                },
                                {
                                    "0": "1",
                                    "1": "Music"
                                },
                                {
                                    "0": "5",
                                    "1": "90’s Music"
                                },
                                {
                                    "0": "13",
                                    "1": "Classical 101 - Deep Cuts"
                                },
                                {
                                    "0": "12",
                                    "1": "Classical"
                                },
                                {
                                    "0": "12",
                                    "1": "Classical"
                                },
                                {
                                    "0": "5",
                                    "1": "90’s Music"
                                },
                                {
                                    "0": "1",
                                    "1": "Music"
                                },
                                {
                                    "0": "8",
                                    "1": "Music"
                                },
                                {
                                    "0": "13",
                                    "1": "Classical 101 - Deep Cuts"
                                },
                                {
                                    "0": "8",
                                    "1": "Music"
                                },
                                {
                                    "0": "5",
                                    "1": "90’s Music"
                                },
                                {
                                    "0": "13",
                                    "1": "Classical 101 - Deep Cuts"
                                },
                                {
                                    "0": "1",
                                    "1": "Music"
                                },
                                {
                                    "0": "5",
                                    "1": "90’s Music"
                                },
                                {
                                    "0": "12",
                                    "1": "Classical"
                                },
                                {
                                    "0": "14",
                                    "1": "Classical 101 - Next Steps"
                                },
                                {
                                    "0": "12",
                                    "1": "Classical"
                                },
                                {
                                    "0": "14",
                                    "1": "Classical 101 - Next Steps"
                                },
                                {
                                    "0": "16",
                                    "1": "Grunge"
                                },
                                {
                                    "0": "14",
                                    "1": "Classical 101 - Next Steps"
                                },
                                {
                                    "0": "13",
                                    "1": "Classical 101 - Deep Cuts"
                                },
                                {
                                    "0": "5",
                                    "1": "90’s Music"
                                },
                                {
                                    "0": "8",
                                    "1": "Music"
                                },
                                {
                                    "0": "3",
                                    "1": "TV Shows"
                                },
                                {
                                    "0": "12",
                                    "1": "Classical"
                                },
                                {
                                    "0": "8",
                                    "1": "Music"
                                },
                                {
                                    "0": "16",
                                    "1": "Grunge"
                                },
                                {
                                    "0": "12",
                                    "1": "Classical"
                                },
                                {
                                    "0": "12",
                                    "1": "Classical"
                                },
                                {
                                    "0": "15",
                                    "1": "Classical 101 - The Basics"
                                },
                                {
                                    "0": "15",
                                    "1": "Classical 101 - The Basics"
                                },
                                {
                                    "0": "8",
                                    "1": "Music"
                                },
                                {
                                    "0": "13",
                                    "1": "Classical 101 - Deep Cuts"
                                },
                                {
                                    "0": "14",
                                    "1": "Classical 101 - Next Steps"
                                },
                                {
                                    "0": "8",
                                    "1": "Music"
                                },
                                {
                                    "0": "8",
                                    "1": "Music"
                                },
                                {
                                    "0": "8",
                                    "1": "Music"
                                },
                                {
                                    "0": "5",
                                    "1": "90’s Music"
                                },
                                {
                                    "0": "1",
                                    "1": "Music"
                                },
                                {
                                    "0": "8",
                                    "1": "Music"
                                },
                                {
                                    "0": "15",
                                    "1": "Classical 101 - The Basics"
                                },
                                {
                                    "0": "1",
                                    "1": "Music"
                                },
                                {
                                    "0": "1",
                                    "1": "Music"
                                },
                                {
                                    "0": "17",
                                    "1": "Heavy Metal Classic"
                                },
                                {
                                    "0": "8",
                                    "1": "Music"
                                },
                                {
                                    "0": "1",
                                    "1": "Music"
                                },
                                {
                                    "0": "8",
                                    "1": "Music"
                                },
                                {
                                    "0": "8",
                                    "1": "Music"
                                },
                                {
                                    "0": "5",
                                    "1": "90’s Music"
                                },
                                {
                                    "0": "1",
                                    "1": "Music"
                                },
                                {
                                    "0": "1",
                                    "1": "Music"
                                },
                                {
                                    "0": "5",
                                    "1": "90’s Music"
                                },
                                {
                                    "0": "1",
                                    "1": "Music"
                                },
                                {
                                    "0": "1",
                                    "1": "Music"
                                },
                                {
                                    "0": "5",
                                    "1": "90’s Music"
                                },
                                {
                                    "0": "1",
                                    "1": "Music"
                                },
                                {
                                    "0": "15",
                                    "1": "Classical 101 - The Basics"
                                },
                                {
                                    "0": "17",
                                    "1": "Heavy Metal Classic"
                                },
                                {
                                    "0": "12",
                                    "1": "Classical"
                                },
                                {
                                    "0": "5",
                                    "1": "90’s Music"
                                },
                                {
                                    "0": "5",
                                    "1": "90’s Music"
                                },
                                {
                                    "0": "1",
                                    "1": "Music"
                                },
                                {
                                    "0": "8",
                                    "1": "Music"
                                },
                                {
                                    "0": "12",
                                    "1": "Classical"
                                },
                                {
                                    "0": "8",
                                    "1": "Music"
                                },
                                {
                                    "0": "15",
                                    "1": "Classical 101 - The Basics"
                                },
                                {
                                    "0": "5",
                                    "1": "90’s Music"
                                },
                                {
                                    "0": "12",
                                    "1": "Classical"
                                },
                                {
                                    "0": "5",
                                    "1": "90’s Music"
                                },
                                {
                                    "0": "1",
                                    "1": "Music"
                                },
                                {
                                    "0": "1",
                                    "1": "Music"
                                },
                                {
                                    "0": "12",
                                    "1": "Classical"
                                },
                                {
                                    "0": "8",
                                    "1": "Music"
                                },
                                {
                                    "0": "1",
                                    "1": "Music"
                                },
                                {
                                    "0": "12",
                                    "1": "Classical"
                                },
                                {
                                    "0": "8",
                                    "1": "Music"
                                },
                                {
                                    "0": "1",
                                    "1": "Music"
                                },
                                {
                                    "0": "1",
                                    "1": "Music"
                                },
                                {
                                    "0": "14",
                                    "1": "Classical 101 - Next Steps"
                                },
                                {
                                    "0": "8",
                                    "1": "Music"
                                },
                                {
                                    "0": "12",
                                    "1": "Classical"
                                },
                                {
                                    "0": "8",
                                    "1": "Music"
                                },
                                {
                                    "0": "8",
                                    "1": "Music"
                                },
                                {
                                    "0": "12",
                                    "1": "Classical"
                                },
                                {
                                    "0": "8",
                                    "1": "Music"
                                },
                                {
                                    "0": "5",
                                    "1": "90’s Music"
                                },
                                {
                                    "0": "13",
                                    "1": "Classical 101 - Deep Cuts"
                                },
                                {
                                    "0": "14",
                                    "1": "Classical 101 - Next Steps"
                                },
                                {
                                    "0": "8",
                                    "1": "Music"
                                },
                                {
                                    "0": "14",
                                    "1": "Classical 101 - Next Steps"
                                },
                                {
                                    "0": "1",
                                    "1": "Music"
                                },
                                {
                                    "0": "1",
                                    "1": "Music"
                                },
                                {
                                    "0": "8",
                                    "1": "Music"
                                },
                                {
                                    "0": "13",
                                    "1": "Classical 101 - Deep Cuts"
                                },
                                {
                                    "0": "17",
                                    "1": "Heavy Metal Classic"
                                },
                                {
                                    "0": "12",
                                    "1": "Classical"
                                },
                                {
                                    "0": "14",
                                    "1": "Classical 101 - Next Steps"
                                },
                                {
                                    "0": "13",
                                    "1": "Classical 101 - Deep Cuts"
                                },
                                {
                                    "0": "1",
                                    "1": "Music"
                                },
                                {
                                    "0": "5",
                                    "1": "90’s Music"
                                },
                                {
                                    "0": "12",
                                    "1": "Classical"
                                },
                                {
                                    "0": "15",
                                    "1": "Classical 101 - The Basics"
                                },
                                {
                                    "0": "5",
                                    "1": "90’s Music"
                                },
                                {
                                    "0": "12",
                                    "1": "Classical"
                                },
                                {
                                    "0": "5",
                                    "1": "90’s Music"
                                },
                                {
                                    "0": "1",
                                    "1": "Music"
                                },
                                {
                                    "0": "13",
                                    "1": "Classical 101 - Deep Cuts"
                                },
                                {
                                    "0": "8",
                                    "1": "Music"
                                },
                                {
                                    "0": "12",
                                    "1": "Classical"
                                },
                                {
                                    "0": "8",
                                    "1": "Music"
                                },
                                {
                                    "0": "8",
                                    "1": "Music"
                                },
                                {
                                    "0": "8",
                                    "1": "Music"
                                },
                                {
                                    "0": "12",
                                    "1": "Classical"
                                },
                                {
                                    "0": "12",
                                    "1": "Classical"
                                },
                                {
                                    "0": "8",
                                    "1": "Music"
                                },
                                {
                                    "0": "12",
                                    "1": "Classical"
                                },
                                {
                                    "0": "12",
                                    "1": "Classical"
                                },
                                {
                                    "0": "1",
                                    "1": "Music"
                                },
                                {
                                    "0": "1",
                                    "1": "Music"
                                },
                                {
                                    "0": "1",
                                    "1": "Music"
                                },
                                {
                                    "0": "12",
                                    "1": "Classical"
                                },
                                {
                                    "0": "1",
                                    "1": "Music"
                                },
                                {
                                    "0": "12",
                                    "1": "Classical"
                                },
                                {
                                    "0": "8",
                                    "1": "Music"
                                },
                                {
                                    "0": "1",
                                    "1": "Music"
                                },
                                {
                                    "0": "15",
                                    "1": "Classical 101 - The Basics"
                                },
                                {
                                    "0": "17",
                                    "1": "Heavy Metal Classic"
                                },
                                {
                                    "0": "17",
                                    "1": "Heavy Metal Classic"
                                },
                                {
                                    "0": "8",
                                    "1": "Music"
                                },
                                {
                                    "0": "12",
                                    "1": "Classical"
                                },
                                {
                                    "0": "8",
                                    "1": "Music"
                                },
                                {
                                    "0": "12",
                                    "1": "Classical"
                                },
                                {
                                    "0": "1",
                                    "1": "Music"
                                },
                                {
                                    "0": "12",
                                    "1": "Classical"
                                },
                                {
                                    "0": "1",
                                    "1": "Music"
                                },
                                {
                                    "0": "12",
                                    "1": "Classical"
                                },
                                {
                                    "0": "8",
                                    "1": "Music"
                                },
                                {
                                    "0": "5",
                                    "1": "90’s Music"
                                },
                                {
                                    "0": "1",
                                    "1": "Music"
                                },
                                {
                                    "0": "12",
                                    "1": "Classical"
                                },
                                {
                                    "0": "14",
                                    "1": "Classical 101 - Next Steps"
                                },
                                {
                                    "0": "12",
                                    "1": "Classical"
                                },
                                {
                                    "0": "17",
                                    "1": "Heavy Metal Classic"
                                },
                                {
                                    "0": "12",
                                    "1": "Classical"
                                },
                                {
                                    "0": "8",
                                    "1": "Music"
                                },
                                {
                                    "0": "13",
                                    "1": "Classical 101 - Deep Cuts"
                                },
                                {
                                    "0": "16",
                                    "1": "Grunge"
                                },
                                {
                                    "0": "8",
                                    "1": "Music"
                                },
                                {
                                    "0": "8",
                                    "1": "Music"
                                },
                                {
                                    "0": "8",
                                    "1": "Music"
                                },
                                {
                                    "0": "1",
                                    "1": "Music"
                                },
                                {
                                    "0": "15",
                                    "1": "Classical 101 - The Basics"
                                },
                                {
                                    "0": "18",
                                    "1": "On-The-Go 1"
                                },
                                {
                                    "0": "8",
                                    "1": "Music"
                                },
                                {
                                    "0": "1",
                                    "1": "Music"
                                },
                                {
                                    "0": "8",
                                    "1": "Music"
                                },
                                {
                                    "0": "8",
                                    "1": "Music"
                                },
                                {
                                    "0": "1",
                                    "1": "Music"
                                },
                                {
                                    "0": "8",
                                    "1": "Music"
                                },
                                {
                                    "0": "3",
                                    "1": "TV Shows"
                                },
                                {
                                    "0": "8",
                                    "1": "Music"
                                },
                                {
                                    "0": "12",
                                    "1": "Classical"
                                },
                                {
                                    "0": "12",
                                    "1": "Classical"
                                },
                                {
                                    "0": "5",
                                    "1": "90’s Music"
                                },
                                {
                                    "0": "1",
                                    "1": "Music"
                                },
                                {
                                    "0": "1",
                                    "1": "Music"
                                },
                                {
                                    "0": "16",
                                    "1": "Grunge"
                                },
                                {
                                    "0": "12",
                                    "1": "Classical"
                                },
                                {
                                    "0": "1",
                                    "1": "Music"
                                },
                                {
                                    "0": "15",
                                    "1": "Classical 101 - The Basics"
                                },
                                {
                                    "0": "5",
                                    "1": "90’s Music"
                                },
                                {
                                    "0": "12",
                                    "1": "Classical"
                                },
                                {
                                    "0": "8",
                                    "1": "Music"
                                },
                                {
                                    "0": "5",
                                    "1": "90’s Music"
                                },
                                {
                                    "0": "14",
                                    "1": "Classical 101 - Next Steps"
                                },
                                {
                                    "0": "12",
                                    "1": "Classical"
                                },
                                {
                                    "0": "1",
                                    "1": "Music"
                                },
                                {
                                    "0": "1",
                                    "1": "Music"
                                },
                                {
                                    "0": "1",
                                    "1": "Music"
                                },
                                {
                                    "0": "12",
                                    "1": "Classical"
                                },
                                {
                                    "0": "1",
                                    "1": "Music"
                                },
                                {
                                    "0": "13",
                                    "1": "Classical 101 - Deep Cuts"
                                },
                                {
                                    "0": "14",
                                    "1": "Classical 101 - Next Steps"
                                },
                                {
                                    "0": "1",
                                    "1": "Music"
                                },
                                {
                                    "0": "17",
                                    "1": "Heavy Metal Classic"
                                },
                                {
                                    "0": "8",
                                    "1": "Music"
                                },
                                {
                                    "0": "17",
                                    "1": "Heavy Metal Classic"
                                },
                                {
                                    "0": "12",
                                    "1": "Classical"
                                },
                                {
                                    "0": "5",
                                    "1": "90’s Music"
                                },
                                {
                                    "0": "5",
                                    "1": "90’s Music"
                                },
                                {
                                    "0": "13",
                                    "1": "Classical 101 - Deep Cuts"
                                },
                                {
                                    "0": "13",
                                    "1": "Classical 101 - Deep Cuts"
                                },
                                {
                                    "0": "12",
                                    "1": "Classical"
                                },
                                {
                                    "0": "8",
                                    "1": "Music"
                                },
                                {
                                    "0": "11",
                                    "1": "Brazilian Music"
                                },
                                {
                                    "0": "1",
                                    "1": "Music"
                                },
                                {
                                    "0": "5",
                                    "1": "90’s Music"
                                },
                                {
                                    "0": "8",
                                    "1": "Music"
                                },
                                {
                                    "0": "5",
                                    "1": "90’s Music"
                                },
                                {
                                    "0": "15",
                                    "1": "Classical 101 - The Basics"
                                },
                                {
                                    "0": "15",
                                    "1": "Classical 101 - The Basics"
                                },
                                {
                                    "0": "13",
                                    "1": "Classical 101 - Deep Cuts"
                                },
                                {
                                    "0": "12",
                                    "1": "Classical"
                                },
                                {
                                    "0": "1",
                                    "1": "Music"
                                },
                                {
                                    "0": "13",
                                    "1": "Classical 101 - Deep Cuts"
                                },
                                {
                                    "0": "8",
                                    "1": "Music"
                                },
                                {
                                    "0": "1",
                                    "1": "Music"
                                },
                                {
                                    "0": "1",
                                    "1": "Music"
                                },
                                {
                                    "0": "5",
                                    "1": "90’s Music"
                                },
                                {
                                    "0": "8",
                                    "1": "Music"
                                },
                                {
                                    "0": "12",
                                    "1": "Classical"
                                },
                                {
                                    "0": "12",
                                    "1": "Classical"
                                },
                                {
                                    "0": "1",
                                    "1": "Music"
                                },
                                {
                                    "0": "1",
                                    "1": "Music"
                                },
                                {
                                    "0": "8",
                                    "1": "Music"
                                },
                                {
                                    "0": "1",
                                    "1": "Music"
                                },
                                {
                                    "0": "1",
                                    "1": "Music"
                                },
                                {
                                    "0": "1",
                                    "1": "Music"
                                },
                                {
                                    "0": "14",
                                    "1": "Classical 101 - Next Steps"
                                },
                                {
                                    "0": "5",
                                    "1": "90’s Music"
                                },
                                {
                                    "0": "8",
                                    "1": "Music"
                                },
                                {
                                    "0": "5",
                                    "1": "90’s Music"
                                },
                                {
                                    "0": "14",
                                    "1": "Classical 101 - Next Steps"
                                },
                                {
                                    "0": "1",
                                    "1": "Music"
                                },
                                {
                                    "0": "1",
                                    "1": "Music"
                                },
                                {
                                    "0": "1",
                                    "1": "Music"
                                },
                                {
                                    "0": "8",
                                    "1": "Music"
                                },
                                {
                                    "0": "12",
                                    "1": "Classical"
                                },
                                {
                                    "0": "12",
                                    "1": "Classical"
                                },
                                {
                                    "0": "1",
                                    "1": "Music"
                                },
                                {
                                    "0": "12",
                                    "1": "Classical"
                                },
                                {
                                    "0": "1",
                                    "1": "Music"
                                },
                                {
                                    "0": "1",
                                    "1": "Music"
                                },
                                {
                                    "0": "5",
                                    "1": "90’s Music"
                                },
                                {
                                    "0": "5",
                                    "1": "90’s Music"
                                },
                                {
                                    "0": "14",
                                    "1": "Classical 101 - Next Steps"
                                },
                                {
                                    "0": "11",
                                    "1": "Brazilian Music"
                                },
                                {
                                    "0": "15",
                                    "1": "Classical 101 - The Basics"
                                },
                                {
                                    "0": "1",
                                    "1": "Music"
                                },
                                {
                                    "0": "1",
                                    "1": "Music"
                                },
                                {
                                    "0": "8",
                                    "1": "Music"
                                },
                                {
                                    "0": "5",
                                    "1": "90’s Music"
                                },
                                {
                                    "0": "8",
                                    "1": "Music"
                                },
                                {
                                    "0": "1",
                                    "1": "Music"
                                },
                                {
                                    "0": "8",
                                    "1": "Music"
                                },
                                {
                                    "0": "8",
                                    "1": "Music"
                                },
                                {
                                    "0": "8",
                                    "1": "Music"
                                },
                                {
                                    "0": "17",
                                    "1": "Heavy Metal Classic"
                                },
                                {
                                    "0": "14",
                                    "1": "Classical 101 - Next Steps"
                                },
                                {
                                    "0": "14",
                                    "1": "Classical 101 - Next Steps"
                                },
                                {
                                    "0": "8",
                                    "1": "Music"
                                },
                                {
                                    "0": "17",
                                    "1": "Heavy Metal Classic"
                                },
                                {
                                    "0": "1",
                                    "1": "Music"
                                },
                                {
                                    "0": "1",
                                    "1": "Music"
                                },
                                {
                                    "0": "1",
                                    "1": "Music"
                                },
                                {
                                    "0": "1",
                                    "1": "Music"
                                },
                                {
                                    "0": "8",
                                    "1": "Music"
                                },
                                {
                                    "0": "1",
                                    "1": "Music"
                                },
                                {
                                    "0": "17",
                                    "1": "Heavy Metal Classic"
                                },
                                {
                                    "0": "1",
                                    "1": "Music"
                                },
                                {
                                    "0": "8",
                                    "1": "Music"
                                },
                                {
                                    "0": "15",
                                    "1": "Classical 101 - The Basics"
                                },
                                {
                                    "0": "8",
                                    "1": "Music"
                                },
                                {
                                    "0": "1",
                                    "1": "Music"
                                },
                                {
                                    "0": "1",
                                    "1": "Music"
                                },
                                {
                                    "0": "14",
                                    "1": "Classical 101 - Next Steps"
                                },
                                {
                                    "0": "15",
                                    "1": "Classical 101 - The Basics"
                                },
                                {
                                    "0": "8",
                                    "1": "Music"
                                },
                                {
                                    "0": "8",
                                    "1": "Music"
                                },
                                {
                                    "0": "14",
                                    "1": "Classical 101 - Next Steps"
                                },
                                {
                                    "0": "12",
                                    "1": "Classical"
                                },
                                {
                                    "0": "1",
                                    "1": "Music"
                                },
                                {
                                    "0": "12",
                                    "1": "Classical"
                                },
                                {
                                    "0": "8",
                                    "1": "Music"
                                },
                                {
                                    "0": "12",
                                    "1": "Classical"
                                },
                                {
                                    "0": "8",
                                    "1": "Music"
                                },
                                {
                                    "0": "8",
                                    "1": "Music"
                                },
                                {
                                    "0": "5",
                                    "1": "90’s Music"
                                },
                                {
                                    "0": "8",
                                    "1": "Music"
                                },
                                {
                                    "0": "13",
                                    "1": "Classical 101 - Deep Cuts"
                                },
                                {
                                    "0": "17",
                                    "1": "Heavy Metal Classic"
                                },
                                {
                                    "0": "13",
                                    "1": "Classical 101 - Deep Cuts"
                                },
                                {
                                    "0": "13",
                                    "1": "Classical 101 - Deep Cuts"
                                },
                                {
                                    "0": "8",
                                    "1": "Music"
                                },
                                {
                                    "0": "15",
                                    "1": "Classical 101 - The Basics"
                                },
                                {
                                    "0": "1",
                                    "1": "Music"
                                },
                                {
                                    "0": "5",
                                    "1": "90’s Music"
                                },
                                {
                                    "0": "1",
                                    "1": "Music"
                                },
                                {
                                    "0": "15",
                                    "1": "Classical 101 - The Basics"
                                },
                                {
                                    "0": "13",
                                    "1": "Classical 101 - Deep Cuts"
                                },
                                {
                                    "0": "13",
                                    "1": "Classical 101 - Deep Cuts"
                                },
                                {
                                    "0": "8",
                                    "1": "Music"
                                },
                                {
                                    "0": "8",
                                    "1": "Music"
                                },
                                {
                                    "0": "1",
                                    "1": "Music"
                                },
                                {
                                    "0": "8",
                                    "1": "Music"
                                },
                                {
                                    "0": "11",
                                    "1": "Brazilian Music"
                                },
                                {
                                    "0": "12",
                                    "1": "Classical"
                                },
                                {
                                    "0": "12",
                                    "1": "Classical"
                                },
                                {
                                    "0": "11",
                                    "1": "Brazilian Music"
                                },
                                {
                                    "0": "12",
                                    "1": "Classical"
                                },
                                {
                                    "0": "13",
                                    "1": "Classical 101 - Deep Cuts"
                                },
                                {
                                    "0": "1",
                                    "1": "Music"
                                },
                                {
                                    "0": "1",
                                    "1": "Music"
                                },
                                {
                                    "0": "1",
                                    "1": "Music"
                                },
                                {
                                    "0": "8",
                                    "1": "Music"
                                },
                                {
                                    "0": "8",
                                    "1": "Music"
                                },
                                {
                                    "0": "17",
                                    "1": "Heavy Metal Classic"
                                },
                                {
                                    "0": "1",
                                    "1": "Music"
                                },
                                {
                                    "0": "8",
                                    "1": "Music"
                                },
                                {
                                    "0": "1",
                                    "1": "Music"
                                },
                                {
                                    "0": "12",
                                    "1": "Classical"
                                },
                                {
                                    "0": "12",
                                    "1": "Classical"
                                },
                                {
                                    "0": "17",
                                    "1": "Heavy Metal Classic"
                                },
                                {
                                    "0": "1",
                                    "1": "Music"
                                },
                                {
                                    "0": "8",
                                    "1": "Music"
                                },
                                {
                                    "0": "14",
                                    "1": "Classical 101 - Next Steps"
                                },
                                {
                                    "0": "8",
                                    "1": "Music"
                                },
                                {
                                    "0": "8",
                                    "1": "Music"
                                },
                                {
                                    "0": "15",
                                    "1": "Classical 101 - The Basics"
                                },
                                {
                                    "0": "1",
                                    "1": "Music"
                                },
                                {
                                    "0": "8",
                                    "1": "Music"
                                },
                                {
                                    "0": "17",
                                    "1": "Heavy Metal Classic"
                                },
                                {
                                    "0": "8",
                                    "1": "Music"
                                },
                                {
                                    "0": "12",
                                    "1": "Classical"
                                },
                                {
                                    "0": "13",
                                    "1": "Classical 101 - Deep Cuts"
                                },
                                {
                                    "0": "1",
                                    "1": "Music"
                                },
                                {
                                    "0": "14",
                                    "1": "Classical 101 - Next Steps"
                                },
                                {
                                    "0": "1",
                                    "1": "Music"
                                },
                                {
                                    "0": "14",
                                    "1": "Classical 101 - Next Steps"
                                },
                                {
                                    "0": "8",
                                    "1": "Music"
                                },
                                {
                                    "0": "15",
                                    "1": "Classical 101 - The Basics"
                                },
                                {
                                    "0": "12",
                                    "1": "Classical"
                                },
                                {
                                    "0": "12",
                                    "1": "Classical"
                                },
                                {
                                    "0": "14",
                                    "1": "Classical 101 - Next Steps"
                                },
                                {
                                    "0": "16",
                                    "1": "Grunge"
                                },
                                {
                                    "0": "5",
                                    "1": "90’s Music"
                                },
                                {
                                    "0": "9",
                                    "1": "Music Videos"
                                },
                                {
                                    "0": "12",
                                    "1": "Classical"
                                },
                                {
                                    "0": "17",
                                    "1": "Heavy Metal Classic"
                                },
                                {
                                    "0": "8",
                                    "1": "Music"
                                },
                                {
                                    "0": "17",
                                    "1": "Heavy Metal Classic"
                                },
                                {
                                    "0": "12",
                                    "1": "Classical"
                                },
                                {
                                    "0": "8",
                                    "1": "Music"
                                },
                                {
                                    "0": "15",
                                    "1": "Classical 101 - The Basics"
                                },
                                {
                                    "0": "5",
                                    "1": "90’s Music"
                                },
                                {
                                    "0": "12",
                                    "1": "Classical"
                                },
                                {
                                    "0": "15",
                                    "1": "Classical 101 - The Basics"
                                },
                                {
                                    "0": "5",
                                    "1": "90’s Music"
                                },
                                {
                                    "0": "5",
                                    "1": "90’s Music"
                                },
                                {
                                    "0": "11",
                                    "1": "Brazilian Music"
                                },
                                {
                                    "0": "8",
                                    "1": "Music"
                                },
                                {
                                    "0": "12",
                                    "1": "Classical"
                                },
                                {
                                    "0": "5",
                                    "1": "90’s Music"
                                },
                                {
                                    "0": "10",
                                    "1": "TV Shows"
                                },
                                {
                                    "0": "15",
                                    "1": "Classical 101 - The Basics"
                                },
                                {
                                    "0": "14",
                                    "1": "Classical 101 - Next Steps"
                                },
                                {
                                    "0": "5",
                                    "1": "90’s Music"
                                },
                                {
                                    "0": "12",
                                    "1": "Classical"
                                },
                                {
                                    "0": "8",
                                    "1": "Music"
                                },
                                {
                                    "0": "15",
                                    "1": "Classical 101 - The Basics"
                                },
                                {
                                    "0": "5",
                                    "1": "90’s Music"
                                },
                                {
                                    "0": "15",
                                    "1": "Classical 101 - The Basics"
                                },
                                {
                                    "0": "8",
                                    "1": "Music"
                                },
                                {
                                    "0": "1",
                                    "1": "Music"
                                },
                                {
                                    "0": "12",
                                    "1": "Classical"
                                },
                                {
                                    "0": "12",
                                    "1": "Classical"
                                },
                                {
                                    "0": "15",
                                    "1": "Classical 101 - The Basics"
                                },
                                {
                                    "0": "1",
                                    "1": "Music"
                                },
                                {
                                    "0": "12",
                                    "1": "Classical"
                                },
                                {
                                    "0": "8",
                                    "1": "Music"
                                },
                                {
                                    "0": "8",
                                    "1": "Music"
                                },
                                {
                                    "0": "12",
                                    "1": "Classical"
                                },
                                {
                                    "0": "10",
                                    "1": "TV Shows"
                                },
                                {
                                    "0": "12",
                                    "1": "Classical"
                                },
                                {
                                    "0": "8",
                                    "1": "Music"
                                },
                                {
                                    "0": "13",
                                    "1": "Classical 101 - Deep Cuts"
                                },
                                {
                                    "0": "5",
                                    "1": "90’s Music"
                                },
                                {
                                    "0": "8",
                                    "1": "Music"
                                },
                                {
                                    "0": "1",
                                    "1": "Music"
                                },
                                {
                                    "0": "13",
                                    "1": "Classical 101 - Deep Cuts"
                                },
                                {
                                    "0": "8",
                                    "1": "Music"
                                },
                                {
                                    "0": "12",
                                    "1": "Classical"
                                },
                                {
                                    "0": "12",
                                    "1": "Classical"
                                },
                                {
                                    "0": "12",
                                    "1": "Classical"
                                },
                                {
                                    "0": "1",
                                    "1": "Music"
                                },
                                {
                                    "0": "5",
                                    "1": "90’s Music"
                                },
                                {
                                    "0": "5",
                                    "1": "90’s Music"
                                },
                                {
                                    "0": "12",
                                    "1": "Classical"
                                }
                            ]
                        },
                        "text/html": [
                            "<table>",
                            "<tr><th>playlist_id</th><th>name</th></tr>",
                            "<tr><td>15</td><td>Classical 101 - The Basics</td></tr>",
                            "<tr><td>13</td><td>Classical 101 - Deep Cuts</td></tr>",
                            "<tr><td>1</td><td>Music</td></tr>",
                            "<tr><td>12</td><td>Classical</td></tr>",
                            "<tr><td>8</td><td>Music</td></tr>",
                            "<tr><td>14</td><td>Classical 101 - Next Steps</td></tr>",
                            "<tr><td>1</td><td>Music</td></tr>",
                            "<tr><td>14</td><td>Classical 101 - Next Steps</td></tr>",
                            "<tr><td>1</td><td>Music</td></tr>",
                            "<tr><td>1</td><td>Music</td></tr>",
                            "<tr><td>17</td><td>Heavy Metal Classic</td></tr>",
                            "<tr><td>12</td><td>Classical</td></tr>",
                            "<tr><td>12</td><td>Classical</td></tr>",
                            "<tr><td>1</td><td>Music</td></tr>",
                            "<tr><td>5</td><td>90’s Music</td></tr>",
                            "<tr><td>13</td><td>Classical 101 - Deep Cuts</td></tr>",
                            "<tr><td>12</td><td>Classical</td></tr>",
                            "<tr><td>12</td><td>Classical</td></tr>",
                            "<tr><td>5</td><td>90’s Music</td></tr>",
                            "<tr><td>1</td><td>Music</td></tr>",
                            "<tr><td>8</td><td>Music</td></tr>",
                            "<tr><td>13</td><td>Classical 101 - Deep Cuts</td></tr>",
                            "<tr><td>8</td><td>Music</td></tr>",
                            "<tr><td>5</td><td>90’s Music</td></tr>",
                            "<tr><td>13</td><td>Classical 101 - Deep Cuts</td></tr>",
                            "<tr><td>1</td><td>Music</td></tr>",
                            "<tr><td>5</td><td>90’s Music</td></tr>",
                            "<tr><td>12</td><td>Classical</td></tr>",
                            "<tr><td>14</td><td>Classical 101 - Next Steps</td></tr>",
                            "<tr><td>12</td><td>Classical</td></tr>",
                            "<tr><td>14</td><td>Classical 101 - Next Steps</td></tr>",
                            "<tr><td>16</td><td>Grunge</td></tr>",
                            "<tr><td>14</td><td>Classical 101 - Next Steps</td></tr>",
                            "<tr><td>13</td><td>Classical 101 - Deep Cuts</td></tr>",
                            "<tr><td>5</td><td>90’s Music</td></tr>",
                            "<tr><td>8</td><td>Music</td></tr>",
                            "<tr><td>3</td><td>TV Shows</td></tr>",
                            "<tr><td>12</td><td>Classical</td></tr>",
                            "<tr><td>8</td><td>Music</td></tr>",
                            "<tr><td>16</td><td>Grunge</td></tr>",
                            "<tr><td>12</td><td>Classical</td></tr>",
                            "<tr><td>12</td><td>Classical</td></tr>",
                            "<tr><td>15</td><td>Classical 101 - The Basics</td></tr>",
                            "<tr><td>15</td><td>Classical 101 - The Basics</td></tr>",
                            "<tr><td>8</td><td>Music</td></tr>",
                            "<tr><td>13</td><td>Classical 101 - Deep Cuts</td></tr>",
                            "<tr><td>14</td><td>Classical 101 - Next Steps</td></tr>",
                            "<tr><td>8</td><td>Music</td></tr>",
                            "<tr><td>8</td><td>Music</td></tr>",
                            "<tr><td>8</td><td>Music</td></tr>",
                            "<tr><td>5</td><td>90’s Music</td></tr>",
                            "<tr><td>1</td><td>Music</td></tr>",
                            "<tr><td>8</td><td>Music</td></tr>",
                            "<tr><td>15</td><td>Classical 101 - The Basics</td></tr>",
                            "<tr><td>1</td><td>Music</td></tr>",
                            "<tr><td>1</td><td>Music</td></tr>",
                            "<tr><td>17</td><td>Heavy Metal Classic</td></tr>",
                            "<tr><td>8</td><td>Music</td></tr>",
                            "<tr><td>1</td><td>Music</td></tr>",
                            "<tr><td>8</td><td>Music</td></tr>",
                            "<tr><td>8</td><td>Music</td></tr>",
                            "<tr><td>5</td><td>90’s Music</td></tr>",
                            "<tr><td>1</td><td>Music</td></tr>",
                            "<tr><td>1</td><td>Music</td></tr>",
                            "<tr><td>5</td><td>90’s Music</td></tr>",
                            "<tr><td>1</td><td>Music</td></tr>",
                            "<tr><td>1</td><td>Music</td></tr>",
                            "<tr><td>5</td><td>90’s Music</td></tr>",
                            "<tr><td>1</td><td>Music</td></tr>",
                            "<tr><td>15</td><td>Classical 101 - The Basics</td></tr>",
                            "<tr><td>17</td><td>Heavy Metal Classic</td></tr>",
                            "<tr><td>12</td><td>Classical</td></tr>",
                            "<tr><td>5</td><td>90’s Music</td></tr>",
                            "<tr><td>5</td><td>90’s Music</td></tr>",
                            "<tr><td>1</td><td>Music</td></tr>",
                            "<tr><td>8</td><td>Music</td></tr>",
                            "<tr><td>12</td><td>Classical</td></tr>",
                            "<tr><td>8</td><td>Music</td></tr>",
                            "<tr><td>15</td><td>Classical 101 - The Basics</td></tr>",
                            "<tr><td>5</td><td>90’s Music</td></tr>",
                            "<tr><td>12</td><td>Classical</td></tr>",
                            "<tr><td>5</td><td>90’s Music</td></tr>",
                            "<tr><td>1</td><td>Music</td></tr>",
                            "<tr><td>1</td><td>Music</td></tr>",
                            "<tr><td>12</td><td>Classical</td></tr>",
                            "<tr><td>8</td><td>Music</td></tr>",
                            "<tr><td>1</td><td>Music</td></tr>",
                            "<tr><td>12</td><td>Classical</td></tr>",
                            "<tr><td>8</td><td>Music</td></tr>",
                            "<tr><td>1</td><td>Music</td></tr>",
                            "<tr><td>1</td><td>Music</td></tr>",
                            "<tr><td>14</td><td>Classical 101 - Next Steps</td></tr>",
                            "<tr><td>8</td><td>Music</td></tr>",
                            "<tr><td>12</td><td>Classical</td></tr>",
                            "<tr><td>8</td><td>Music</td></tr>",
                            "<tr><td>8</td><td>Music</td></tr>",
                            "<tr><td>12</td><td>Classical</td></tr>",
                            "<tr><td>8</td><td>Music</td></tr>",
                            "<tr><td>5</td><td>90’s Music</td></tr>",
                            "<tr><td>13</td><td>Classical 101 - Deep Cuts</td></tr>",
                            "<tr><td>14</td><td>Classical 101 - Next Steps</td></tr>",
                            "<tr><td>8</td><td>Music</td></tr>",
                            "<tr><td>14</td><td>Classical 101 - Next Steps</td></tr>",
                            "<tr><td>1</td><td>Music</td></tr>",
                            "<tr><td>1</td><td>Music</td></tr>",
                            "<tr><td>8</td><td>Music</td></tr>",
                            "<tr><td>13</td><td>Classical 101 - Deep Cuts</td></tr>",
                            "<tr><td>17</td><td>Heavy Metal Classic</td></tr>",
                            "<tr><td>12</td><td>Classical</td></tr>",
                            "<tr><td>14</td><td>Classical 101 - Next Steps</td></tr>",
                            "<tr><td>13</td><td>Classical 101 - Deep Cuts</td></tr>",
                            "<tr><td>1</td><td>Music</td></tr>",
                            "<tr><td>5</td><td>90’s Music</td></tr>",
                            "<tr><td>12</td><td>Classical</td></tr>",
                            "<tr><td>15</td><td>Classical 101 - The Basics</td></tr>",
                            "<tr><td>5</td><td>90’s Music</td></tr>",
                            "<tr><td>12</td><td>Classical</td></tr>",
                            "<tr><td>5</td><td>90’s Music</td></tr>",
                            "<tr><td>1</td><td>Music</td></tr>",
                            "<tr><td>13</td><td>Classical 101 - Deep Cuts</td></tr>",
                            "<tr><td>8</td><td>Music</td></tr>",
                            "<tr><td>12</td><td>Classical</td></tr>",
                            "<tr><td>8</td><td>Music</td></tr>",
                            "<tr><td>8</td><td>Music</td></tr>",
                            "<tr><td>8</td><td>Music</td></tr>",
                            "<tr><td>12</td><td>Classical</td></tr>",
                            "<tr><td>12</td><td>Classical</td></tr>",
                            "<tr><td>8</td><td>Music</td></tr>",
                            "<tr><td>12</td><td>Classical</td></tr>",
                            "<tr><td>12</td><td>Classical</td></tr>",
                            "<tr><td>1</td><td>Music</td></tr>",
                            "<tr><td>1</td><td>Music</td></tr>",
                            "<tr><td>1</td><td>Music</td></tr>",
                            "<tr><td>12</td><td>Classical</td></tr>",
                            "<tr><td>1</td><td>Music</td></tr>",
                            "<tr><td>12</td><td>Classical</td></tr>",
                            "<tr><td>8</td><td>Music</td></tr>",
                            "<tr><td>1</td><td>Music</td></tr>",
                            "<tr><td>15</td><td>Classical 101 - The Basics</td></tr>",
                            "<tr><td>17</td><td>Heavy Metal Classic</td></tr>",
                            "<tr><td>17</td><td>Heavy Metal Classic</td></tr>",
                            "<tr><td>8</td><td>Music</td></tr>",
                            "<tr><td>12</td><td>Classical</td></tr>",
                            "<tr><td>8</td><td>Music</td></tr>",
                            "<tr><td>12</td><td>Classical</td></tr>",
                            "<tr><td>1</td><td>Music</td></tr>",
                            "<tr><td>12</td><td>Classical</td></tr>",
                            "<tr><td>1</td><td>Music</td></tr>",
                            "<tr><td>12</td><td>Classical</td></tr>",
                            "<tr><td>8</td><td>Music</td></tr>",
                            "<tr><td>5</td><td>90’s Music</td></tr>",
                            "<tr><td>1</td><td>Music</td></tr>",
                            "<tr><td>12</td><td>Classical</td></tr>",
                            "<tr><td>14</td><td>Classical 101 - Next Steps</td></tr>",
                            "<tr><td>12</td><td>Classical</td></tr>",
                            "<tr><td>17</td><td>Heavy Metal Classic</td></tr>",
                            "<tr><td>12</td><td>Classical</td></tr>",
                            "<tr><td>8</td><td>Music</td></tr>",
                            "<tr><td>13</td><td>Classical 101 - Deep Cuts</td></tr>",
                            "<tr><td>16</td><td>Grunge</td></tr>",
                            "<tr><td>8</td><td>Music</td></tr>",
                            "<tr><td>8</td><td>Music</td></tr>",
                            "<tr><td>8</td><td>Music</td></tr>",
                            "<tr><td>1</td><td>Music</td></tr>",
                            "<tr><td>15</td><td>Classical 101 - The Basics</td></tr>",
                            "<tr><td>18</td><td>On-The-Go 1</td></tr>",
                            "<tr><td>8</td><td>Music</td></tr>",
                            "<tr><td>1</td><td>Music</td></tr>",
                            "<tr><td>8</td><td>Music</td></tr>",
                            "<tr><td>8</td><td>Music</td></tr>",
                            "<tr><td>1</td><td>Music</td></tr>",
                            "<tr><td>8</td><td>Music</td></tr>",
                            "<tr><td>3</td><td>TV Shows</td></tr>",
                            "<tr><td>8</td><td>Music</td></tr>",
                            "<tr><td>12</td><td>Classical</td></tr>",
                            "<tr><td>12</td><td>Classical</td></tr>",
                            "<tr><td>5</td><td>90’s Music</td></tr>",
                            "<tr><td>1</td><td>Music</td></tr>",
                            "<tr><td>1</td><td>Music</td></tr>",
                            "<tr><td>16</td><td>Grunge</td></tr>",
                            "<tr><td>12</td><td>Classical</td></tr>",
                            "<tr><td>1</td><td>Music</td></tr>",
                            "<tr><td>15</td><td>Classical 101 - The Basics</td></tr>",
                            "<tr><td>5</td><td>90’s Music</td></tr>",
                            "<tr><td>12</td><td>Classical</td></tr>",
                            "<tr><td>8</td><td>Music</td></tr>",
                            "<tr><td>5</td><td>90’s Music</td></tr>",
                            "<tr><td>14</td><td>Classical 101 - Next Steps</td></tr>",
                            "<tr><td>12</td><td>Classical</td></tr>",
                            "<tr><td>1</td><td>Music</td></tr>",
                            "<tr><td>1</td><td>Music</td></tr>",
                            "<tr><td>1</td><td>Music</td></tr>",
                            "<tr><td>12</td><td>Classical</td></tr>",
                            "<tr><td>1</td><td>Music</td></tr>",
                            "<tr><td>13</td><td>Classical 101 - Deep Cuts</td></tr>",
                            "<tr><td>14</td><td>Classical 101 - Next Steps</td></tr>",
                            "<tr><td>1</td><td>Music</td></tr>",
                            "<tr><td>17</td><td>Heavy Metal Classic</td></tr>",
                            "<tr><td>8</td><td>Music</td></tr>",
                            "<tr><td>17</td><td>Heavy Metal Classic</td></tr>",
                            "<tr><td>12</td><td>Classical</td></tr>",
                            "<tr><td>5</td><td>90’s Music</td></tr>",
                            "<tr><td>5</td><td>90’s Music</td></tr>",
                            "<tr><td>13</td><td>Classical 101 - Deep Cuts</td></tr>",
                            "<tr><td>13</td><td>Classical 101 - Deep Cuts</td></tr>",
                            "<tr><td>12</td><td>Classical</td></tr>",
                            "<tr><td>8</td><td>Music</td></tr>",
                            "<tr><td>11</td><td>Brazilian Music</td></tr>",
                            "<tr><td>1</td><td>Music</td></tr>",
                            "<tr><td>5</td><td>90’s Music</td></tr>",
                            "<tr><td>8</td><td>Music</td></tr>",
                            "<tr><td>5</td><td>90’s Music</td></tr>",
                            "<tr><td>15</td><td>Classical 101 - The Basics</td></tr>",
                            "<tr><td>15</td><td>Classical 101 - The Basics</td></tr>",
                            "<tr><td>13</td><td>Classical 101 - Deep Cuts</td></tr>",
                            "<tr><td>12</td><td>Classical</td></tr>",
                            "<tr><td>1</td><td>Music</td></tr>",
                            "<tr><td>13</td><td>Classical 101 - Deep Cuts</td></tr>",
                            "<tr><td>8</td><td>Music</td></tr>",
                            "<tr><td>1</td><td>Music</td></tr>",
                            "<tr><td>1</td><td>Music</td></tr>",
                            "<tr><td>5</td><td>90’s Music</td></tr>",
                            "<tr><td>8</td><td>Music</td></tr>",
                            "<tr><td>12</td><td>Classical</td></tr>",
                            "<tr><td>12</td><td>Classical</td></tr>",
                            "<tr><td>1</td><td>Music</td></tr>",
                            "<tr><td>1</td><td>Music</td></tr>",
                            "<tr><td>8</td><td>Music</td></tr>",
                            "<tr><td>1</td><td>Music</td></tr>",
                            "<tr><td>1</td><td>Music</td></tr>",
                            "<tr><td>1</td><td>Music</td></tr>",
                            "<tr><td>14</td><td>Classical 101 - Next Steps</td></tr>",
                            "<tr><td>5</td><td>90’s Music</td></tr>",
                            "<tr><td>8</td><td>Music</td></tr>",
                            "<tr><td>5</td><td>90’s Music</td></tr>",
                            "<tr><td>14</td><td>Classical 101 - Next Steps</td></tr>",
                            "<tr><td>1</td><td>Music</td></tr>",
                            "<tr><td>1</td><td>Music</td></tr>",
                            "<tr><td>1</td><td>Music</td></tr>",
                            "<tr><td>8</td><td>Music</td></tr>",
                            "<tr><td>12</td><td>Classical</td></tr>",
                            "<tr><td>12</td><td>Classical</td></tr>",
                            "<tr><td>1</td><td>Music</td></tr>",
                            "<tr><td>12</td><td>Classical</td></tr>",
                            "<tr><td>1</td><td>Music</td></tr>",
                            "<tr><td>1</td><td>Music</td></tr>",
                            "<tr><td>5</td><td>90’s Music</td></tr>",
                            "<tr><td>5</td><td>90’s Music</td></tr>",
                            "<tr><td>14</td><td>Classical 101 - Next Steps</td></tr>",
                            "<tr><td>11</td><td>Brazilian Music</td></tr>",
                            "<tr><td>15</td><td>Classical 101 - The Basics</td></tr>",
                            "<tr><td>1</td><td>Music</td></tr>",
                            "<tr><td>1</td><td>Music</td></tr>",
                            "<tr><td>8</td><td>Music</td></tr>",
                            "<tr><td>5</td><td>90’s Music</td></tr>",
                            "<tr><td>8</td><td>Music</td></tr>",
                            "<tr><td>1</td><td>Music</td></tr>",
                            "<tr><td>8</td><td>Music</td></tr>",
                            "<tr><td>8</td><td>Music</td></tr>",
                            "<tr><td>8</td><td>Music</td></tr>",
                            "<tr><td>17</td><td>Heavy Metal Classic</td></tr>",
                            "<tr><td>14</td><td>Classical 101 - Next Steps</td></tr>",
                            "<tr><td>14</td><td>Classical 101 - Next Steps</td></tr>",
                            "<tr><td>8</td><td>Music</td></tr>",
                            "<tr><td>17</td><td>Heavy Metal Classic</td></tr>",
                            "<tr><td>1</td><td>Music</td></tr>",
                            "<tr><td>1</td><td>Music</td></tr>",
                            "<tr><td>1</td><td>Music</td></tr>",
                            "<tr><td>1</td><td>Music</td></tr>",
                            "<tr><td>8</td><td>Music</td></tr>",
                            "<tr><td>1</td><td>Music</td></tr>",
                            "<tr><td>17</td><td>Heavy Metal Classic</td></tr>",
                            "<tr><td>1</td><td>Music</td></tr>",
                            "<tr><td>8</td><td>Music</td></tr>",
                            "<tr><td>15</td><td>Classical 101 - The Basics</td></tr>",
                            "<tr><td>8</td><td>Music</td></tr>",
                            "<tr><td>1</td><td>Music</td></tr>",
                            "<tr><td>1</td><td>Music</td></tr>",
                            "<tr><td>14</td><td>Classical 101 - Next Steps</td></tr>",
                            "<tr><td>15</td><td>Classical 101 - The Basics</td></tr>",
                            "<tr><td>8</td><td>Music</td></tr>",
                            "<tr><td>8</td><td>Music</td></tr>",
                            "<tr><td>14</td><td>Classical 101 - Next Steps</td></tr>",
                            "<tr><td>12</td><td>Classical</td></tr>",
                            "<tr><td>1</td><td>Music</td></tr>",
                            "<tr><td>12</td><td>Classical</td></tr>",
                            "<tr><td>8</td><td>Music</td></tr>",
                            "<tr><td>12</td><td>Classical</td></tr>",
                            "<tr><td>8</td><td>Music</td></tr>",
                            "<tr><td>8</td><td>Music</td></tr>",
                            "<tr><td>5</td><td>90’s Music</td></tr>",
                            "<tr><td>8</td><td>Music</td></tr>",
                            "<tr><td>13</td><td>Classical 101 - Deep Cuts</td></tr>",
                            "<tr><td>17</td><td>Heavy Metal Classic</td></tr>",
                            "<tr><td>13</td><td>Classical 101 - Deep Cuts</td></tr>",
                            "<tr><td>13</td><td>Classical 101 - Deep Cuts</td></tr>",
                            "<tr><td>8</td><td>Music</td></tr>",
                            "<tr><td>15</td><td>Classical 101 - The Basics</td></tr>",
                            "<tr><td>1</td><td>Music</td></tr>",
                            "<tr><td>5</td><td>90’s Music</td></tr>",
                            "<tr><td>1</td><td>Music</td></tr>",
                            "<tr><td>15</td><td>Classical 101 - The Basics</td></tr>",
                            "<tr><td>13</td><td>Classical 101 - Deep Cuts</td></tr>",
                            "<tr><td>13</td><td>Classical 101 - Deep Cuts</td></tr>",
                            "<tr><td>8</td><td>Music</td></tr>",
                            "<tr><td>8</td><td>Music</td></tr>",
                            "<tr><td>1</td><td>Music</td></tr>",
                            "<tr><td>8</td><td>Music</td></tr>",
                            "<tr><td>11</td><td>Brazilian Music</td></tr>",
                            "<tr><td>12</td><td>Classical</td></tr>",
                            "<tr><td>12</td><td>Classical</td></tr>",
                            "<tr><td>11</td><td>Brazilian Music</td></tr>",
                            "<tr><td>12</td><td>Classical</td></tr>",
                            "<tr><td>13</td><td>Classical 101 - Deep Cuts</td></tr>",
                            "<tr><td>1</td><td>Music</td></tr>",
                            "<tr><td>1</td><td>Music</td></tr>",
                            "<tr><td>1</td><td>Music</td></tr>",
                            "<tr><td>8</td><td>Music</td></tr>",
                            "<tr><td>8</td><td>Music</td></tr>",
                            "<tr><td>17</td><td>Heavy Metal Classic</td></tr>",
                            "<tr><td>1</td><td>Music</td></tr>",
                            "<tr><td>8</td><td>Music</td></tr>",
                            "<tr><td>1</td><td>Music</td></tr>",
                            "<tr><td>12</td><td>Classical</td></tr>",
                            "<tr><td>12</td><td>Classical</td></tr>",
                            "<tr><td>17</td><td>Heavy Metal Classic</td></tr>",
                            "<tr><td>1</td><td>Music</td></tr>",
                            "<tr><td>8</td><td>Music</td></tr>",
                            "<tr><td>14</td><td>Classical 101 - Next Steps</td></tr>",
                            "<tr><td>8</td><td>Music</td></tr>",
                            "<tr><td>8</td><td>Music</td></tr>",
                            "<tr><td>15</td><td>Classical 101 - The Basics</td></tr>",
                            "<tr><td>1</td><td>Music</td></tr>",
                            "<tr><td>8</td><td>Music</td></tr>",
                            "<tr><td>17</td><td>Heavy Metal Classic</td></tr>",
                            "<tr><td>8</td><td>Music</td></tr>",
                            "<tr><td>12</td><td>Classical</td></tr>",
                            "<tr><td>13</td><td>Classical 101 - Deep Cuts</td></tr>",
                            "<tr><td>1</td><td>Music</td></tr>",
                            "<tr><td>14</td><td>Classical 101 - Next Steps</td></tr>",
                            "<tr><td>1</td><td>Music</td></tr>",
                            "<tr><td>14</td><td>Classical 101 - Next Steps</td></tr>",
                            "<tr><td>8</td><td>Music</td></tr>",
                            "<tr><td>15</td><td>Classical 101 - The Basics</td></tr>",
                            "<tr><td>12</td><td>Classical</td></tr>",
                            "<tr><td>12</td><td>Classical</td></tr>",
                            "<tr><td>14</td><td>Classical 101 - Next Steps</td></tr>",
                            "<tr><td>16</td><td>Grunge</td></tr>",
                            "<tr><td>5</td><td>90’s Music</td></tr>",
                            "<tr><td>9</td><td>Music Videos</td></tr>",
                            "<tr><td>12</td><td>Classical</td></tr>",
                            "<tr><td>17</td><td>Heavy Metal Classic</td></tr>",
                            "<tr><td>8</td><td>Music</td></tr>",
                            "<tr><td>17</td><td>Heavy Metal Classic</td></tr>",
                            "<tr><td>12</td><td>Classical</td></tr>",
                            "<tr><td>8</td><td>Music</td></tr>",
                            "<tr><td>15</td><td>Classical 101 - The Basics</td></tr>",
                            "<tr><td>5</td><td>90’s Music</td></tr>",
                            "<tr><td>12</td><td>Classical</td></tr>",
                            "<tr><td>15</td><td>Classical 101 - The Basics</td></tr>",
                            "<tr><td>5</td><td>90’s Music</td></tr>",
                            "<tr><td>5</td><td>90’s Music</td></tr>",
                            "<tr><td>11</td><td>Brazilian Music</td></tr>",
                            "<tr><td>8</td><td>Music</td></tr>",
                            "<tr><td>12</td><td>Classical</td></tr>",
                            "<tr><td>5</td><td>90’s Music</td></tr>",
                            "<tr><td>10</td><td>TV Shows</td></tr>",
                            "<tr><td>15</td><td>Classical 101 - The Basics</td></tr>",
                            "<tr><td>14</td><td>Classical 101 - Next Steps</td></tr>",
                            "<tr><td>5</td><td>90’s Music</td></tr>",
                            "<tr><td>12</td><td>Classical</td></tr>",
                            "<tr><td>8</td><td>Music</td></tr>",
                            "<tr><td>15</td><td>Classical 101 - The Basics</td></tr>",
                            "<tr><td>5</td><td>90’s Music</td></tr>",
                            "<tr><td>15</td><td>Classical 101 - The Basics</td></tr>",
                            "<tr><td>8</td><td>Music</td></tr>",
                            "<tr><td>1</td><td>Music</td></tr>",
                            "<tr><td>12</td><td>Classical</td></tr>",
                            "<tr><td>12</td><td>Classical</td></tr>",
                            "<tr><td>15</td><td>Classical 101 - The Basics</td></tr>",
                            "<tr><td>1</td><td>Music</td></tr>",
                            "<tr><td>12</td><td>Classical</td></tr>",
                            "<tr><td>8</td><td>Music</td></tr>",
                            "<tr><td>8</td><td>Music</td></tr>",
                            "<tr><td>12</td><td>Classical</td></tr>",
                            "<tr><td>10</td><td>TV Shows</td></tr>",
                            "<tr><td>12</td><td>Classical</td></tr>",
                            "<tr><td>8</td><td>Music</td></tr>",
                            "<tr><td>13</td><td>Classical 101 - Deep Cuts</td></tr>",
                            "<tr><td>5</td><td>90’s Music</td></tr>",
                            "<tr><td>8</td><td>Music</td></tr>",
                            "<tr><td>1</td><td>Music</td></tr>",
                            "<tr><td>13</td><td>Classical 101 - Deep Cuts</td></tr>",
                            "<tr><td>8</td><td>Music</td></tr>",
                            "<tr><td>12</td><td>Classical</td></tr>",
                            "<tr><td>12</td><td>Classical</td></tr>",
                            "<tr><td>12</td><td>Classical</td></tr>",
                            "<tr><td>1</td><td>Music</td></tr>",
                            "<tr><td>5</td><td>90’s Music</td></tr>",
                            "<tr><td>5</td><td>90’s Music</td></tr>",
                            "<tr><td>12</td><td>Classical</td></tr>",
                            "</table>"
                        ]
                    }
                }
            ],
            "execution_count": 14
        }
    ]
}