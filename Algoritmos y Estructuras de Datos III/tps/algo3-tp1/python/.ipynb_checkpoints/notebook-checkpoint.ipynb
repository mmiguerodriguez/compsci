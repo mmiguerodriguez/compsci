{
 "cells": [
  {
   "cell_type": "code",
   "execution_count": null,
   "id": "a4b9ca94",
   "metadata": {},
   "outputs": [],
   "source": [
    "import random\n",
    "import pandas as pd\n",
    "import numpy as np\n",
    "from commons import save_instance, leer_instancia, graficar, graficar_rvar, generar_instancias, correr_experimento, generar_instancias_rvar\n",
    "import matplotlib\n",
    "import matplotlib.pyplot as plt"
   ]
  },
  {
   "cell_type": "code",
   "execution_count": null,
   "id": "377ab1d4",
   "metadata": {},
   "outputs": [],
   "source": [
    " !cd ../src && make"
   ]
  },
  {
   "cell_type": "code",
   "execution_count": null,
   "id": "63348948",
   "metadata": {},
   "outputs": [],
   "source": [
    "# Ejemplo de generar instancias genericas\n",
    "# generar_instancia(\"prueba-bt-dificil\", 15)\n",
    "\n",
    "# Ejemplo de correr experimento\n",
    "# correr_experimento(\"BT\", \"instancia-test\", 50, 5)\n",
    "\n",
    "# Ejemplo de graficar\n",
    "# graficar(filas, \"BT\", \"test-bt-1\")"
   ]
  },
  {
   "cell_type": "code",
   "execution_count": null,
   "id": "3d1c7e7f",
   "metadata": {},
   "outputs": [],
   "source": [
    "generar_instancias(\"test\", 1)\n",
    "generar_instancias_rvar(\"test_r\", 10)"
   ]
  },
  {
   "cell_type": "code",
   "execution_count": null,
   "id": "a29be8c1",
   "metadata": {},
   "outputs": [],
   "source": [
    "cant_instancias = 150\n",
    "cant_x_instancia = 5\n",
    "\n",
    "# result1 = correr_experimento(\"FB\", \"test\", cant_instancias, cant_x_instancia)\n",
    "# result2 = correr_experimento(\"BT\", \"test\", cant_instancias, cant_x_instancia)\n",
    "# result3 = correr_experimento(\"BT-F\", \"test\", cant_instancias, cant_x_instancia)\n",
    "# result4 = correr_experimento(\"BT-O\", \"test\", cant_instancias, cant_x_instancia)\n",
    "# result5 = correr_experimento(\"DP\", \"test\", cant_instancias, cant_x_instancia)"
   ]
  },
  {
   "cell_type": "code",
   "execution_count": null,
   "id": "cb04ef37",
   "metadata": {},
   "outputs": [],
   "source": [
    "# graficar(result1, \"FB\", \"fuerza-bruta-facil\")\n",
    "# graficar(result2, \"BT\", \"prueba-bt\")\n",
    "# graficar(result3, \"BT-F\", \"prueba-bt-f\")\n",
    "# graficar(result4, \"BT-O\", \"prueba-bt-o\")\n",
    "# graficar(result5, \"DP\", \"dp-test\")"
   ]
  },
  {
   "cell_type": "code",
   "execution_count": null,
   "id": "887b5677",
   "metadata": {},
   "outputs": [],
   "source": [
    "cant_instancias = 150\n",
    "cant_x_instancia = 5\n",
    "\n",
    "# result6 = correr_experimento(\"DP\", \"test_r\", cant_instancias, cant_x_instancia)"
   ]
  },
  {
   "cell_type": "code",
   "execution_count": null,
   "id": "aabf1056",
   "metadata": {},
   "outputs": [],
   "source": [
    "# graficar_rvar(result6, \"DP\", \"dp-rvar\")"
   ]
  },
  {
   "cell_type": "code",
   "execution_count": null,
   "id": "b7c1f2eb",
   "metadata": {},
   "outputs": [],
   "source": []
  }
 ],
 "metadata": {
  "kernelspec": {
   "display_name": "Python 3",
   "language": "python",
   "name": "python3"
  },
  "language_info": {
   "codemirror_mode": {
    "name": "ipython",
    "version": 3
   },
   "file_extension": ".py",
   "mimetype": "text/x-python",
   "name": "python",
   "nbconvert_exporter": "python",
   "pygments_lexer": "ipython3",
   "version": "3.8.5"
  }
 },
 "nbformat": 4,
 "nbformat_minor": 5
}
