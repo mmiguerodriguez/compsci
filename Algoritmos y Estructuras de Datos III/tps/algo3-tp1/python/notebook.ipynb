{
 "cells": [
  {
   "cell_type": "code",
   "execution_count": null,
   "id": "055d8dc7",
   "metadata": {},
   "outputs": [],
   "source": [
    "import random\n",
    "import pandas as pd\n",
    "import numpy as np\n",
    "from commons import save_instance, leer_instancia, graficar, graficar_rvar, generar_instancias, correr_experimento, generar_instancias_rvar\n",
    "import matplotlib\n",
    "import matplotlib.pyplot as plt"
   ]
  },
  {
   "cell_type": "code",
   "execution_count": null,
   "id": "45b0f958",
   "metadata": {},
   "outputs": [],
   "source": [
    " !cd ../src && make"
   ]
  },
  {
   "cell_type": "code",
   "execution_count": null,
   "id": "4314469b",
   "metadata": {},
   "outputs": [],
   "source": [
    "# Ejemplo de generar instancias genericas\n",
    "# generar_instancia(\"prueba-bt-dificil\", 15)\n",
    "\n",
    "# Ejemplo de correr experimento\n",
    "# correr_experimento(\"BT\", \"instancia-test\", 50, 5)\n",
    "\n",
    "# Ejemplo de graficar\n",
    "# graficar(filas, \"BT\", \"test-bt-1\")"
   ]
  },
  {
   "cell_type": "code",
   "execution_count": null,
   "id": "70ba1df5",
   "metadata": {},
   "outputs": [],
   "source": [
    "generar_instancias(\"test\", 1)\n",
    "generar_instancias_rvar(\"test_r\", 10)"
   ]
  },
  {
   "cell_type": "code",
   "execution_count": null,
   "id": "698fa30e",
   "metadata": {},
   "outputs": [],
   "source": [
    "cant_instancias = 150\n",
    "cant_x_instancia = 5\n",
    "\n",
    "# result1 = correr_experimento(\"FB\", \"test\", cant_instancias, cant_x_instancia)\n",
    "# result2 = correr_experimento(\"BT\", \"test\", cant_instancias, cant_x_instancia)\n",
    "# result3 = correr_experimento(\"BT-F\", \"test\", cant_instancias, cant_x_instancia)\n",
    "# result4 = correr_experimento(\"BT-O\", \"test\", cant_instancias, cant_x_instancia)\n",
    "# result5 = correr_experimento(\"DP\", \"test\", cant_instancias, cant_x_instancia)"
   ]
  },
  {
   "cell_type": "code",
   "execution_count": null,
   "id": "4dd262ba",
   "metadata": {},
   "outputs": [],
   "source": [
    "# graficar(result1, \"FB\", \"fuerza-bruta-facil\")\n",
    "# graficar(result2, \"BT\", \"prueba-bt\")\n",
    "# graficar(result3, \"BT-F\", \"prueba-bt-f\")\n",
    "# graficar(result4, \"BT-O\", \"prueba-bt-o\")\n",
    "# graficar(result5, \"DP\", \"dp-test\")"
   ]
  },
  {
   "cell_type": "code",
   "execution_count": null,
   "id": "bb214c71",
   "metadata": {},
   "outputs": [],
   "source": [
    "cant_instancias = 150\n",
    "cant_x_instancia = 5\n",
    "\n",
    "# result6 = correr_experimento(\"DP\", \"test_r\", cant_instancias, cant_x_instancia)"
   ]
  },
  {
   "cell_type": "code",
   "execution_count": null,
   "id": "925dd52c",
   "metadata": {},
   "outputs": [],
   "source": [
    "# graficar_rvar(result6, \"DP\", \"dp-rvar\")"
   ]
  },
  {
   "cell_type": "code",
   "execution_count": null,
   "id": "0db7929e",
   "metadata": {},
   "outputs": [],
   "source": []
  }
 ],
 "metadata": {
  "kernelspec": {
   "display_name": "Python 3",
   "language": "python",
   "name": "python3"
  },
  "language_info": {
   "codemirror_mode": {
    "name": "ipython",
    "version": 3
   },
   "file_extension": ".py",
   "mimetype": "text/x-python",
   "name": "python",
   "nbconvert_exporter": "python",
   "pygments_lexer": "ipython3",
   "version": "3.8.5"
  }
 },
 "nbformat": 4,
 "nbformat_minor": 5
}
