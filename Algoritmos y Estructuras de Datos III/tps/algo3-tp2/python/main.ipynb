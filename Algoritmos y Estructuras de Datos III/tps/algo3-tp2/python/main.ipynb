{
 "cells": [
  {
   "cell_type": "code",
   "execution_count": null,
   "id": "cf933110-c869-4f35-8d76-1827f56edce1",
   "metadata": {
    "scrolled": true
   },
   "outputs": [],
   "source": [
    "!cd ../src && make"
   ]
  },
  {
   "cell_type": "code",
   "execution_count": null,
   "id": "5a28e66d-5bf8-45e2-86a2-c13836cc141a",
   "metadata": {},
   "outputs": [],
   "source": [
    "from commons import ejecutar\n",
    "import matplotlib.pyplot as plt\n",
    "import numpy as np"
   ]
  },
  {
   "cell_type": "code",
   "execution_count": null,
   "id": "022f5e3d-7c20-4432-8dcf-b48f517881af",
   "metadata": {},
   "outputs": [],
   "source": [
    "# Ejemplo para ejecutar una instancia\n",
    "# Resultado obtenido es [tiempo, peso]\n",
    "\n",
    "result = ejecutar('berlin52', 'TSA', 20, 1, 40)\n",
    "print(result)"
   ]
  }
 ],
 "metadata": {
  "kernelspec": {
   "display_name": "Python 3",
   "language": "python",
   "name": "python3"
  },
  "language_info": {
   "codemirror_mode": {
    "name": "ipython",
    "version": 3
   },
   "file_extension": ".py",
   "mimetype": "text/x-python",
   "name": "python",
   "nbconvert_exporter": "python",
   "pygments_lexer": "ipython3",
   "version": "3.8.5"
  }
 },
 "nbformat": 4,
 "nbformat_minor": 5
}
