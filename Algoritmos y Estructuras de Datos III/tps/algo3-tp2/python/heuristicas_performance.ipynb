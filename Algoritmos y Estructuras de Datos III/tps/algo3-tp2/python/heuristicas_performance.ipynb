{
 "cells": [
  {
   "cell_type": "code",
   "execution_count": null,
   "id": "a6d8bd77-644d-4d64-89f8-da4f11d5abf2",
   "metadata": {
    "scrolled": false
   },
   "outputs": [],
   "source": [
    "!cd ../src && make"
   ]
  },
  {
   "cell_type": "code",
   "execution_count": 1,
   "id": "01365f5d-e1d1-41bc-9e88-ce857277fefc",
   "metadata": {},
   "outputs": [],
   "source": [
    "from commons import ejecutar, generar_instancias_performance\n",
    "import matplotlib.pyplot as plt\n",
    "import numpy as np\n",
    "import pandas as pd\n",
    "import seaborn as sns"
   ]
  },
  {
   "cell_type": "code",
   "execution_count": 2,
   "id": "bb8acf02",
   "metadata": {},
   "outputs": [],
   "source": [
    "tiempo_amc = []\n",
    "costo_amc = []\n",
    "tiempo_vmc = []\n",
    "costo_vmc = []\n",
    "tiempo_agm = []\n",
    "costo_agm = []\n",
    "tiempo_ts = []\n",
    "costo_ts = []\n",
    "tiempo_tsa = []\n",
    "costo_tsa = []"
   ]
  },
  {
   "cell_type": "markdown",
   "id": "09da7cd9",
   "metadata": {},
   "source": [
    "## Costo vs Tiempo"
   ]
  },
  {
   "cell_type": "code",
   "execution_count": null,
   "id": "056f6e5a-7277-4eaf-beeb-1b576883fe6b",
   "metadata": {},
   "outputs": [],
   "source": [
    "# Generamos las instancias de experimentacion, serán i grafos de m vértices cada uno.\n",
    "# Se generan en python/inputs_procesados/random_{m}_vertices_{i}.txt\n",
    "\n",
    "m = 50\n",
    "i = 50\n",
    "generar_instancias_performance(m, i)"
   ]
  },
  {
   "cell_type": "code",
   "execution_count": null,
   "id": "be14f170",
   "metadata": {},
   "outputs": [],
   "source": [
    "# Ejecutamos sobre instancias Random de 50 vertices\n",
    "\n",
    "instancias = 30\n",
    "\n",
    "for i in range(instancias):\n",
    "    res = ejecutar(F\"random_50_vertices_{i}\", 'AMC') # [tiempo, peso]\n",
    "    tiempo_amc.append(res[0])\n",
    "    costo_amc.append(res[1])\n",
    "    res = ejecutar(F\"random_50_vertices_{i}\", 'VMC') # [tiempo, peso]\n",
    "    tiempo_vmc.append(res[0])\n",
    "    costo_vmc.append(res[1])\n",
    "    res = ejecutar(F\"random_50_vertices_{i}\", 'AGM') # [tiempo, peso]\n",
    "    tiempo_agm.append(res[0])\n",
    "    costo_agm.append(res[1])\n",
    "    res = ejecutar(F\"random_50_vertices_{i}\", 'TS', 20, 1, 40) # [tiempo, peso]\n",
    "    tiempo_ts.append(res[0])\n",
    "    costo_ts.append(res[1])\n",
    "    res = ejecutar(F\"random_50_vertices_{i}\", 'TSA', 20, 1, 40) # [tiempo, peso]\n",
    "    tiempo_tsa.append(res[0])\n",
    "    costo_tsa.append(res[1])"
   ]
  },
  {
   "cell_type": "code",
   "execution_count": null,
   "id": "3a0647cb-ae59-4154-904d-10032497e74e",
   "metadata": {
    "scrolled": true
   },
   "outputs": [],
   "source": [
    "def graficar_performance():\n",
    "\n",
    "    fig1, ax = plt.subplots()\n",
    "    fig2, bx = plt.subplots()\n",
    "    \n",
    "    ax.scatter(tiempo_amc, costo_amc, c=\"blue\", label=\"AMC\")\n",
    "    ax.scatter(tiempo_vmc, costo_vmc, c=\"red\", label=\"VMC\")\n",
    "    ax.scatter(tiempo_agm, costo_agm, c=\"cyan\", label=\"AGM\")\n",
    "    ax.scatter(tiempo_ts, costo_ts, c=\"green\", label=\"TS\")\n",
    "    ax.scatter(tiempo_tsa, costo_tsa, c=\"orange\", label=\"TSA\")\n",
    "    \n",
    "    bx.scatter(tiempo_amc, costo_amc, c=\"blue\", label=\"AMC\")\n",
    "    bx.scatter(tiempo_vmc, costo_vmc, c=\"red\", label=\"VMC\")\n",
    "    bx.scatter(tiempo_agm, costo_agm, c=\"cyan\", label=\"AGM\")\n",
    "    \n",
    "    ax.legend()\n",
    "    ax.set(xlabel='tiempo (s)', ylabel='Costo',\n",
    "           title='Performance heuristicas')\n",
    "    ax.grid()\n",
    "    \n",
    "    bx.legend()\n",
    "    bx.set(xlabel='tiempo (s)', ylabel='Costo',\n",
    "           title='Performance heuristicas | Acercamiento')\n",
    "    bx.grid()\n",
    "    \n",
    "    #fig1.set_size_inches(8, 5)\n",
    "    \n",
    "    fig1.savefig(\"graficos/performance_algoritmos\")\n",
    "    fig2.savefig(\"graficos/performance_heuristicas\")\n",
    "\n",
    "graficar_performance()"
   ]
  },
  {
   "cell_type": "markdown",
   "id": "9b01e67c",
   "metadata": {},
   "source": [
    "## Tiempo vs Tamaño"
   ]
  },
  {
   "cell_type": "code",
   "execution_count": null,
   "id": "f3563a09",
   "metadata": {},
   "outputs": [],
   "source": [
    "# instancias generadas aleatoriamente\n",
    "# Ejecutamos 5 veces cada instancia y guardamos el promedio de los tiempos\n",
    "\n",
    "cant_por_instancia = 5\n",
    "\n",
    "for i in range(10, 101, 10):\n",
    "    tiempos = []\n",
    "    for j in range(cant_por_instancia):\n",
    "        res = ejecutar(F\"randoms/random_{i}_vertices_0\", 'AMC') # [tiempo, peso]\n",
    "        tiempos.append(res[0])\n",
    "    tiempo_amc.append(np.mean(tiempos))\n",
    "    tiempos = []\n",
    "    for j in range(cant_por_instancia): \n",
    "        res = ejecutar(F\"randoms/random_{i}_vertices_0\", 'VMC') # [tiempo, peso]\n",
    "        tiempos.append(res[0])\n",
    "    tiempo_vmc.append(np.mean(tiempos))\n",
    "    tiempos = []\n",
    "    for j in range(cant_por_instancia):\n",
    "        res = ejecutar(F\"randoms/random_{i}_vertices_0\", 'AGM') # [tiempo, peso]\n",
    "        tiempos.append(res[0])\n",
    "    tiempo_agm.append(np.mean(tiempos))\n",
    "    tiempos = []\n",
    "    for j in range(cant_por_instancia):\n",
    "        res = ejecutar(F\"randoms/random_{i}_vertices_0\", 'TS', 20, 1, 40) # [tiempo, peso]\n",
    "        tiempos.append(res[0])\n",
    "    tiempo_ts.append(np.mean(tiempos))\n",
    "    tiempos = []\n",
    "    for j in range(cant_por_instancia):\n",
    "        res = ejecutar(F\"randoms/random_{i}_vertices_0\", 'TSA', 20, 1, 40) # [tiempo, peso]\n",
    "        tiempos.append(res[0])\n",
    "    tiempo_tsa.append(np.mean(tiempos))"
   ]
  },
  {
   "cell_type": "code",
   "execution_count": null,
   "id": "b64e4ab4",
   "metadata": {
    "scrolled": true
   },
   "outputs": [],
   "source": [
    "def graficar_tiempos():\n",
    "    t = [i for i in range(10, 101, 10)]\n",
    "\n",
    "    fig1, ax = plt.subplots()\n",
    "    fig2, bx = plt.subplots()\n",
    "    \n",
    "    ax.plot(t, tiempo_amc, label=\"AMC\")\n",
    "    ax.plot(t, tiempo_vmc, label=\"VMC\")\n",
    "    ax.plot(t, tiempo_agm, label=\"AGM\")\n",
    "    ax.plot(t, tiempo_tsa, label=\"TSA\")\n",
    "    \n",
    "    bx.plot(t, tiempo_ts, label=\"TS\")\n",
    "    bx.plot(t, tiempo_tsa, label=\"TSA\")\n",
    "    \n",
    "    ax.legend()\n",
    "    ax.set(xlabel='Tamaño', ylabel='Tiempo (s)',\n",
    "           title='Tiempos de ejecución heuristicas')\n",
    "    ax.grid()\n",
    "    \n",
    "    bx.legend()\n",
    "    bx.set(xlabel='Tamaño', ylabel='Tiempo (s)',\n",
    "           title='Tiempos de ejecución metaheuristicas')\n",
    "    bx.grid()\n",
    "    \n",
    "    fig1.savefig(\"graficos/tiempos_algoritmos\")\n",
    "    fig2.savefig(\"graficos/tiempos_metaheuristicas\")\n",
    "    \n",
    "    plt.show()\n",
    "\n",
    "graficar_tiempos()"
   ]
  },
  {
   "cell_type": "markdown",
   "id": "b9716178",
   "metadata": {},
   "source": [
    "## Costo vs Tamaño"
   ]
  },
  {
   "cell_type": "code",
   "execution_count": 4,
   "id": "25a207f4",
   "metadata": {},
   "outputs": [],
   "source": [
    "# Generamos las instancias de experimentacion, serán i grafos de tamaño variado.\n",
    "# Se generan en python/inputs_procesados/random_{m}_vertices_{i}.txt\n",
    "\n",
    "m = [i for i in range(10, 101, 10)] # Tamaño de las intancias\n",
    "i = 50\n",
    "for j in m:\n",
    "    generar_instancias_performance(j, i)"
   ]
  },
  {
   "cell_type": "code",
   "execution_count": 5,
   "id": "c90fd207",
   "metadata": {},
   "outputs": [],
   "source": [
    "# instancias generadas aleatoriamente\n",
    "# Ejecutamos 30 veces cada instancia, guardando costos y tiempos\n",
    "\n",
    "instancias = 30\n",
    "\n",
    "for i in m:\n",
    "    # Ejecutamos AMC\n",
    "    for j in range(instancias):   \n",
    "        res = ejecutar(F\"randoms/random_{i}_vertices_{j}\", 'AMC') # [tiempo, peso]\n",
    "        tiempo_amc.append(res[0])\n",
    "        costo_amc.append(res[1])\n",
    "    # Ejecutamos TSA\n",
    "    for j in range(instancias):   \n",
    "        res = ejecutar(F\"randoms/random_{i}_vertices_{j}\", 'TSA', 20, 1, 40) # [tiempo, peso]  \n",
    "        tiempo_tsa.append(res[0])\n",
    "        costo_tsa.append(res[1])"
   ]
  },
  {
   "cell_type": "code",
   "execution_count": 8,
   "id": "eee6c49b",
   "metadata": {},
   "outputs": [
    {
     "data": {
      "image/png": "[encoded data removed]",
      "text/plain": [
       "<Figure size 432x288 with 1 Axes>"
      ]
     },
     "metadata": {
      "needs_background": "light"
     },
     "output_type": "display_data"
    }
   ],
   "source": [
    "t = [i for i in range(10, 101, 10)]\n",
    "\n",
    "grupos = []\n",
    "\n",
    "for i in range(len(t)):\n",
    "    for j in range(instancias):\n",
    "        grupos.append(t[i])\n",
    "\n",
    "df = pd.DataFrame({'tamaño': grupos,\\\n",
    "                  'TSA': costo_tsa,'AMC': costo_amc})\n",
    "df = df[['tamaño','TSA','AMC']]\n",
    "\n",
    "dd=pd.melt(df,id_vars=['tamaño'],value_vars=['TSA','AMC'],var_name='heuristicas')\n",
    "\n",
    "sns_plot = sns.boxplot(x='tamaño',y='value',data=dd,hue='heuristicas')\n",
    "\n",
    "fig = sns_plot.get_figure()\n",
    "fig.savefig(\"graficos/boxplot.png\")\n"
   ]
  }
 ],
 "metadata": {
  "kernelspec": {
   "display_name": "Python 3",
   "language": "python",
   "name": "python3"
  },
  "language_info": {
   "codemirror_mode": {
    "name": "ipython",
    "version": 3
   },
   "file_extension": ".py",
   "mimetype": "text/x-python",
   "name": "python",
   "nbconvert_exporter": "python",
   "pygments_lexer": "ipython3",
   "version": "3.8.5"
  }
 },
 "nbformat": 4,
 "nbformat_minor": 5
}
