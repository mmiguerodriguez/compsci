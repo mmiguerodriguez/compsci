{
 "cells": [
  {
   "cell_type": "markdown",
   "metadata": {},
   "source": [
    "# Generador de instancias\n",
    "En este notebook está el código para generar los sets de instancias que se usan para experimentar.\n",
    "- Estas instancias van a ser guardadas en la carpeta __instancias__.\n",
    "- Cada set estará en su propia carpeta y tendrá un archivo _indice.csv_ que contendrá información sobre las instancias."
   ]
  },
  {
   "cell_type": "code",
   "execution_count": null,
   "metadata": {},
   "outputs": [],
   "source": [
    "import random, math\n",
    "import pandas as pd\n",
    "import numpy as np\n",
    "from RandomWordGenerator import RandomWord"
   ]
  },
  {
   "cell_type": "code",
   "execution_count": null,
   "metadata": {},
   "outputs": [],
   "source": [
    "def save_instance(dataset, instance_name, Palabra):\n",
    "    with open(F\"instancias/{dataset}/{instance_name}.txt\", \"w\") as f:\n",
    "        for j in Palabra:\n",
    "            print(j, file=f, end=\" \\n\")\n",
    "\n",
    "def save_index(dataset, instances):\n",
    "    with open(F\"instancias/{dataset}/instances.txt\", \"w\") as f:\n",
    "        for instance in instances: \n",
    "            print(instance, file=f)"
   ]
  },
  {
   "cell_type": "markdown",
   "metadata": {},
   "source": [
    "## Dataset 1\n",
    "Generamos las instancias que componen a los peores casos de ejecucion. Estos son los que tienen palabras que caen siempre sobre el mismo bucket."
   ]
  },
  {
   "cell_type": "code",
   "execution_count": null,
   "metadata": {},
   "outputs": [],
   "source": [
    "letra = \"a\"\n",
    "longitud_archivo = 1000\n",
    "palabras = [\"\" for i in range(longitud_archivo)]\n",
    "filas_indice = []\n",
    "\n",
    "for i in range(0, longitud_archivo):\n",
    "    randomWord = RandomWord(30, True, False, \"\", False)\n",
    "    palabra = letra + randomWord.generate().lower()\n",
    "    palabras[i] = palabra\n",
    "    \n",
    "save_instance('worst-case', 'peorcaso', palabras)\n",
    "filas_indice.append([\"worst-case\", \"peorcaso\", 1, F\"instancias/worst-case/peorcaso.txt\"])\n",
    "pd.DataFrame(filas_indice, columns=[\"dataset\", \"instancia\", \"n\", \"archivo\"]).to_csv(\"instancias/worst-case/indice.csv\", index=False, header=True)\n"
   ]
  },
  {
   "cell_type": "markdown",
   "metadata": {},
   "source": [
    "## Dataset 2\n",
    "Generamos instancias del mejor caso. Son las que contienen palabras distribuidas sobre todos los buckets (1 en cada uno)."
   ]
  },
  {
   "cell_type": "code",
   "execution_count": null,
   "metadata": {},
   "outputs": [],
   "source": [
    "letra = ord('a') # 97 = ASCII de la letra 'a'\n",
    "palabras = [\"\" for i in range(0, 26)]\n",
    "filas_indice = []\n",
    "\n",
    "result = []\n",
    "\n",
    "for i in range(0, 26):\n",
    "    # final_random = RandomWord(5, True, False, \"\", False).generate().lower()\n",
    "    palabras[i] = chr(letra) # + final_random\n",
    "    letra += 1\n",
    "    \n",
    "for i in range(0, 300):\n",
    "    for p in range(0, 26):\n",
    "        final_random = RandomWord(5, True, False, \"\", False).generate().lower()\n",
    "        result.append(palabras[p]  + final_random)\n",
    "\n",
    "    \n",
    "save_instance('best-case', 'mejorcaso', result)\n",
    "filas_indice.append([\"worst-case\", \"peorcaso\", 1, F\"instancias/best-case/mejorcaso.txt\"])\n",
    "pd.DataFrame(filas_indice, columns=[\"dataset\", \"instancia\", \"n\", \"archivo\"]).to_csv(\"instancias/best-case/indice.csv\", index=False, header=True)\n"
   ]
  },
  {
   "cell_type": "markdown",
   "metadata": {},
   "source": [
    "## Dataset 3\n",
    "Generamos instancias con palabras aleatorias. Deberian ser representativas a un caso promedio de uso."
   ]
  },
  {
   "cell_type": "code",
   "execution_count": null,
   "metadata": {},
   "outputs": [],
   "source": [
    "palabras_totales = 10000\n",
    "palabras = [\"\" for i in range(0, palabras_totales)]\n",
    "filas_indice = []\n",
    "\n",
    "for i in range(0, palabras_totales):\n",
    "    palabra = RandomWord(10, True, False, \"\", False).generate().lower()\n",
    "    palabras[i] = palabra\n",
    "    \n",
    "save_instance('random', 'random', palabras)\n",
    "filas_indice.append([\"random\", \"random\", 1, F\"instancias/random/random.txt\"])\n",
    "pd.DataFrame(filas_indice, columns=[\"dataset\", \"instancia\", \"n\", \"archivo\"]).to_csv(\"instancias/random/indice.csv\", index=False, header=True)\n"
   ]
  }
 ],
 "metadata": {
  "kernelspec": {
   "display_name": "Python 3",
   "language": "python",
   "name": "python3"
  },
  "language_info": {
   "codemirror_mode": {
    "name": "ipython",
    "version": 3
   },
   "file_extension": ".py",
   "mimetype": "text/x-python",
   "name": "python",
   "nbconvert_exporter": "python",
   "pygments_lexer": "ipython3",
   "version": "3.8.5"
  }
 },
 "nbformat": 4,
 "nbformat_minor": 4
}
