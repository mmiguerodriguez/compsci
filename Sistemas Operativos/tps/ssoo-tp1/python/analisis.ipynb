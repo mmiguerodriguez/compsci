{
 "cells": [
  {
   "cell_type": "code",
   "execution_count": null,
   "metadata": {},
   "outputs": [],
   "source": [
    "import numpy as np\n",
    "import pandas as pd\n",
    "import seaborn as sns\n",
    "import matplotlib.pyplot as plt"
   ]
  },
  {
   "cell_type": "markdown",
   "metadata": {},
   "source": [
    "# Experimentos del TP de Concurrencia\n",
    "En esta carpeta de Jupyer vamos a poner lo relativo a realizar la experimentación computacional.\n",
    "- **Asegurarse de correr los experimentos en el notebook Experimentos antes de utilizar este notebook.**\n",
    "- En este archivo se lee el output de los experimentos y se muestra de manera gráfica esos resultados."
   ]
  },
  {
   "cell_type": "markdown",
   "metadata": {},
   "source": [
    "# Datasets\n",
    "Para los experimentos se crean las siguientes familias de instancias para evaluar los distintos métodos.\n",
    "1. **Peor caso** \n",
    "2. **Mejor caso** \n",
    "3. **Random** "
   ]
  },
  {
   "cell_type": "markdown",
   "metadata": {},
   "source": [
    "# Experimentos\n",
    "Leemos el dataframe con todos los resultados."
   ]
  },
  {
   "cell_type": "code",
   "execution_count": null,
   "metadata": {},
   "outputs": [],
   "source": [
    "df_resultados = pd.read_csv(\"resultados/resultado.csv\");\n",
    "df_resultados.head()"
   ]
  },
  {
   "cell_type": "markdown",
   "metadata": {},
   "source": [
    "## Experimento 1: Distintos niveles de paralelismo\n",
    "En este experimento lo que queremos observar es que tanto nos mejora la ejecucion de la funciona maximo cuando utilizamos mayor cantidad de threads. "
   ]
  },
  {
   "cell_type": "code",
   "execution_count": null,
   "metadata": {},
   "outputs": [],
   "source": [
    "# Graficamos los tiempos de ejecución de cada dataset en función de n.\n",
    "df_complejidad_FB = df_resultados[df_resultados[\"metodo\"] == \"random\"].copy()\n",
    "fig = sns.lineplot(data=df_complejidad_FB, x = 'cant_threads_maximo', y = 'tiempo_maximo')\n",
    "fig.set(xlabel='threads', ylabel='tiempo (ms)')\n",
    "#plt.savefig(\"graficos/random.svg\")"
   ]
  },
  {
   "cell_type": "code",
   "execution_count": null,
   "metadata": {},
   "outputs": [],
   "source": [
    "# Graficamos los tiempos de ejecución de cada dataset en función de n.\n",
    "df = df_resultados[df_resultados[\"metodo\"] == \"worst-case\"].copy()\n",
    "fig = sns.lineplot(data=df, x = 'cant_threads_maximo', y = 'tiempo_maximo')\n",
    "fig.set(xlabel='threads', ylabel='tiempo (ms)')\n",
    "#plt.savefig(\"graficos/worst-case.svg\")"
   ]
  },
  {
   "cell_type": "code",
   "execution_count": null,
   "metadata": {},
   "outputs": [],
   "source": [
    "# Graficamos los tiempos de ejecución de cada dataset en función de n.\n",
    "df = df_resultados[df_resultados[\"metodo\"] == \"best-case\"].copy()\n",
    "fig = sns.lineplot(data=df, x = 'cant_threads_maximo', y = 'tiempo_maximo')\n",
    "fig.set(xlabel='threads', ylabel='tiempo (ms)')\n",
    "plt.savefig(\"graficos/best-case-300.svg\")"
   ]
  },
  {
   "cell_type": "markdown",
   "metadata": {},
   "source": [
    "## Experimento 2: Tiempo de trabajo de threads\n",
    "En este experimento lo que queremos observar es que tanto trabajan realmente los threads a medida que vamos incrementando la cantidad que utilizamos para calcular el maximo."
   ]
  },
  {
   "cell_type": "code",
   "execution_count": null,
   "metadata": {},
   "outputs": [],
   "source": [
    "import matplotlib\n",
    "import matplotlib.pyplot as plt\n",
    "import ast\n",
    "\n",
    "indices_a_ver = [2,4,6,13]\n",
    "for i in indices_a_ver:\n",
    "    df = df_resultados[(df_resultados[\"metodo\"] == \"random\") & (df_resultados[\"cant_threads_maximo\"] == i)].copy()\n",
    "    y = ast.literal_eval(df['tiempos_threads'].item().replace(' ', ','))\n",
    "    \n",
    "    plt.figure() #this creates a new figure on which your plot will appear\n",
    "    fig = sns.barplot(x = [*range(1, i + 1)], y = y)\n",
    "    fig.set(xlabel='thread', ylabel='tiempo (ms)')\n",
    "    plt.savefig(F\"graficos/random-bar-plot-{i}.png\")\n"
   ]
  }
 ],
 "metadata": {
  "kernelspec": {
   "display_name": "Python 3",
   "language": "python",
   "name": "python3"
  },
  "language_info": {
   "codemirror_mode": {
    "name": "ipython",
    "version": 3
   },
   "file_extension": ".py",
   "mimetype": "text/x-python",
   "name": "python",
   "nbconvert_exporter": "python",
   "pygments_lexer": "ipython3",
   "version": "3.8.5"
  }
 },
 "nbformat": 4,
 "nbformat_minor": 4
}
