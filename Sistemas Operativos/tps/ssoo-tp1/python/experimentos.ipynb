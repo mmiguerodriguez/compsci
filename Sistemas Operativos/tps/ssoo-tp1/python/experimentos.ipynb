{
 "cells": [
  {
   "cell_type": "markdown",
   "metadata": {},
   "source": [
    "# Correr experimentos\n",
    "En este archivo está el código para correr los experimentos y escribir los resultados en archivos CSV.\n",
    "> Los archivos se guardan en la carpeta _resultados_."
   ]
  },
  {
   "cell_type": "code",
   "execution_count": null,
   "metadata": {},
   "outputs": [],
   "source": [
    "import math, subprocess\n",
    "import pandas as pd\n",
    "import numpy as np\n",
    "from IPython.display import display, clear_output"
   ]
  },
  {
   "cell_type": "markdown",
   "metadata": {},
   "source": [
    "A continuación leemos los datasets en dataframes de Pandas."
   ]
  },
  {
   "cell_type": "code",
   "execution_count": null,
   "metadata": {},
   "outputs": [],
   "source": [
    "def leer_instancia(path_instancia):\n",
    "    with open(path_instancia, \"r\") as f:\n",
    "        return f.read();\n",
    "\n",
    "df_random_peor_caso = pd.read_csv(\"instancias/rand-bad/indice.csv\");\n",
    "df_random_repe = pd.read_csv(\"instancias/rand-good/indice.csv\");\n",
    "df_random_worst_case = pd.read_csv(\"instancias/worst-case/indice.csv\");\n",
    "df_random_best_case = pd.read_csv(\"instancias/best-case/indice.csv\");\n",
    "df_random = pd.read_csv(\"instancias/random/indice.csv\");"
   ]
  },
  {
   "cell_type": "markdown",
   "metadata": {},
   "source": [
    "La siguiente función recibe parámetros para procesar la lista de instancias particulares usando ContarPalabras.cpp.\n",
    "Parametros:\n",
    "- **Th_l**: Cantidad de threads lectura.\n",
    "- **Th_m**: Cantidad maxima de threads a usar en paralelo.\n",
    "- **List_Arch**: Lista de archivos sobre las cuales se puede buscar la maxima cantidad de apariciones. (#List>0)"
   ]
  },
  {
   "cell_type": "code",
   "execution_count": null,
   "metadata": {},
   "outputs": [],
   "source": [
    "def correr_experimento(Th_l, Th_m, List_Arch):\n",
    "    \n",
    "    instancias = [\"\" for i in range (len(List_Arch)+3)]\n",
    "    # Leo las instancias de la lista de archivos.\n",
    "    for i in range(len(List_Arch)):\n",
    "        instancias[i+3] = List_Arch[i]\n",
    "        \n",
    "    instancias[0] = \"../build/ContarPalabras\"\n",
    "    instancias[1] = str(Th_l)\n",
    "    instancias[2] = str(Th_m)\n",
    "    \n",
    "    # Crear proceso para ejecutar el codigo.\n",
    "    #process = subprocess.Popen(['xargs', '-0', '../build/ContarPalabras'], stderr=subprocess.PIPE, stdout=subprocess.PIPE, stdin=subprocess.PIPE, universal_newlines = True)\n",
    "    process = subprocess.Popen(instancias, stderr=subprocess.PIPE, stdout=subprocess.PIPE, stdin=subprocess.PIPE, universal_newlines = True)\n",
    "\n",
    "    #print(\"Esta por procesar\")\n",
    "#    out, err = process.communicate('\\0'.join(instancias))\n",
    "    # Correr experimento.\n",
    "    exit_code = process.wait()\n",
    "    \n",
    "    # Verificar que el proceso no fallo.\n",
    "    if exit_code != 0: print(\"FATAL-ERROR\")#raise(F\"Hubo un error en la experimentacion para el algoritmo con la instancia.\")\n",
    "    \n",
    "    # Leer salida de STDERR con los tiempos de ejecucion de cada metodo.\n",
    "    res = process.stderr.read()\n",
    "    \n",
    "    # Leemos la salida\n",
    "    # tiempo_thread1 ... tiempo_threadN \\n\n",
    "    # tiempo_hashmap tiempo_maximo\n",
    "    \n",
    "    tiempos = res.split(\"\\n\")\n",
    "    \n",
    "    tiempos_threads = tiempos[0].split(\" \")\n",
    "    tiempos_importantes = tiempos[1].split(\" \")\n",
    "    \n",
    "    tiempos_threads = [(float(x) / 1e6) for x in tiempos_threads]\n",
    "    \n",
    "    tiempo_hashmap = float(tiempos_importantes[0]) / 1e6\n",
    "    tiempo_maximo = float(tiempos_importantes[1]) / 1e6\n",
    "        \n",
    "    process.stdin.close();\n",
    "    process.stdout.close();\n",
    "    process.stderr.close();\n",
    "    \n",
    "    return [tiempo_hashmap, tiempo_maximo, tiempos_threads]"
   ]
  },
  {
   "cell_type": "markdown",
   "metadata": {},
   "source": [
    "## Corremos los experimentos\n",
    "Vamos a guardar una tabla con las ejecuciones y sus respectivos tiempos."
   ]
  },
  {
   "cell_type": "code",
   "execution_count": null,
   "metadata": {},
   "outputs": [],
   "source": [
    "experimentos = [];"
   ]
  },
  {
   "cell_type": "markdown",
   "metadata": {},
   "source": [
    "## Experimento 1\n",
    "Ejecución peorcaso con cantidad de threads variable"
   ]
  },
  {
   "cell_type": "code",
   "execution_count": null,
   "metadata": {},
   "outputs": [],
   "source": [
    "fila_n = df_random_worst_case.iloc[0]\n",
    "archivos = [fila_n[\"archivo\"]]\n",
    "\n",
    "for cantThreads in range(1, 26 + 1):\n",
    "    experimentos.append([1, cantThreads, archivos, \"worst-case\"])"
   ]
  },
  {
   "cell_type": "markdown",
   "metadata": {},
   "source": [
    "## Experimento 2\n",
    "Ejecución mejorcaso con cantidad de threads variable"
   ]
  },
  {
   "cell_type": "code",
   "execution_count": null,
   "metadata": {},
   "outputs": [],
   "source": [
    "fila_n = df_random_best_case.iloc[0]\n",
    "archivos = [fila_n[\"archivo\"]]\n",
    "\n",
    "for cantThreads in range(1, 26 + 1):\n",
    "    experimentos.append([4, cantThreads, archivos, \"best-case\"])"
   ]
  },
  {
   "cell_type": "markdown",
   "metadata": {},
   "source": [
    "## Experimento 3\n",
    "Ejecución random con cantidad de threads variable"
   ]
  },
  {
   "cell_type": "code",
   "execution_count": null,
   "metadata": {},
   "outputs": [],
   "source": [
    "fila_n = df_random.iloc[0]\n",
    "archivos = [fila_n[\"archivo\"]]\n",
    "\n",
    "for cantThreads in range(1, 26 + 1):\n",
    "    experimentos.append([1, cantThreads, archivos, \"random\"])"
   ]
  },
  {
   "cell_type": "markdown",
   "metadata": {},
   "source": [
    "## Ejecutar los experimentos y guardar los resultados en un archivo CSV.\n",
    "Este paso puede tardar unos minutos hasta terminar de ejecutarse."
   ]
  },
  {
   "cell_type": "code",
   "execution_count": null,
   "metadata": {},
   "outputs": [],
   "source": [
    "columnas = [\"metodo\", \"cant_threads_archivos\", \"cant_threads_maximo\", \"tiempo_hashmap\", \"tiempo_maximo\", \"tiempos_threads\"];\n",
    "filas = [];\n",
    "numero = 1\n",
    "T = 5 # Numero de veces que se ejecuta cada experimento (para mayor fidelidad del tiempo).\n",
    "for experimento in experimentos:\n",
    "    # Voy mostrando que experimento se esta ejecutando.\n",
    "    clear_output(wait=True)\n",
    "    display('Experimento: ' + str(numero) + \"/\" + str(len(experimentos)))\n",
    "    numero += 1\n",
    "    \n",
    "    # Ejecutamos el experimento T veces y obtenemos la mediana.\n",
    "    tiempos = []\n",
    "    tiempos_threads = []\n",
    "    for i in range(0, T):\n",
    "        data = correr_experimento(experimento[0], experimento[1], experimento[2])\n",
    "        tiempos.append([data[0], data[1]])\n",
    "        tiempos_threads.append(data[2])\n",
    "        \n",
    "    tiempo_threads = np.median(tiempos_threads, axis=0)\n",
    "    tiempo = np.median(tiempos, axis=0)\n",
    "    \n",
    "    filas.append([experimento[3], experimento[0], experimento[1], tiempo[0], tiempo[1], tiempo_threads])\n",
    "    \n",
    "df_resultado = pd.DataFrame(filas, columns=columnas);\n",
    "df_resultado.to_csv(\"resultados/resultado.csv\", index=False, header=True);"
   ]
  }
 ],
 "metadata": {
  "kernelspec": {
   "display_name": "Python 3",
   "language": "python",
   "name": "python3"
  },
  "language_info": {
   "codemirror_mode": {
    "name": "ipython",
    "version": 3
   },
   "file_extension": ".py",
   "mimetype": "text/x-python",
   "name": "python",
   "nbconvert_exporter": "python",
   "pygments_lexer": "ipython3",
   "version": "3.8.5"
  }
 },
 "nbformat": 4,
 "nbformat_minor": 4
}
